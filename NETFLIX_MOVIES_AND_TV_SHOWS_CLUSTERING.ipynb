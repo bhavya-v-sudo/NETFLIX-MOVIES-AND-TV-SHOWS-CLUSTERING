{
  "cells": [
    {
      "cell_type": "markdown",
      "metadata": {
        "id": "view-in-github",
        "colab_type": "text"
      },
      "source": [
        "<a href=\"https://colab.research.google.com/github/bhavya-v-sudo/NETFLIX-MOVIES-AND-TV-SHOWS-CLUSTERING/blob/main/NETFLIX_MOVIES_AND_TV_SHOWS_CLUSTERING.ipynb\" target=\"_parent\"><img src=\"https://colab.research.google.com/assets/colab-badge.svg\" alt=\"Open In Colab\"/></a>"
      ]
    },
    {
      "cell_type": "markdown",
      "metadata": {
        "id": "LGcl5Bv9ed6u"
      },
      "source": [
        "# **Problem Statement**"
      ]
    },
    {
      "cell_type": "markdown",
      "metadata": {
        "id": "8M5kyFaVjzXk"
      },
      "source": [
        "This dataset consists of tv shows and movies available on Netflix as of 2019. The dataset is collected from Flixable which is a third-party Netflix search engine.\n",
        "\n",
        "In 2018, they released an interesting report which shows that the number of TV shows on Netflix has nearly tripled since 2010. The streaming service’s number of movies has decreased by more than 2,000 titles since 2010, while its number of TV shows has nearly tripled. It will be interesting to explore what all other insights can be obtained from the same dataset.\n",
        "\n",
        "Integrating this dataset with other external datasets such as IMDB ratings, rotten tomatoes can also provide many interesting findings."
      ]
    },
    {
      "cell_type": "markdown",
      "metadata": {
        "id": "tLx5cJO8hzb1"
      },
      "source": [
        "## <b>In this  project, you are required to do </b>\n",
        "1. Exploratory Data Analysis \n",
        "\n",
        "2. Understanding what type content is available in different countries\n",
        "\n",
        "3. Is Netflix has increasingly focusing on TV rather than movies in recent years.\n",
        "4. Clustering similar content by matching text-based features\n",
        "\n"
      ]
    },
    {
      "cell_type": "markdown",
      "metadata": {
        "id": "AzGDqdC4fZ-b"
      },
      "source": [
        "# **Attribute Information**"
      ]
    },
    {
      "cell_type": "markdown",
      "metadata": {
        "id": "jhfLYargscGV"
      },
      "source": [
        "1. show_id : Unique ID for every Movie / Tv Show\n",
        "\n",
        "2. type : Identifier - A Movie or TV Show\n",
        "\n",
        "3. title : Title of the Movie / Tv Show\n",
        "\n",
        "4. director : Director of the Movie\n",
        "\n",
        "5. cast : Actors involved in the movie / show\n",
        "\n",
        "6. country : Country where the movie / show was produced\n",
        "\n",
        "7. date_added : Date it was added on Netflix\n",
        "\n",
        "8. release_year : Actual Releaseyear of the movie / show\n",
        "\n",
        "9. rating : TV Rating of the movie / show\n",
        "\n",
        "10. duration : Total Duration - in minutes or number of seasons\n",
        "\n",
        "11. listed_in : Genere\n",
        "\n",
        "12. description: The Summary description"
      ]
    },
    {
      "cell_type": "code",
      "execution_count": 1,
      "metadata": {
        "id": "dLjKi1zGzFU-"
      },
      "outputs": [],
      "source": [
        "# Import libraries\n",
        "# Basic libs\n",
        "import pandas as pd\n",
        "import numpy as np\n",
        "\n",
        "# Data Visualization\n",
        "import seaborn as sns\n",
        "import matplotlib.pyplot as plt\n",
        "\n",
        "%matplotlib inline\n",
        "# Ignore  the warnings\n",
        "import warnings\n",
        "warnings.simplefilter(action=\"ignore\", category=FutureWarning)\n",
        "\n",
        "from sklearn.feature_extraction.text import CountVectorizer, TfidfVectorizer\n",
        "from sklearn.model_selection import train_test_split\n",
        "from nltk.corpus import stopwords\n",
        "from nltk.stem.snowball import SnowballStemmer\n",
        "# GridSearchCV\n",
        "from sklearn.model_selection import GridSearchCV\n",
        "from sklearn.decomposition import LatentDirichletAllocation\n",
        "\n",
        "# kmeans\n",
        "from sklearn.preprocessing import StandardScaler\n",
        "from sklearn.cluster import KMeans"
      ]
    },
    {
      "cell_type": "markdown",
      "metadata": {
        "id": "4t6Fa29qoVdY"
      },
      "source": [
        "### **Data Set Overview**"
      ]
    },
    {
      "cell_type": "code",
      "execution_count": 2,
      "metadata": {
        "colab": {
          "base_uri": "https://localhost:8080/"
        },
        "id": "89-t9t1RoWPC",
        "outputId": "b3d2ae42-5d80-4451-db75-744bd516b627"
      },
      "outputs": [
        {
          "output_type": "stream",
          "name": "stdout",
          "text": [
            "Mounted at /content/drive\n"
          ]
        }
      ],
      "source": [
        "# Mount the drive\n",
        "from google.colab import drive\n",
        "drive.mount('/content/drive')"
      ]
    },
    {
      "cell_type": "markdown",
      "metadata": {
        "id": "UV4x4f5-ocmR"
      },
      "source": [
        "**Load the data**"
      ]
    },
    {
      "cell_type": "code",
      "execution_count": 3,
      "metadata": {
        "id": "KPCX674soaTY"
      },
      "outputs": [],
      "source": [
        "# Read the data\n",
        "# converts csv file to DataFrame.\n",
        "netflix_df = pd.read_csv('/content/drive/MyDrive/capstone project - 4/NETFLIX MOVIES AND TV SHOWS CLUSTERING.csv')"
      ]
    },
    {
      "cell_type": "markdown",
      "metadata": {
        "id": "tvc-YZ92omXN"
      },
      "source": [
        "**First Five Observations**"
      ]
    },
    {
      "cell_type": "code",
      "execution_count": 4,
      "metadata": {
        "colab": {
          "base_uri": "https://localhost:8080/",
          "height": 424
        },
        "id": "2QDDdeL3oof9",
        "outputId": "6e1c7d46-c4c5-4d61-b889-e403c91a5626"
      },
      "outputs": [
        {
          "output_type": "execute_result",
          "data": {
            "text/plain": [
              "  show_id     type  title           director  \\\n",
              "0      s1  TV Show     3%                NaN   \n",
              "1      s2    Movie   7:19  Jorge Michel Grau   \n",
              "2      s3    Movie  23:59       Gilbert Chan   \n",
              "3      s4    Movie      9        Shane Acker   \n",
              "4      s5    Movie     21     Robert Luketic   \n",
              "\n",
              "                                                cast        country  \\\n",
              "0  João Miguel, Bianca Comparato, Michel Gomes, R...         Brazil   \n",
              "1  Demián Bichir, Héctor Bonilla, Oscar Serrano, ...         Mexico   \n",
              "2  Tedd Chan, Stella Chung, Henley Hii, Lawrence ...      Singapore   \n",
              "3  Elijah Wood, John C. Reilly, Jennifer Connelly...  United States   \n",
              "4  Jim Sturgess, Kevin Spacey, Kate Bosworth, Aar...  United States   \n",
              "\n",
              "          date_added  release_year rating   duration  \\\n",
              "0    August 14, 2020          2020  TV-MA  4 Seasons   \n",
              "1  December 23, 2016          2016  TV-MA     93 min   \n",
              "2  December 20, 2018          2011      R     78 min   \n",
              "3  November 16, 2017          2009  PG-13     80 min   \n",
              "4    January 1, 2020          2008  PG-13    123 min   \n",
              "\n",
              "                                           listed_in  \\\n",
              "0  International TV Shows, TV Dramas, TV Sci-Fi &...   \n",
              "1                       Dramas, International Movies   \n",
              "2                Horror Movies, International Movies   \n",
              "3  Action & Adventure, Independent Movies, Sci-Fi...   \n",
              "4                                             Dramas   \n",
              "\n",
              "                                         description  \n",
              "0  In a future where the elite inhabit an island ...  \n",
              "1  After a devastating earthquake hits Mexico Cit...  \n",
              "2  When an army recruit is found dead, his fellow...  \n",
              "3  In a postapocalyptic world, rag-doll robots hi...  \n",
              "4  A brilliant group of students become card-coun...  "
            ],
            "text/html": [
              "\n",
              "  <div id=\"df-6d276721-bdcf-4ee9-9f48-dda926f5abbe\">\n",
              "    <div class=\"colab-df-container\">\n",
              "      <div>\n",
              "<style scoped>\n",
              "    .dataframe tbody tr th:only-of-type {\n",
              "        vertical-align: middle;\n",
              "    }\n",
              "\n",
              "    .dataframe tbody tr th {\n",
              "        vertical-align: top;\n",
              "    }\n",
              "\n",
              "    .dataframe thead th {\n",
              "        text-align: right;\n",
              "    }\n",
              "</style>\n",
              "<table border=\"1\" class=\"dataframe\">\n",
              "  <thead>\n",
              "    <tr style=\"text-align: right;\">\n",
              "      <th></th>\n",
              "      <th>show_id</th>\n",
              "      <th>type</th>\n",
              "      <th>title</th>\n",
              "      <th>director</th>\n",
              "      <th>cast</th>\n",
              "      <th>country</th>\n",
              "      <th>date_added</th>\n",
              "      <th>release_year</th>\n",
              "      <th>rating</th>\n",
              "      <th>duration</th>\n",
              "      <th>listed_in</th>\n",
              "      <th>description</th>\n",
              "    </tr>\n",
              "  </thead>\n",
              "  <tbody>\n",
              "    <tr>\n",
              "      <th>0</th>\n",
              "      <td>s1</td>\n",
              "      <td>TV Show</td>\n",
              "      <td>3%</td>\n",
              "      <td>NaN</td>\n",
              "      <td>João Miguel, Bianca Comparato, Michel Gomes, R...</td>\n",
              "      <td>Brazil</td>\n",
              "      <td>August 14, 2020</td>\n",
              "      <td>2020</td>\n",
              "      <td>TV-MA</td>\n",
              "      <td>4 Seasons</td>\n",
              "      <td>International TV Shows, TV Dramas, TV Sci-Fi &amp;...</td>\n",
              "      <td>In a future where the elite inhabit an island ...</td>\n",
              "    </tr>\n",
              "    <tr>\n",
              "      <th>1</th>\n",
              "      <td>s2</td>\n",
              "      <td>Movie</td>\n",
              "      <td>7:19</td>\n",
              "      <td>Jorge Michel Grau</td>\n",
              "      <td>Demián Bichir, Héctor Bonilla, Oscar Serrano, ...</td>\n",
              "      <td>Mexico</td>\n",
              "      <td>December 23, 2016</td>\n",
              "      <td>2016</td>\n",
              "      <td>TV-MA</td>\n",
              "      <td>93 min</td>\n",
              "      <td>Dramas, International Movies</td>\n",
              "      <td>After a devastating earthquake hits Mexico Cit...</td>\n",
              "    </tr>\n",
              "    <tr>\n",
              "      <th>2</th>\n",
              "      <td>s3</td>\n",
              "      <td>Movie</td>\n",
              "      <td>23:59</td>\n",
              "      <td>Gilbert Chan</td>\n",
              "      <td>Tedd Chan, Stella Chung, Henley Hii, Lawrence ...</td>\n",
              "      <td>Singapore</td>\n",
              "      <td>December 20, 2018</td>\n",
              "      <td>2011</td>\n",
              "      <td>R</td>\n",
              "      <td>78 min</td>\n",
              "      <td>Horror Movies, International Movies</td>\n",
              "      <td>When an army recruit is found dead, his fellow...</td>\n",
              "    </tr>\n",
              "    <tr>\n",
              "      <th>3</th>\n",
              "      <td>s4</td>\n",
              "      <td>Movie</td>\n",
              "      <td>9</td>\n",
              "      <td>Shane Acker</td>\n",
              "      <td>Elijah Wood, John C. Reilly, Jennifer Connelly...</td>\n",
              "      <td>United States</td>\n",
              "      <td>November 16, 2017</td>\n",
              "      <td>2009</td>\n",
              "      <td>PG-13</td>\n",
              "      <td>80 min</td>\n",
              "      <td>Action &amp; Adventure, Independent Movies, Sci-Fi...</td>\n",
              "      <td>In a postapocalyptic world, rag-doll robots hi...</td>\n",
              "    </tr>\n",
              "    <tr>\n",
              "      <th>4</th>\n",
              "      <td>s5</td>\n",
              "      <td>Movie</td>\n",
              "      <td>21</td>\n",
              "      <td>Robert Luketic</td>\n",
              "      <td>Jim Sturgess, Kevin Spacey, Kate Bosworth, Aar...</td>\n",
              "      <td>United States</td>\n",
              "      <td>January 1, 2020</td>\n",
              "      <td>2008</td>\n",
              "      <td>PG-13</td>\n",
              "      <td>123 min</td>\n",
              "      <td>Dramas</td>\n",
              "      <td>A brilliant group of students become card-coun...</td>\n",
              "    </tr>\n",
              "  </tbody>\n",
              "</table>\n",
              "</div>\n",
              "      <button class=\"colab-df-convert\" onclick=\"convertToInteractive('df-6d276721-bdcf-4ee9-9f48-dda926f5abbe')\"\n",
              "              title=\"Convert this dataframe to an interactive table.\"\n",
              "              style=\"display:none;\">\n",
              "        \n",
              "  <svg xmlns=\"http://www.w3.org/2000/svg\" height=\"24px\"viewBox=\"0 0 24 24\"\n",
              "       width=\"24px\">\n",
              "    <path d=\"M0 0h24v24H0V0z\" fill=\"none\"/>\n",
              "    <path d=\"M18.56 5.44l.94 2.06.94-2.06 2.06-.94-2.06-.94-.94-2.06-.94 2.06-2.06.94zm-11 1L8.5 8.5l.94-2.06 2.06-.94-2.06-.94L8.5 2.5l-.94 2.06-2.06.94zm10 10l.94 2.06.94-2.06 2.06-.94-2.06-.94-.94-2.06-.94 2.06-2.06.94z\"/><path d=\"M17.41 7.96l-1.37-1.37c-.4-.4-.92-.59-1.43-.59-.52 0-1.04.2-1.43.59L10.3 9.45l-7.72 7.72c-.78.78-.78 2.05 0 2.83L4 21.41c.39.39.9.59 1.41.59.51 0 1.02-.2 1.41-.59l7.78-7.78 2.81-2.81c.8-.78.8-2.07 0-2.86zM5.41 20L4 18.59l7.72-7.72 1.47 1.35L5.41 20z\"/>\n",
              "  </svg>\n",
              "      </button>\n",
              "      \n",
              "  <style>\n",
              "    .colab-df-container {\n",
              "      display:flex;\n",
              "      flex-wrap:wrap;\n",
              "      gap: 12px;\n",
              "    }\n",
              "\n",
              "    .colab-df-convert {\n",
              "      background-color: #E8F0FE;\n",
              "      border: none;\n",
              "      border-radius: 50%;\n",
              "      cursor: pointer;\n",
              "      display: none;\n",
              "      fill: #1967D2;\n",
              "      height: 32px;\n",
              "      padding: 0 0 0 0;\n",
              "      width: 32px;\n",
              "    }\n",
              "\n",
              "    .colab-df-convert:hover {\n",
              "      background-color: #E2EBFA;\n",
              "      box-shadow: 0px 1px 2px rgba(60, 64, 67, 0.3), 0px 1px 3px 1px rgba(60, 64, 67, 0.15);\n",
              "      fill: #174EA6;\n",
              "    }\n",
              "\n",
              "    [theme=dark] .colab-df-convert {\n",
              "      background-color: #3B4455;\n",
              "      fill: #D2E3FC;\n",
              "    }\n",
              "\n",
              "    [theme=dark] .colab-df-convert:hover {\n",
              "      background-color: #434B5C;\n",
              "      box-shadow: 0px 1px 3px 1px rgba(0, 0, 0, 0.15);\n",
              "      filter: drop-shadow(0px 1px 2px rgba(0, 0, 0, 0.3));\n",
              "      fill: #FFFFFF;\n",
              "    }\n",
              "  </style>\n",
              "\n",
              "      <script>\n",
              "        const buttonEl =\n",
              "          document.querySelector('#df-6d276721-bdcf-4ee9-9f48-dda926f5abbe button.colab-df-convert');\n",
              "        buttonEl.style.display =\n",
              "          google.colab.kernel.accessAllowed ? 'block' : 'none';\n",
              "\n",
              "        async function convertToInteractive(key) {\n",
              "          const element = document.querySelector('#df-6d276721-bdcf-4ee9-9f48-dda926f5abbe');\n",
              "          const dataTable =\n",
              "            await google.colab.kernel.invokeFunction('convertToInteractive',\n",
              "                                                     [key], {});\n",
              "          if (!dataTable) return;\n",
              "\n",
              "          const docLinkHtml = 'Like what you see? Visit the ' +\n",
              "            '<a target=\"_blank\" href=https://colab.research.google.com/notebooks/data_table.ipynb>data table notebook</a>'\n",
              "            + ' to learn more about interactive tables.';\n",
              "          element.innerHTML = '';\n",
              "          dataTable['output_type'] = 'display_data';\n",
              "          await google.colab.output.renderOutput(dataTable, element);\n",
              "          const docLink = document.createElement('div');\n",
              "          docLink.innerHTML = docLinkHtml;\n",
              "          element.appendChild(docLink);\n",
              "        }\n",
              "      </script>\n",
              "    </div>\n",
              "  </div>\n",
              "  "
            ]
          },
          "metadata": {},
          "execution_count": 4
        }
      ],
      "source": [
        "# Observing the first five observations using head()\n",
        "netflix_df.head()"
      ]
    },
    {
      "cell_type": "markdown",
      "metadata": {
        "id": "aW3ahUVdoyay"
      },
      "source": [
        "OBSERVATION:\n",
        "\n",
        "We can notice the dataset has Nan values. This looks like a typical movies/TV shows dataset without user ratings."
      ]
    },
    {
      "cell_type": "markdown",
      "metadata": {
        "id": "Pvq932Wro7XE"
      },
      "source": [
        "**Last Five Observations**"
      ]
    },
    {
      "cell_type": "code",
      "execution_count": 5,
      "metadata": {
        "colab": {
          "base_uri": "https://localhost:8080/",
          "height": 562
        },
        "id": "aAyyD2ZvozOU",
        "outputId": "829925cd-9cc1-49d2-db88-b942972fb730"
      },
      "outputs": [
        {
          "output_type": "execute_result",
          "data": {
            "text/plain": [
              "     show_id     type                                    title     director  \\\n",
              "7782   s7783    Movie                                     Zozo  Josef Fares   \n",
              "7783   s7784    Movie                                   Zubaan  Mozez Singh   \n",
              "7784   s7785    Movie                        Zulu Man in Japan          NaN   \n",
              "7785   s7786  TV Show                    Zumbo's Just Desserts          NaN   \n",
              "7786   s7787    Movie  ZZ TOP: THAT LITTLE OL' BAND FROM TEXAS     Sam Dunn   \n",
              "\n",
              "                                                   cast  \\\n",
              "7782  Imad Creidi, Antoinette Turk, Elias Gergi, Car...   \n",
              "7783  Vicky Kaushal, Sarah-Jane Dias, Raaghav Chanan...   \n",
              "7784                                            Nasty C   \n",
              "7785                         Adriano Zumbo, Rachel Khoo   \n",
              "7786                                                NaN   \n",
              "\n",
              "                                                country          date_added  \\\n",
              "7782  Sweden, Czech Republic, United Kingdom, Denmar...    October 19, 2020   \n",
              "7783                                              India       March 2, 2019   \n",
              "7784                                                NaN  September 25, 2020   \n",
              "7785                                          Australia    October 31, 2020   \n",
              "7786              United Kingdom, Canada, United States       March 1, 2020   \n",
              "\n",
              "      release_year rating  duration  \\\n",
              "7782          2005  TV-MA    99 min   \n",
              "7783          2015  TV-14   111 min   \n",
              "7784          2019  TV-MA    44 min   \n",
              "7785          2019  TV-PG  1 Season   \n",
              "7786          2019  TV-MA    90 min   \n",
              "\n",
              "                                              listed_in  \\\n",
              "7782                       Dramas, International Movies   \n",
              "7783     Dramas, International Movies, Music & Musicals   \n",
              "7784  Documentaries, International Movies, Music & M...   \n",
              "7785                 International TV Shows, Reality TV   \n",
              "7786                    Documentaries, Music & Musicals   \n",
              "\n",
              "                                            description  \n",
              "7782  When Lebanon's Civil War deprives Zozo of his ...  \n",
              "7783  A scrappy but poor boy worms his way into a ty...  \n",
              "7784  In this documentary, South African rapper Nast...  \n",
              "7785  Dessert wizard Adriano Zumbo looks for the nex...  \n",
              "7786  This documentary delves into the mystique behi...  "
            ],
            "text/html": [
              "\n",
              "  <div id=\"df-85d67d11-f81f-4c1f-b38b-009ed3ade3ab\">\n",
              "    <div class=\"colab-df-container\">\n",
              "      <div>\n",
              "<style scoped>\n",
              "    .dataframe tbody tr th:only-of-type {\n",
              "        vertical-align: middle;\n",
              "    }\n",
              "\n",
              "    .dataframe tbody tr th {\n",
              "        vertical-align: top;\n",
              "    }\n",
              "\n",
              "    .dataframe thead th {\n",
              "        text-align: right;\n",
              "    }\n",
              "</style>\n",
              "<table border=\"1\" class=\"dataframe\">\n",
              "  <thead>\n",
              "    <tr style=\"text-align: right;\">\n",
              "      <th></th>\n",
              "      <th>show_id</th>\n",
              "      <th>type</th>\n",
              "      <th>title</th>\n",
              "      <th>director</th>\n",
              "      <th>cast</th>\n",
              "      <th>country</th>\n",
              "      <th>date_added</th>\n",
              "      <th>release_year</th>\n",
              "      <th>rating</th>\n",
              "      <th>duration</th>\n",
              "      <th>listed_in</th>\n",
              "      <th>description</th>\n",
              "    </tr>\n",
              "  </thead>\n",
              "  <tbody>\n",
              "    <tr>\n",
              "      <th>7782</th>\n",
              "      <td>s7783</td>\n",
              "      <td>Movie</td>\n",
              "      <td>Zozo</td>\n",
              "      <td>Josef Fares</td>\n",
              "      <td>Imad Creidi, Antoinette Turk, Elias Gergi, Car...</td>\n",
              "      <td>Sweden, Czech Republic, United Kingdom, Denmar...</td>\n",
              "      <td>October 19, 2020</td>\n",
              "      <td>2005</td>\n",
              "      <td>TV-MA</td>\n",
              "      <td>99 min</td>\n",
              "      <td>Dramas, International Movies</td>\n",
              "      <td>When Lebanon's Civil War deprives Zozo of his ...</td>\n",
              "    </tr>\n",
              "    <tr>\n",
              "      <th>7783</th>\n",
              "      <td>s7784</td>\n",
              "      <td>Movie</td>\n",
              "      <td>Zubaan</td>\n",
              "      <td>Mozez Singh</td>\n",
              "      <td>Vicky Kaushal, Sarah-Jane Dias, Raaghav Chanan...</td>\n",
              "      <td>India</td>\n",
              "      <td>March 2, 2019</td>\n",
              "      <td>2015</td>\n",
              "      <td>TV-14</td>\n",
              "      <td>111 min</td>\n",
              "      <td>Dramas, International Movies, Music &amp; Musicals</td>\n",
              "      <td>A scrappy but poor boy worms his way into a ty...</td>\n",
              "    </tr>\n",
              "    <tr>\n",
              "      <th>7784</th>\n",
              "      <td>s7785</td>\n",
              "      <td>Movie</td>\n",
              "      <td>Zulu Man in Japan</td>\n",
              "      <td>NaN</td>\n",
              "      <td>Nasty C</td>\n",
              "      <td>NaN</td>\n",
              "      <td>September 25, 2020</td>\n",
              "      <td>2019</td>\n",
              "      <td>TV-MA</td>\n",
              "      <td>44 min</td>\n",
              "      <td>Documentaries, International Movies, Music &amp; M...</td>\n",
              "      <td>In this documentary, South African rapper Nast...</td>\n",
              "    </tr>\n",
              "    <tr>\n",
              "      <th>7785</th>\n",
              "      <td>s7786</td>\n",
              "      <td>TV Show</td>\n",
              "      <td>Zumbo's Just Desserts</td>\n",
              "      <td>NaN</td>\n",
              "      <td>Adriano Zumbo, Rachel Khoo</td>\n",
              "      <td>Australia</td>\n",
              "      <td>October 31, 2020</td>\n",
              "      <td>2019</td>\n",
              "      <td>TV-PG</td>\n",
              "      <td>1 Season</td>\n",
              "      <td>International TV Shows, Reality TV</td>\n",
              "      <td>Dessert wizard Adriano Zumbo looks for the nex...</td>\n",
              "    </tr>\n",
              "    <tr>\n",
              "      <th>7786</th>\n",
              "      <td>s7787</td>\n",
              "      <td>Movie</td>\n",
              "      <td>ZZ TOP: THAT LITTLE OL' BAND FROM TEXAS</td>\n",
              "      <td>Sam Dunn</td>\n",
              "      <td>NaN</td>\n",
              "      <td>United Kingdom, Canada, United States</td>\n",
              "      <td>March 1, 2020</td>\n",
              "      <td>2019</td>\n",
              "      <td>TV-MA</td>\n",
              "      <td>90 min</td>\n",
              "      <td>Documentaries, Music &amp; Musicals</td>\n",
              "      <td>This documentary delves into the mystique behi...</td>\n",
              "    </tr>\n",
              "  </tbody>\n",
              "</table>\n",
              "</div>\n",
              "      <button class=\"colab-df-convert\" onclick=\"convertToInteractive('df-85d67d11-f81f-4c1f-b38b-009ed3ade3ab')\"\n",
              "              title=\"Convert this dataframe to an interactive table.\"\n",
              "              style=\"display:none;\">\n",
              "        \n",
              "  <svg xmlns=\"http://www.w3.org/2000/svg\" height=\"24px\"viewBox=\"0 0 24 24\"\n",
              "       width=\"24px\">\n",
              "    <path d=\"M0 0h24v24H0V0z\" fill=\"none\"/>\n",
              "    <path d=\"M18.56 5.44l.94 2.06.94-2.06 2.06-.94-2.06-.94-.94-2.06-.94 2.06-2.06.94zm-11 1L8.5 8.5l.94-2.06 2.06-.94-2.06-.94L8.5 2.5l-.94 2.06-2.06.94zm10 10l.94 2.06.94-2.06 2.06-.94-2.06-.94-.94-2.06-.94 2.06-2.06.94z\"/><path d=\"M17.41 7.96l-1.37-1.37c-.4-.4-.92-.59-1.43-.59-.52 0-1.04.2-1.43.59L10.3 9.45l-7.72 7.72c-.78.78-.78 2.05 0 2.83L4 21.41c.39.39.9.59 1.41.59.51 0 1.02-.2 1.41-.59l7.78-7.78 2.81-2.81c.8-.78.8-2.07 0-2.86zM5.41 20L4 18.59l7.72-7.72 1.47 1.35L5.41 20z\"/>\n",
              "  </svg>\n",
              "      </button>\n",
              "      \n",
              "  <style>\n",
              "    .colab-df-container {\n",
              "      display:flex;\n",
              "      flex-wrap:wrap;\n",
              "      gap: 12px;\n",
              "    }\n",
              "\n",
              "    .colab-df-convert {\n",
              "      background-color: #E8F0FE;\n",
              "      border: none;\n",
              "      border-radius: 50%;\n",
              "      cursor: pointer;\n",
              "      display: none;\n",
              "      fill: #1967D2;\n",
              "      height: 32px;\n",
              "      padding: 0 0 0 0;\n",
              "      width: 32px;\n",
              "    }\n",
              "\n",
              "    .colab-df-convert:hover {\n",
              "      background-color: #E2EBFA;\n",
              "      box-shadow: 0px 1px 2px rgba(60, 64, 67, 0.3), 0px 1px 3px 1px rgba(60, 64, 67, 0.15);\n",
              "      fill: #174EA6;\n",
              "    }\n",
              "\n",
              "    [theme=dark] .colab-df-convert {\n",
              "      background-color: #3B4455;\n",
              "      fill: #D2E3FC;\n",
              "    }\n",
              "\n",
              "    [theme=dark] .colab-df-convert:hover {\n",
              "      background-color: #434B5C;\n",
              "      box-shadow: 0px 1px 3px 1px rgba(0, 0, 0, 0.15);\n",
              "      filter: drop-shadow(0px 1px 2px rgba(0, 0, 0, 0.3));\n",
              "      fill: #FFFFFF;\n",
              "    }\n",
              "  </style>\n",
              "\n",
              "      <script>\n",
              "        const buttonEl =\n",
              "          document.querySelector('#df-85d67d11-f81f-4c1f-b38b-009ed3ade3ab button.colab-df-convert');\n",
              "        buttonEl.style.display =\n",
              "          google.colab.kernel.accessAllowed ? 'block' : 'none';\n",
              "\n",
              "        async function convertToInteractive(key) {\n",
              "          const element = document.querySelector('#df-85d67d11-f81f-4c1f-b38b-009ed3ade3ab');\n",
              "          const dataTable =\n",
              "            await google.colab.kernel.invokeFunction('convertToInteractive',\n",
              "                                                     [key], {});\n",
              "          if (!dataTable) return;\n",
              "\n",
              "          const docLinkHtml = 'Like what you see? Visit the ' +\n",
              "            '<a target=\"_blank\" href=https://colab.research.google.com/notebooks/data_table.ipynb>data table notebook</a>'\n",
              "            + ' to learn more about interactive tables.';\n",
              "          element.innerHTML = '';\n",
              "          dataTable['output_type'] = 'display_data';\n",
              "          await google.colab.output.renderOutput(dataTable, element);\n",
              "          const docLink = document.createElement('div');\n",
              "          docLink.innerHTML = docLinkHtml;\n",
              "          element.appendChild(docLink);\n",
              "        }\n",
              "      </script>\n",
              "    </div>\n",
              "  </div>\n",
              "  "
            ]
          },
          "metadata": {},
          "execution_count": 5
        }
      ],
      "source": [
        "# Observing the last five observations using tail()\n",
        "netflix_df.tail()"
      ]
    },
    {
      "cell_type": "markdown",
      "metadata": {
        "id": "SM_mVdUIpAXD"
      },
      "source": [
        "**Shape of the Data**"
      ]
    },
    {
      "cell_type": "code",
      "execution_count": 6,
      "metadata": {
        "colab": {
          "base_uri": "https://localhost:8080/"
        },
        "id": "GWrPubsZpMOf",
        "outputId": "75f99f6f-bb5b-4189-ab81-69249b68e571"
      },
      "outputs": [
        {
          "output_type": "execute_result",
          "data": {
            "text/plain": [
              "(7787, 12)"
            ]
          },
          "metadata": {},
          "execution_count": 6
        }
      ],
      "source": [
        "netflix_df.shape"
      ]
    },
    {
      "cell_type": "markdown",
      "metadata": {
        "id": "jiJmqzOfpPSc"
      },
      "source": [
        "The provided data consists of over 7787 observations with 12 column variables."
      ]
    },
    {
      "cell_type": "markdown",
      "metadata": {
        "id": "TO3L-ZyUpSPw"
      },
      "source": [
        "**Feature Data Types**"
      ]
    },
    {
      "cell_type": "code",
      "execution_count": 7,
      "metadata": {
        "colab": {
          "base_uri": "https://localhost:8080/"
        },
        "id": "R4QENpYOppj_",
        "outputId": "70d88c59-1f07-482e-ad51-d862993aaf82"
      },
      "outputs": [
        {
          "output_type": "stream",
          "name": "stdout",
          "text": [
            "<class 'pandas.core.frame.DataFrame'>\n",
            "RangeIndex: 7787 entries, 0 to 7786\n",
            "Data columns (total 12 columns):\n",
            " #   Column        Non-Null Count  Dtype \n",
            "---  ------        --------------  ----- \n",
            " 0   show_id       7787 non-null   object\n",
            " 1   type          7787 non-null   object\n",
            " 2   title         7787 non-null   object\n",
            " 3   director      5398 non-null   object\n",
            " 4   cast          7069 non-null   object\n",
            " 5   country       7280 non-null   object\n",
            " 6   date_added    7777 non-null   object\n",
            " 7   release_year  7787 non-null   int64 \n",
            " 8   rating        7780 non-null   object\n",
            " 9   duration      7787 non-null   object\n",
            " 10  listed_in     7787 non-null   object\n",
            " 11  description   7787 non-null   object\n",
            "dtypes: int64(1), object(11)\n",
            "memory usage: 730.2+ KB\n"
          ]
        }
      ],
      "source": [
        "# Observing the data types for all the columns.\n",
        "netflix_df.info()"
      ]
    },
    {
      "cell_type": "markdown",
      "metadata": {
        "id": "fCUL7tdYpYFI"
      },
      "source": [
        "Few columns- director, cast, country, date_added, and rating contain null values.\n",
        "\n",
        "The dataset consists of eleven non- numeric columns and one numeric column."
      ]
    },
    {
      "cell_type": "code",
      "execution_count": 8,
      "metadata": {
        "colab": {
          "base_uri": "https://localhost:8080/",
          "height": 473
        },
        "id": "wpRrIWtDpmB0",
        "outputId": "745a183f-abf2-4a4d-ec2b-3ad53fa8f88d"
      },
      "outputs": [
        {
          "output_type": "execute_result",
          "data": {
            "text/plain": [
              "       show_id   type title                director                cast  \\\n",
              "count     7787   7787  7787                    5398                7069   \n",
              "unique    7787      2  7787                    4049                6831   \n",
              "top         s1  Movie    3%  Raúl Campos, Jan Suter  David Attenborough   \n",
              "freq         1   5377     1                      18                  18   \n",
              "mean       NaN    NaN   NaN                     NaN                 NaN   \n",
              "std        NaN    NaN   NaN                     NaN                 NaN   \n",
              "min        NaN    NaN   NaN                     NaN                 NaN   \n",
              "25%        NaN    NaN   NaN                     NaN                 NaN   \n",
              "50%        NaN    NaN   NaN                     NaN                 NaN   \n",
              "75%        NaN    NaN   NaN                     NaN                 NaN   \n",
              "max        NaN    NaN   NaN                     NaN                 NaN   \n",
              "\n",
              "              country       date_added  release_year rating  duration  \\\n",
              "count            7280             7777   7787.000000   7780      7787   \n",
              "unique            681             1565           NaN     14       216   \n",
              "top     United States  January 1, 2020           NaN  TV-MA  1 Season   \n",
              "freq             2555              118           NaN   2863      1608   \n",
              "mean              NaN              NaN   2013.932580    NaN       NaN   \n",
              "std               NaN              NaN      8.757395    NaN       NaN   \n",
              "min               NaN              NaN   1925.000000    NaN       NaN   \n",
              "25%               NaN              NaN   2013.000000    NaN       NaN   \n",
              "50%               NaN              NaN   2017.000000    NaN       NaN   \n",
              "75%               NaN              NaN   2018.000000    NaN       NaN   \n",
              "max               NaN              NaN   2021.000000    NaN       NaN   \n",
              "\n",
              "            listed_in                                        description  \n",
              "count            7787                                               7787  \n",
              "unique            492                                               7769  \n",
              "top     Documentaries  Multiple women report their husbands as missin...  \n",
              "freq              334                                                  3  \n",
              "mean              NaN                                                NaN  \n",
              "std               NaN                                                NaN  \n",
              "min               NaN                                                NaN  \n",
              "25%               NaN                                                NaN  \n",
              "50%               NaN                                                NaN  \n",
              "75%               NaN                                                NaN  \n",
              "max               NaN                                                NaN  "
            ],
            "text/html": [
              "\n",
              "  <div id=\"df-30a8b428-c42d-4364-a240-55106b1598c2\">\n",
              "    <div class=\"colab-df-container\">\n",
              "      <div>\n",
              "<style scoped>\n",
              "    .dataframe tbody tr th:only-of-type {\n",
              "        vertical-align: middle;\n",
              "    }\n",
              "\n",
              "    .dataframe tbody tr th {\n",
              "        vertical-align: top;\n",
              "    }\n",
              "\n",
              "    .dataframe thead th {\n",
              "        text-align: right;\n",
              "    }\n",
              "</style>\n",
              "<table border=\"1\" class=\"dataframe\">\n",
              "  <thead>\n",
              "    <tr style=\"text-align: right;\">\n",
              "      <th></th>\n",
              "      <th>show_id</th>\n",
              "      <th>type</th>\n",
              "      <th>title</th>\n",
              "      <th>director</th>\n",
              "      <th>cast</th>\n",
              "      <th>country</th>\n",
              "      <th>date_added</th>\n",
              "      <th>release_year</th>\n",
              "      <th>rating</th>\n",
              "      <th>duration</th>\n",
              "      <th>listed_in</th>\n",
              "      <th>description</th>\n",
              "    </tr>\n",
              "  </thead>\n",
              "  <tbody>\n",
              "    <tr>\n",
              "      <th>count</th>\n",
              "      <td>7787</td>\n",
              "      <td>7787</td>\n",
              "      <td>7787</td>\n",
              "      <td>5398</td>\n",
              "      <td>7069</td>\n",
              "      <td>7280</td>\n",
              "      <td>7777</td>\n",
              "      <td>7787.000000</td>\n",
              "      <td>7780</td>\n",
              "      <td>7787</td>\n",
              "      <td>7787</td>\n",
              "      <td>7787</td>\n",
              "    </tr>\n",
              "    <tr>\n",
              "      <th>unique</th>\n",
              "      <td>7787</td>\n",
              "      <td>2</td>\n",
              "      <td>7787</td>\n",
              "      <td>4049</td>\n",
              "      <td>6831</td>\n",
              "      <td>681</td>\n",
              "      <td>1565</td>\n",
              "      <td>NaN</td>\n",
              "      <td>14</td>\n",
              "      <td>216</td>\n",
              "      <td>492</td>\n",
              "      <td>7769</td>\n",
              "    </tr>\n",
              "    <tr>\n",
              "      <th>top</th>\n",
              "      <td>s1</td>\n",
              "      <td>Movie</td>\n",
              "      <td>3%</td>\n",
              "      <td>Raúl Campos, Jan Suter</td>\n",
              "      <td>David Attenborough</td>\n",
              "      <td>United States</td>\n",
              "      <td>January 1, 2020</td>\n",
              "      <td>NaN</td>\n",
              "      <td>TV-MA</td>\n",
              "      <td>1 Season</td>\n",
              "      <td>Documentaries</td>\n",
              "      <td>Multiple women report their husbands as missin...</td>\n",
              "    </tr>\n",
              "    <tr>\n",
              "      <th>freq</th>\n",
              "      <td>1</td>\n",
              "      <td>5377</td>\n",
              "      <td>1</td>\n",
              "      <td>18</td>\n",
              "      <td>18</td>\n",
              "      <td>2555</td>\n",
              "      <td>118</td>\n",
              "      <td>NaN</td>\n",
              "      <td>2863</td>\n",
              "      <td>1608</td>\n",
              "      <td>334</td>\n",
              "      <td>3</td>\n",
              "    </tr>\n",
              "    <tr>\n",
              "      <th>mean</th>\n",
              "      <td>NaN</td>\n",
              "      <td>NaN</td>\n",
              "      <td>NaN</td>\n",
              "      <td>NaN</td>\n",
              "      <td>NaN</td>\n",
              "      <td>NaN</td>\n",
              "      <td>NaN</td>\n",
              "      <td>2013.932580</td>\n",
              "      <td>NaN</td>\n",
              "      <td>NaN</td>\n",
              "      <td>NaN</td>\n",
              "      <td>NaN</td>\n",
              "    </tr>\n",
              "    <tr>\n",
              "      <th>std</th>\n",
              "      <td>NaN</td>\n",
              "      <td>NaN</td>\n",
              "      <td>NaN</td>\n",
              "      <td>NaN</td>\n",
              "      <td>NaN</td>\n",
              "      <td>NaN</td>\n",
              "      <td>NaN</td>\n",
              "      <td>8.757395</td>\n",
              "      <td>NaN</td>\n",
              "      <td>NaN</td>\n",
              "      <td>NaN</td>\n",
              "      <td>NaN</td>\n",
              "    </tr>\n",
              "    <tr>\n",
              "      <th>min</th>\n",
              "      <td>NaN</td>\n",
              "      <td>NaN</td>\n",
              "      <td>NaN</td>\n",
              "      <td>NaN</td>\n",
              "      <td>NaN</td>\n",
              "      <td>NaN</td>\n",
              "      <td>NaN</td>\n",
              "      <td>1925.000000</td>\n",
              "      <td>NaN</td>\n",
              "      <td>NaN</td>\n",
              "      <td>NaN</td>\n",
              "      <td>NaN</td>\n",
              "    </tr>\n",
              "    <tr>\n",
              "      <th>25%</th>\n",
              "      <td>NaN</td>\n",
              "      <td>NaN</td>\n",
              "      <td>NaN</td>\n",
              "      <td>NaN</td>\n",
              "      <td>NaN</td>\n",
              "      <td>NaN</td>\n",
              "      <td>NaN</td>\n",
              "      <td>2013.000000</td>\n",
              "      <td>NaN</td>\n",
              "      <td>NaN</td>\n",
              "      <td>NaN</td>\n",
              "      <td>NaN</td>\n",
              "    </tr>\n",
              "    <tr>\n",
              "      <th>50%</th>\n",
              "      <td>NaN</td>\n",
              "      <td>NaN</td>\n",
              "      <td>NaN</td>\n",
              "      <td>NaN</td>\n",
              "      <td>NaN</td>\n",
              "      <td>NaN</td>\n",
              "      <td>NaN</td>\n",
              "      <td>2017.000000</td>\n",
              "      <td>NaN</td>\n",
              "      <td>NaN</td>\n",
              "      <td>NaN</td>\n",
              "      <td>NaN</td>\n",
              "    </tr>\n",
              "    <tr>\n",
              "      <th>75%</th>\n",
              "      <td>NaN</td>\n",
              "      <td>NaN</td>\n",
              "      <td>NaN</td>\n",
              "      <td>NaN</td>\n",
              "      <td>NaN</td>\n",
              "      <td>NaN</td>\n",
              "      <td>NaN</td>\n",
              "      <td>2018.000000</td>\n",
              "      <td>NaN</td>\n",
              "      <td>NaN</td>\n",
              "      <td>NaN</td>\n",
              "      <td>NaN</td>\n",
              "    </tr>\n",
              "    <tr>\n",
              "      <th>max</th>\n",
              "      <td>NaN</td>\n",
              "      <td>NaN</td>\n",
              "      <td>NaN</td>\n",
              "      <td>NaN</td>\n",
              "      <td>NaN</td>\n",
              "      <td>NaN</td>\n",
              "      <td>NaN</td>\n",
              "      <td>2021.000000</td>\n",
              "      <td>NaN</td>\n",
              "      <td>NaN</td>\n",
              "      <td>NaN</td>\n",
              "      <td>NaN</td>\n",
              "    </tr>\n",
              "  </tbody>\n",
              "</table>\n",
              "</div>\n",
              "      <button class=\"colab-df-convert\" onclick=\"convertToInteractive('df-30a8b428-c42d-4364-a240-55106b1598c2')\"\n",
              "              title=\"Convert this dataframe to an interactive table.\"\n",
              "              style=\"display:none;\">\n",
              "        \n",
              "  <svg xmlns=\"http://www.w3.org/2000/svg\" height=\"24px\"viewBox=\"0 0 24 24\"\n",
              "       width=\"24px\">\n",
              "    <path d=\"M0 0h24v24H0V0z\" fill=\"none\"/>\n",
              "    <path d=\"M18.56 5.44l.94 2.06.94-2.06 2.06-.94-2.06-.94-.94-2.06-.94 2.06-2.06.94zm-11 1L8.5 8.5l.94-2.06 2.06-.94-2.06-.94L8.5 2.5l-.94 2.06-2.06.94zm10 10l.94 2.06.94-2.06 2.06-.94-2.06-.94-.94-2.06-.94 2.06-2.06.94z\"/><path d=\"M17.41 7.96l-1.37-1.37c-.4-.4-.92-.59-1.43-.59-.52 0-1.04.2-1.43.59L10.3 9.45l-7.72 7.72c-.78.78-.78 2.05 0 2.83L4 21.41c.39.39.9.59 1.41.59.51 0 1.02-.2 1.41-.59l7.78-7.78 2.81-2.81c.8-.78.8-2.07 0-2.86zM5.41 20L4 18.59l7.72-7.72 1.47 1.35L5.41 20z\"/>\n",
              "  </svg>\n",
              "      </button>\n",
              "      \n",
              "  <style>\n",
              "    .colab-df-container {\n",
              "      display:flex;\n",
              "      flex-wrap:wrap;\n",
              "      gap: 12px;\n",
              "    }\n",
              "\n",
              "    .colab-df-convert {\n",
              "      background-color: #E8F0FE;\n",
              "      border: none;\n",
              "      border-radius: 50%;\n",
              "      cursor: pointer;\n",
              "      display: none;\n",
              "      fill: #1967D2;\n",
              "      height: 32px;\n",
              "      padding: 0 0 0 0;\n",
              "      width: 32px;\n",
              "    }\n",
              "\n",
              "    .colab-df-convert:hover {\n",
              "      background-color: #E2EBFA;\n",
              "      box-shadow: 0px 1px 2px rgba(60, 64, 67, 0.3), 0px 1px 3px 1px rgba(60, 64, 67, 0.15);\n",
              "      fill: #174EA6;\n",
              "    }\n",
              "\n",
              "    [theme=dark] .colab-df-convert {\n",
              "      background-color: #3B4455;\n",
              "      fill: #D2E3FC;\n",
              "    }\n",
              "\n",
              "    [theme=dark] .colab-df-convert:hover {\n",
              "      background-color: #434B5C;\n",
              "      box-shadow: 0px 1px 3px 1px rgba(0, 0, 0, 0.15);\n",
              "      filter: drop-shadow(0px 1px 2px rgba(0, 0, 0, 0.3));\n",
              "      fill: #FFFFFF;\n",
              "    }\n",
              "  </style>\n",
              "\n",
              "      <script>\n",
              "        const buttonEl =\n",
              "          document.querySelector('#df-30a8b428-c42d-4364-a240-55106b1598c2 button.colab-df-convert');\n",
              "        buttonEl.style.display =\n",
              "          google.colab.kernel.accessAllowed ? 'block' : 'none';\n",
              "\n",
              "        async function convertToInteractive(key) {\n",
              "          const element = document.querySelector('#df-30a8b428-c42d-4364-a240-55106b1598c2');\n",
              "          const dataTable =\n",
              "            await google.colab.kernel.invokeFunction('convertToInteractive',\n",
              "                                                     [key], {});\n",
              "          if (!dataTable) return;\n",
              "\n",
              "          const docLinkHtml = 'Like what you see? Visit the ' +\n",
              "            '<a target=\"_blank\" href=https://colab.research.google.com/notebooks/data_table.ipynb>data table notebook</a>'\n",
              "            + ' to learn more about interactive tables.';\n",
              "          element.innerHTML = '';\n",
              "          dataTable['output_type'] = 'display_data';\n",
              "          await google.colab.output.renderOutput(dataTable, element);\n",
              "          const docLink = document.createElement('div');\n",
              "          docLink.innerHTML = docLinkHtml;\n",
              "          element.appendChild(docLink);\n",
              "        }\n",
              "      </script>\n",
              "    </div>\n",
              "  </div>\n",
              "  "
            ]
          },
          "metadata": {},
          "execution_count": 8
        }
      ],
      "source": [
        "# Feature Statistics Summary\n",
        "# Provides the statistical details for each column.\n",
        "netflix_df.describe(include='all')"
      ]
    },
    {
      "cell_type": "markdown",
      "metadata": {
        "id": "5UMv6BRhpw5F"
      },
      "source": [
        "### **Removing Null Values, Duplicate Values**"
      ]
    },
    {
      "cell_type": "code",
      "execution_count": 9,
      "metadata": {
        "colab": {
          "base_uri": "https://localhost:8080/"
        },
        "id": "AITrQtBppzfy",
        "outputId": "8cc493f9-6166-42ff-bceb-95cae152da81"
      },
      "outputs": [
        {
          "output_type": "execute_result",
          "data": {
            "text/plain": [
              "show_id            0\n",
              "type               0\n",
              "title              0\n",
              "director        2389\n",
              "cast             718\n",
              "country          507\n",
              "date_added        10\n",
              "release_year       0\n",
              "rating             7\n",
              "duration           0\n",
              "listed_in          0\n",
              "description        0\n",
              "dtype: int64"
            ]
          },
          "metadata": {},
          "execution_count": 9
        }
      ],
      "source": [
        "# For missing data\n",
        "netflix_df.isnull().sum()"
      ]
    },
    {
      "cell_type": "markdown",
      "metadata": {
        "id": "MsH-xQsNp5Sj"
      },
      "source": [
        "There are 2389 null values in director, 718 null values in cast, 507 null values in country, 10 null values in date_added, and 7 null values in rating.\n",
        "\n",
        "* 'Director' feature has 30.68% null values. \n",
        "* 'Cast' feature has 9.22% null values.\n",
        "* 'Country' feature has 6.51% null values.\n",
        "* 'date_added' ffeature has 0.13% null values.\n",
        "* 'rating' feature has 0.09% null values.\n"
      ]
    },
    {
      "cell_type": "code",
      "execution_count": 10,
      "metadata": {
        "id": "y-NwLxx4rZgG"
      },
      "outputs": [],
      "source": [
        "# dropping NaN values from date_added, rating\n",
        "# filling director, cast, country - NaN values with No Director, No Cast, Country Not Available respectively.\n",
        "# Due to the high number of null values in director, cast, and country, dropping them would lead to imbalanced data \n",
        "# and incorrect EDA analysis. Therefore, they are retained.\n",
        "\n",
        "netflix_df['director'].fillna('No Director', inplace=True)\n",
        "netflix_df['cast'].fillna('No Cast', inplace=True)\n",
        "netflix_df['country'].fillna('Country Not Available', inplace=True)\n",
        "netflix_df.dropna(subset=['date_added','rating'],inplace=True)\n",
        "netflix_df = netflix_df.reset_index(drop=True)"
      ]
    },
    {
      "cell_type": "markdown",
      "metadata": {
        "id": "q0x2MP4Zrlhy"
      },
      "source": [
        "SIDE NOTE:\n",
        "\n",
        "Instead of dropping all Nan values, only date_added and rating Nan values are removed. Dropping director, cast, and country Nan values would have resulted in a significant loss of data."
      ]
    },
    {
      "cell_type": "code",
      "execution_count": 11,
      "metadata": {
        "colab": {
          "base_uri": "https://localhost:8080/"
        },
        "id": "8rbe2wf9r2bv",
        "outputId": "cce33900-fda6-4abe-a8fb-76dd07c8e538"
      },
      "outputs": [
        {
          "output_type": "execute_result",
          "data": {
            "text/plain": [
              "(7770, 12)"
            ]
          },
          "metadata": {},
          "execution_count": 11
        }
      ],
      "source": [
        "# Updated dataframe\n",
        "netflix_df.shape"
      ]
    },
    {
      "cell_type": "code",
      "execution_count": 12,
      "metadata": {
        "colab": {
          "base_uri": "https://localhost:8080/"
        },
        "id": "aH_IntKfsAWh",
        "outputId": "b08f32b0-2221-45c5-d00a-0a4d26110f9b"
      },
      "outputs": [
        {
          "output_type": "execute_result",
          "data": {
            "text/plain": [
              "show_id         0\n",
              "type            0\n",
              "title           0\n",
              "director        0\n",
              "cast            0\n",
              "country         0\n",
              "date_added      0\n",
              "release_year    0\n",
              "rating          0\n",
              "duration        0\n",
              "listed_in       0\n",
              "description     0\n",
              "dtype: int64"
            ]
          },
          "metadata": {},
          "execution_count": 12
        }
      ],
      "source": [
        "# Rechecking for clean data.\n",
        "netflix_df.isnull().sum()"
      ]
    },
    {
      "cell_type": "code",
      "execution_count": 13,
      "metadata": {
        "colab": {
          "base_uri": "https://localhost:8080/"
        },
        "id": "HV-nj6dvsN3Y",
        "outputId": "afe09624-c0b5-49a5-88e6-9fbfb28b9ea4"
      },
      "outputs": [
        {
          "output_type": "execute_result",
          "data": {
            "text/plain": [
              "show_id         7770\n",
              "type               2\n",
              "title           7770\n",
              "director        4048\n",
              "cast            6818\n",
              "country          682\n",
              "date_added      1563\n",
              "release_year      73\n",
              "rating            14\n",
              "duration         216\n",
              "listed_in        491\n",
              "description     7752\n",
              "dtype: int64"
            ]
          },
          "metadata": {},
          "execution_count": 13
        }
      ],
      "source": [
        "#Checking Unique values in each variable\n",
        "netflix_df.nunique()"
      ]
    },
    {
      "cell_type": "markdown",
      "metadata": {
        "id": "HAZNH2AvsrCA"
      },
      "source": [
        "A show_id is a unique identifier, and no title is repeated. A number of unique values are also contained in director, cast, country, date_added, listed_in, and description."
      ]
    },
    {
      "cell_type": "code",
      "execution_count": 14,
      "metadata": {
        "colab": {
          "base_uri": "https://localhost:8080/"
        },
        "id": "GmN0PYQFlYCo",
        "outputId": "f00051b1-4e68-4549-e263-fb58c52b77da"
      },
      "outputs": [
        {
          "output_type": "execute_result",
          "data": {
            "text/plain": [
              "[]"
            ]
          },
          "metadata": {},
          "execution_count": 14
        }
      ],
      "source": [
        "# Checking for duplicate values\n",
        "list(netflix_df[netflix_df.duplicated()].sum(axis = 1))"
      ]
    },
    {
      "cell_type": "markdown",
      "metadata": {
        "id": "-9v2dL3C7tI3"
      },
      "source": [
        "###**Exploratory Data Analysis**"
      ]
    },
    {
      "cell_type": "code",
      "execution_count": 15,
      "metadata": {
        "colab": {
          "base_uri": "https://localhost:8080/",
          "height": 314
        },
        "id": "8MQYprgd7uCn",
        "outputId": "418a1da6-4a0d-43b6-dec1-cfce4e787ad1"
      },
      "outputs": [
        {
          "output_type": "execute_result",
          "data": {
            "text/plain": [
              "Text(0.5, 1.0, 'Count of Movies and TV Shows')"
            ]
          },
          "metadata": {},
          "execution_count": 15
        },
        {
          "output_type": "display_data",
          "data": {
            "text/plain": [
              "<Figure size 432x288 with 1 Axes>"
            ],
            "image/png": "[encoded data removed]"
          },
          "metadata": {
            "needs_background": "light"
          }
        }
      ],
      "source": [
        "# Netflix Film Types: Movie or TV Show\n",
        "sns.countplot(x=\"type\", data=netflix_df)\n",
        "plt.title(\"Count of Movies and TV Shows\", fontsize=14)"
      ]
    },
    {
      "cell_type": "markdown",
      "metadata": {
        "id": "r654Fl7Txnnq"
      },
      "source": [
        "Almost 70% of datapoints belong to Movie, rest 30% to TV Show"
      ]
    },
    {
      "cell_type": "code",
      "execution_count": 16,
      "metadata": {
        "colab": {
          "base_uri": "https://localhost:8080/",
          "height": 283
        },
        "id": "9XFRQ_M29KBC",
        "outputId": "587b6c18-8b2d-447f-c283-c7467c48a1ce"
      },
      "outputs": [
        {
          "output_type": "execute_result",
          "data": {
            "text/plain": [
              "Text(0.5, 1.0, 'Pie representation of Movies and TV Shows')"
            ]
          },
          "metadata": {},
          "execution_count": 16
        },
        {
          "output_type": "display_data",
          "data": {
            "text/plain": [
              "<Figure size 432x288 with 1 Axes>"
            ],
            "image/png": "[encoded data removed]"
          },
          "metadata": {}
        }
      ],
      "source": [
        "# Pie Chart Representation - Netflix Film Types: Movie or TV Show\n",
        "plt.pie(netflix_df.type.value_counts(),labels=[\"Movies\",\"TV Shows\"],autopct=\"%1.2f%%\")\n",
        "plt.title(\"Pie representation of Movies and TV Shows\", fontsize=14)"
      ]
    },
    {
      "cell_type": "markdown",
      "metadata": {
        "id": "Od_qXsG57_T7"
      },
      "source": [
        "OBSERVATION:\n",
        "\n",
        "There are more than 5000+ movies and 2000+ TV shows.It should be noted that a TV Show has at least one season with many episodes, so the TV Shows count being less than Movies is logical."
      ]
    },
    {
      "cell_type": "code",
      "execution_count": 17,
      "metadata": {
        "colab": {
          "base_uri": "https://localhost:8080/",
          "height": 477
        },
        "id": "pwPyiMnt_ljQ",
        "outputId": "a5ca3dbf-33d8-48f7-f850-b5e8ed05f290"
      },
      "outputs": [
        {
          "output_type": "execute_result",
          "data": {
            "text/plain": [
              "Text(0.5, 1.0, 'Ratings for Movies & TV Shows')"
            ]
          },
          "metadata": {},
          "execution_count": 17
        },
        {
          "output_type": "display_data",
          "data": {
            "text/plain": [
              "<Figure size 1080x504 with 1 Axes>"
            ],
            "image/png": "[encoded data removed]"
          },
          "metadata": {
            "needs_background": "light"
          }
        }
      ],
      "source": [
        "# Netflix Film Ratings\n",
        "plt.figure(figsize=(15,7))\n",
        "sns.countplot(x=\"rating\", data=netflix_df, hue='type')\n",
        "plt.title(\"Ratings for Movies & TV Shows\", fontsize=14)"
      ]
    },
    {
      "cell_type": "markdown",
      "metadata": {
        "id": "MFRZrDkE_0Jw"
      },
      "source": [
        "OBSERVATION:\n",
        "\n",
        "The NR and UR stand for Non-Rated and UnRated content, so they could be ignored. The number of mature content movies is greater than the number of mature content TV shows. The majority of TV shows are geared toward younger viewers."
      ]
    },
    {
      "cell_type": "code",
      "execution_count": 18,
      "metadata": {
        "id": "NuWjY47KAGaR"
      },
      "outputs": [],
      "source": [
        "# Extracting month and year from date.\n",
        "netflix_df1 = netflix_df.copy()\n",
        "netflix_df1['date_added'] = pd.to_datetime(netflix_df1['date_added'])\n",
        "netflix_df1['month_added'] = netflix_df1['date_added'].dt.month\n",
        "netflix_df1['year_added'] = netflix_df1['date_added'].dt.year"
      ]
    },
    {
      "cell_type": "code",
      "execution_count": 19,
      "metadata": {
        "colab": {
          "base_uri": "https://localhost:8080/",
          "height": 387
        },
        "id": "A1bClN1HAr7t",
        "outputId": "23f244a7-e33f-4770-f0b5-7cef93829198"
      },
      "outputs": [
        {
          "output_type": "execute_result",
          "data": {
            "text/plain": [
              "Text(0.5, 1.0, 'Heatmap - year_added and month_added')"
            ]
          },
          "metadata": {},
          "execution_count": 19
        },
        {
          "output_type": "display_data",
          "data": {
            "text/plain": [
              "<Figure size 1800x432 with 2 Axes>"
            ],
            "image/png": "[encoded data removed]"
          },
          "metadata": {
            "needs_background": "light"
          }
        }
      ],
      "source": [
        "# Plotting year vs month on heatmap.\n",
        "plt.figure(figsize = (25, 6))\n",
        "sns.heatmap(netflix_df1.groupby('year_added').month_added.value_counts().unstack().fillna(0).T, cmap = 'coolwarm', annot = True)\n",
        "plt.title(\"Heatmap - year_added and month_added\")"
      ]
    },
    {
      "cell_type": "markdown",
      "metadata": {
        "id": "9yVwRcnZBF6l"
      },
      "source": [
        "OBSERVATION:\n",
        "\n",
        "1. From 2014 the number of shows have increased. The data given to us stops at 2021 January.\n",
        "2. In 2018, 2019, and 2020, the majority of films were released.\n",
        "3. A large number of movies and TV Shows were released in October, November, December, and January."
      ]
    },
    {
      "cell_type": "code",
      "execution_count": 20,
      "metadata": {
        "colab": {
          "base_uri": "https://localhost:8080/",
          "height": 368
        },
        "id": "HfqZlcX7Ozs5",
        "outputId": "c4f05684-7446-4e4f-8bec-543864975c5b"
      },
      "outputs": [
        {
          "output_type": "execute_result",
          "data": {
            "text/plain": [
              "<matplotlib.legend.Legend at 0x7f16454583a0>"
            ]
          },
          "metadata": {},
          "execution_count": 20
        },
        {
          "output_type": "display_data",
          "data": {
            "text/plain": [
              "<Figure size 720x360 with 1 Axes>"
            ],
            "image/png": "[encoded data removed]"
          },
          "metadata": {
            "needs_background": "light"
          }
        }
      ],
      "source": [
        "# Amount of Content as a Function of Time\n",
        "netflix_year = netflix_df1.year_added.value_counts().to_frame().reset_index().rename(columns={'index': 'year','year_added':'count'})\n",
        "total_year = netflix_year[netflix_year.year != 2021]\n",
        "netflix_movie_year = netflix_df1[netflix_df1['type'] == 'Movie'].year_added.value_counts().to_frame().reset_index().rename(columns={'index': 'year','year_added':'count'})\n",
        "movie_year = netflix_movie_year[netflix_movie_year.year!= 2021]\n",
        "netflix_tvshow_year = netflix_df1[netflix_df1['type'] == 'TV Show'].year_added.value_counts().to_frame().reset_index().rename(columns={'index': 'year','year_added':'count'})\n",
        "tvshow_year = netflix_tvshow_year[netflix_tvshow_year.year!= 2021]\n",
        "\n",
        "plt.figure(figsize = (10, 5))\n",
        "sns.lineplot(data=total_year, x='year', y='count')\n",
        "sns.lineplot(data=movie_year, x='year', y='count')\n",
        "sns.lineplot(data=tvshow_year, x='year', y='count')\n",
        "plt.title('Total content added across all years (up to 2020)')\n",
        "plt.ylabel('Releases')\n",
        "plt.xlabel('Year')\n",
        "plt.legend(['Total','Movie','TV Show'])"
      ]
    },
    {
      "cell_type": "markdown",
      "metadata": {
        "id": "r3MMaUKHPJfR"
      },
      "source": [
        "OBSERVATION:\n",
        "\n",
        "**Is Netflix has increasingly focusing on TV rather than movies in recent years?**\n",
        "\n",
        "The number of movies in 2020 have reduced compared to its previous year. However the TV shows have increased."
      ]
    },
    {
      "cell_type": "code",
      "execution_count": 21,
      "metadata": {
        "colab": {
          "base_uri": "https://localhost:8080/",
          "height": 368
        },
        "id": "wOkIMn_4X74B",
        "outputId": "4367326e-c694-43c8-c81b-20d447f21ad5"
      },
      "outputs": [
        {
          "output_type": "execute_result",
          "data": {
            "text/plain": [
              "Text(0.5, 1.0, 'Duration Distribution for Netflix Movies')"
            ]
          },
          "metadata": {},
          "execution_count": 21
        },
        {
          "output_type": "display_data",
          "data": {
            "text/plain": [
              "<Figure size 1368x360 with 2 Axes>"
            ],
            "image/png": "[encoded data removed]"
          },
          "metadata": {
            "needs_background": "light"
          }
        }
      ],
      "source": [
        "# Netflix Film Duration\n",
        "fig, ax = plt.subplots(1,2, figsize=(19, 5))\n",
        "show_duration_df = pd.DataFrame(netflix_df1[netflix_df1.type == 'TV Show'].duration.replace(['1 Season'], '1 Seasons').str.replace(' Seasons','').sort_values()).astype(int)\n",
        "plt1 = sns.countplot(data = show_duration_df, x = 'duration', order = list(range(1,10)), ax=ax[0])\n",
        "plt1.set_xlabel('seasons')\n",
        "plt1.set_title(\"Netflix TV Shows Seasons\")\n",
        "movie_duration_df = pd.DataFrame(netflix_df1[netflix_df1.type == 'Movie'].duration.str.replace(' min', '').astype(int))\n",
        "plt2 = sns.distplot(movie_duration_df.duration, ax=ax[1])\n",
        "plt2.set_title(\"Duration Distribution for Netflix Movies\")"
      ]
    },
    {
      "cell_type": "markdown",
      "metadata": {
        "id": "PdNdSVNkYNwy"
      },
      "source": [
        "OBSERVATION:\n",
        "\n",
        "Seasons of Netflix TV shows are right-skewed and most have only one season. Netflix movies have a normal distribution with a mean of 100 minutes."
      ]
    },
    {
      "cell_type": "code",
      "execution_count": 22,
      "metadata": {
        "colab": {
          "base_uri": "https://localhost:8080/",
          "height": 639
        },
        "id": "LdJTC1-xYcwN",
        "outputId": "44fac70b-1ece-46f5-c04d-c62ceaa01b35"
      },
      "outputs": [
        {
          "output_type": "execute_result",
          "data": {
            "text/plain": [
              "Text(0, 0.5, 'Country')"
            ]
          },
          "metadata": {},
          "execution_count": 22
        },
        {
          "output_type": "display_data",
          "data": {
            "text/plain": [
              "<Figure size 720x720 with 1 Axes>"
            ],
            "image/png": "[encoded data removed]"
          },
          "metadata": {
            "needs_background": "light"
          }
        }
      ],
      "source": [
        "# Countries with the most content available\n",
        "countries = netflix_df1['country'].str.split(', ', expand=True).stack().reset_index(level = 1, drop = True)\n",
        "countries = countries[countries != 'Country Not available']\n",
        "plt.figure(figsize = (10, 10))\n",
        "sns.countplot(y = countries, order=countries.value_counts().index[:20])\n",
        "plt.title('Top 20 Countries on Netflix')\n",
        "plt.ylabel('Country')"
      ]
    },
    {
      "cell_type": "markdown",
      "metadata": {
        "id": "3NKv2G4oY-Wi"
      },
      "source": [
        "OBSERVATION:\n",
        "\n",
        "\n",
        "knowing that Netflix is an American brand, it is no surprise that the United States is the most popular country to watch Netflix in. In second place is India, followed by the UK and Canada. "
      ]
    },
    {
      "cell_type": "code",
      "execution_count": 23,
      "metadata": {
        "colab": {
          "base_uri": "https://localhost:8080/",
          "height": 639
        },
        "id": "r33KcJytZefy",
        "outputId": "11659c93-60dc-4a4a-9014-7ddf91e9162d"
      },
      "outputs": [
        {
          "output_type": "execute_result",
          "data": {
            "text/plain": [
              "Text(0, 0.5, 'genres')"
            ]
          },
          "metadata": {},
          "execution_count": 23
        },
        {
          "output_type": "display_data",
          "data": {
            "text/plain": [
              "<Figure size 720x720 with 1 Axes>"
            ],
            "image/png": "[encoded data removed]"
          },
          "metadata": {
            "needs_background": "light"
          }
        }
      ],
      "source": [
        "# Popular Genres\n",
        "genres = netflix_df1['listed_in'].str.split(', ', expand=True).stack().reset_index(level = 1, drop = True)\n",
        "plt.figure(figsize = (10, 10))\n",
        "sns.countplot(y = genres, order=genres.value_counts().index[:20])\n",
        "plt.title('Top 20 genres on Netflix')\n",
        "plt.ylabel('genres')"
      ]
    },
    {
      "cell_type": "markdown",
      "metadata": {
        "id": "8vKeTxFaZxco"
      },
      "source": [
        "OBSERVATION:\n",
        "\n",
        "On Netflix, international movies are the most popular genre, followed by dramas and comedies. With Netflix having a lot of international subscribers, it makes sense to have international movies at the top."
      ]
    },
    {
      "cell_type": "code",
      "execution_count": 24,
      "metadata": {
        "colab": {
          "base_uri": "https://localhost:8080/",
          "height": 368
        },
        "id": "o0f08iAuZ0gj",
        "outputId": "2dc0f81e-67ab-494c-cf39-3730bfb3ce3e"
      },
      "outputs": [
        {
          "output_type": "execute_result",
          "data": {
            "text/plain": [
              "Text(0, 0.5, 'director')"
            ]
          },
          "metadata": {},
          "execution_count": 24
        },
        {
          "output_type": "display_data",
          "data": {
            "text/plain": [
              "<Figure size 360x360 with 1 Axes>"
            ],
            "image/png": "[encoded data removed]"
          },
          "metadata": {
            "needs_background": "light"
          }
        }
      ],
      "source": [
        "# top 10 directors on Netflix with the most releases\n",
        "director = netflix_df1['director'].str.split(', ', expand=True).stack().reset_index(level = 1, drop = True)\n",
        "director = director[director != 'No Director']\n",
        "plt.figure(figsize = (5, 5))\n",
        "sns.countplot(y = director, order=director.value_counts().index[:10])\n",
        "plt.title('Top 10 director on Netflix')\n",
        "plt.ylabel('director')"
      ]
    },
    {
      "cell_type": "markdown",
      "metadata": {
        "id": "N3WrXIYBaHoi"
      },
      "source": [
        "OBSERVATION:\n",
        "\n",
        "The number of international movies is higher, so it should come as no surprise that the most movie directors are international. "
      ]
    },
    {
      "cell_type": "code",
      "execution_count": 25,
      "metadata": {
        "colab": {
          "base_uri": "https://localhost:8080/",
          "height": 368
        },
        "id": "zujYkYbgaNEc",
        "outputId": "aa92bd15-c889-498c-abb1-7ca5e0a683b3"
      },
      "outputs": [
        {
          "output_type": "execute_result",
          "data": {
            "text/plain": [
              "Text(0, 0.5, 'cast')"
            ]
          },
          "metadata": {},
          "execution_count": 25
        },
        {
          "output_type": "display_data",
          "data": {
            "text/plain": [
              "<Figure size 360x360 with 1 Axes>"
            ],
            "image/png": "[encoded data removed]"
          },
          "metadata": {
            "needs_background": "light"
          }
        }
      ],
      "source": [
        "# top 10 actors on Netflix based on number of titles\n",
        "cast = netflix_df1[netflix_df1['cast'] != 'No Cast'].cast.str.split(', ', expand = True).stack().reset_index(level = 1, drop = True)\n",
        "plt.figure(figsize = (5, 5))\n",
        "sns.countplot(y = cast, order=cast.value_counts().index[:10])\n",
        "plt.title('Top 10 cast on Netflix')\n",
        "plt.ylabel('cast')"
      ]
    },
    {
      "cell_type": "markdown",
      "metadata": {
        "id": "iUGNyYzNvGFP"
      },
      "source": [
        "OBSERVATION:\n",
        "\n",
        "Top actors are mainly international actors implying that Netflix has many international subscribers."
      ]
    },
    {
      "cell_type": "code",
      "execution_count": 26,
      "metadata": {
        "colab": {
          "base_uri": "https://localhost:8080/",
          "height": 313
        },
        "id": "JD0eZ2ABvA2O",
        "outputId": "6f2b8437-bd34-4670-dcd2-ee59f679ac65"
      },
      "outputs": [
        {
          "output_type": "execute_result",
          "data": {
            "text/plain": [
              "<matplotlib.legend.Legend at 0x7f1643701e50>"
            ]
          },
          "metadata": {},
          "execution_count": 26
        },
        {
          "output_type": "display_data",
          "data": {
            "text/plain": [
              "<Figure size 432x288 with 1 Axes>"
            ],
            "image/png": "[encoded data removed]"
          },
          "metadata": {
            "needs_background": "light"
          }
        }
      ],
      "source": [
        "# International Content across years.\n",
        "international_movies = netflix_df1[netflix_df1['listed_in'].str.contains('International Movies')]\n",
        "international_movies = pd.DataFrame(international_movies['release_year'].value_counts()).reset_index().rename(columns={'index': 'year','release_year':'count'})\n",
        "international_movies = international_movies[international_movies.year != 2021]\n",
        "\n",
        "international_tvshow = netflix_df1[netflix_df1['listed_in'].str.contains('International TV Shows')]\n",
        "international_tvshow = pd.DataFrame(international_tvshow['release_year'].value_counts()).reset_index().rename(columns={'index': 'year','release_year':'count'})\n",
        "international_tvshow = international_tvshow[international_tvshow.year != 2021]\n",
        "\n",
        "sns.lineplot(data=international_movies, x='year', y='count')\n",
        "sns.lineplot(data=international_tvshow, x='year', y='count')\n",
        "plt.title(\"International content across all years (up to 2020)\")\n",
        "plt.legend(['International Movies','International TV Shows'])"
      ]
    },
    {
      "cell_type": "markdown",
      "metadata": {
        "id": "1q6JfWQBvpym"
      },
      "source": [
        "OBDERVATION:\n",
        "\n",
        "More international movies are released than international television shows. The **growth** of international movies started to reduce in 2018 and international TV shows started to slow down in 2019."
      ]
    },
    {
      "cell_type": "markdown",
      "metadata": {
        "id": "83JNT43WpJM1"
      },
      "source": [
        "SUMMARY SO FAR:\n",
        "\n",
        "1. The most content type on Netflix is movies.\n",
        "2. The largest count of Netflix content is made with a 'TV-MA' rating.\n",
        "3. After 2014 the amount of content added has been increasing significantly.\n",
        "4. **The number of movies in 2020 have reduced compared to its previous year. However the TV shows have increased.**\n",
        "5. While most TV seasons have only 1 season, movie lengths follow a normal distribution with a mean of 100 minutes.\n",
        "6. According to the amount of content produced, the United States is the top country.\n",
        "7. International Movies are a genre mostly found on Netflix.\n",
        "8. In terms of titles, Jan Suter is the most popular director on Netflix.\n",
        "9. Anupam Kher is the most popular Netflix cast member, according to number of movies made.\n",
        "10. In 2018, 2019, and 2020, the majority of films were released.\n",
        "11. A large number of movies and TV Shows were released in October, November, December, and January."
      ]
    },
    {
      "cell_type": "markdown",
      "metadata": {
        "id": "r2IPphfhSiOu"
      },
      "source": [
        "### Functions"
      ]
    },
    {
      "cell_type": "code",
      "execution_count": 27,
      "metadata": {
        "id": "_cs4K_F0SmIk"
      },
      "outputs": [],
      "source": [
        "'''\n",
        "cal_tf_idf - calculates TF-IDF dataframe.\n",
        "INPUT - \n",
        "1. unique_elements : list of all the unique elements\n",
        "2. element - column feature\n",
        "OUTPUT - \n",
        "returns tf-idf dataframe.\n",
        "'''\n",
        "def cal_tf_idf(unique_elements, element):\n",
        "  df_tf = pd.DataFrame(np.zeros((netflix_df1.shape[0], len(unique_elements))), columns=unique_elements)\n",
        "\n",
        "  # Compute Term Frequency (TF)\n",
        "  for i in range(netflix_df1.shape[0]):\n",
        "      list_words = netflix_df1.loc[i, element].split(', ') # Words in the document\n",
        "      for w in list_words:\n",
        "          df_tf[w][i] = df_tf[w][i] + (1 / len(list_words))\n",
        "\n",
        "  idf = {}\n",
        "\n",
        "  for w in unique_elements:\n",
        "      k = 0    # number of documents in the corpus that contain this word\n",
        "      \n",
        "      for i in range(netflix_df1.shape[0]):\n",
        "          if w in netflix_df1.loc[i, element].split(', '):\n",
        "              k += 1\n",
        "              \n",
        "      idf[w] =  np.log10(netflix_df1.shape[0] / k)\n",
        "\n",
        "  df_tf_idf = df_tf.copy()\n",
        "\n",
        "  for w in unique_elements:\n",
        "      for i in range(netflix_df1.shape[0]):\n",
        "          df_tf_idf[w][i] = df_tf[w][i] * idf[w]\n",
        "          \n",
        "  return df_tf_idf"
      ]
    },
    {
      "cell_type": "code",
      "execution_count": 28,
      "metadata": {
        "colab": {
          "base_uri": "https://localhost:8080/"
        },
        "id": "ib2f6_Dk8Ffn",
        "outputId": "b0b3ddeb-87c2-48bf-f6c7-06429359af67"
      },
      "outputs": [
        {
          "output_type": "stream",
          "name": "stdout",
          "text": [
            "Looking in indexes: https://pypi.org/simple, https://us-python.pkg.dev/colab-wheels/public/simple/\n",
            "Collecting pyLDAvis\n",
            "  Downloading pyLDAvis-3.3.1.tar.gz (1.7 MB)\n",
            "\u001b[?25l     \u001b[90m━━━━━━━━━━━━━━━━━━━━━━━━━━━━━━━━━━━━━━━━\u001b[0m \u001b[32m0.0/1.7 MB\u001b[0m \u001b[31m?\u001b[0m eta \u001b[36m-:--:--\u001b[0m\r\u001b[2K     \u001b[90m━━━━━━━━━━━━━━━━━━━━━━━━━━━━━━━━━━━━━━━━\u001b[0m \u001b[32m1.7/1.7 MB\u001b[0m \u001b[31m71.8 MB/s\u001b[0m eta \u001b[36m0:00:00\u001b[0m\n",
            "\u001b[?25h  Installing build dependencies ... \u001b[?25l\u001b[?25hdone\n",
            "  Getting requirements to build wheel ... \u001b[?25l\u001b[?25hdone\n",
            "  Installing backend dependencies ... \u001b[?25l\u001b[?25hdone\n",
            "  Preparing metadata (pyproject.toml) ... \u001b[?25l\u001b[?25hdone\n",
            "Requirement already satisfied: setuptools in /usr/local/lib/python3.8/dist-packages (from pyLDAvis) (57.4.0)\n",
            "Requirement already satisfied: future in /usr/local/lib/python3.8/dist-packages (from pyLDAvis) (0.16.0)\n",
            "Requirement already satisfied: numpy>=1.20.0 in /usr/local/lib/python3.8/dist-packages (from pyLDAvis) (1.21.6)\n",
            "Requirement already satisfied: scikit-learn in /usr/local/lib/python3.8/dist-packages (from pyLDAvis) (1.0.2)\n",
            "Requirement already satisfied: jinja2 in /usr/local/lib/python3.8/dist-packages (from pyLDAvis) (2.11.3)\n",
            "Collecting funcy\n",
            "  Downloading funcy-1.17-py2.py3-none-any.whl (33 kB)\n",
            "Requirement already satisfied: numexpr in /usr/local/lib/python3.8/dist-packages (from pyLDAvis) (2.8.4)\n",
            "Collecting sklearn\n",
            "  Downloading sklearn-0.0.post1.tar.gz (3.6 kB)\n",
            "  Preparing metadata (setup.py) ... \u001b[?25l\u001b[?25hdone\n",
            "Requirement already satisfied: scipy in /usr/local/lib/python3.8/dist-packages (from pyLDAvis) (1.7.3)\n",
            "Requirement already satisfied: pandas>=1.2.0 in /usr/local/lib/python3.8/dist-packages (from pyLDAvis) (1.3.5)\n",
            "Requirement already satisfied: gensim in /usr/local/lib/python3.8/dist-packages (from pyLDAvis) (3.6.0)\n",
            "Requirement already satisfied: joblib in /usr/local/lib/python3.8/dist-packages (from pyLDAvis) (1.2.0)\n",
            "Requirement already satisfied: pytz>=2017.3 in /usr/local/lib/python3.8/dist-packages (from pandas>=1.2.0->pyLDAvis) (2022.7)\n",
            "Requirement already satisfied: python-dateutil>=2.7.3 in /usr/local/lib/python3.8/dist-packages (from pandas>=1.2.0->pyLDAvis) (2.8.2)\n",
            "Requirement already satisfied: six>=1.5.0 in /usr/local/lib/python3.8/dist-packages (from gensim->pyLDAvis) (1.15.0)\n",
            "Requirement already satisfied: smart-open>=1.2.1 in /usr/local/lib/python3.8/dist-packages (from gensim->pyLDAvis) (6.3.0)\n",
            "Requirement already satisfied: MarkupSafe>=0.23 in /usr/local/lib/python3.8/dist-packages (from jinja2->pyLDAvis) (2.0.1)\n",
            "Requirement already satisfied: threadpoolctl>=2.0.0 in /usr/local/lib/python3.8/dist-packages (from scikit-learn->pyLDAvis) (3.1.0)\n",
            "Building wheels for collected packages: pyLDAvis, sklearn\n",
            "  Building wheel for pyLDAvis (pyproject.toml) ... \u001b[?25l\u001b[?25hdone\n",
            "  Created wheel for pyLDAvis: filename=pyLDAvis-3.3.1-py2.py3-none-any.whl size=136898 sha256=373523af93dfe9816cf3c4bd195358f147cf426a8cd7bef354223163697c96a5\n",
            "  Stored in directory: /root/.cache/pip/wheels/90/61/ec/9dbe9efc3acf9c4e37ba70fbbcc3f3a0ebd121060aa593181a\n",
            "  Building wheel for sklearn (setup.py) ... \u001b[?25l\u001b[?25hdone\n",
            "  Created wheel for sklearn: filename=sklearn-0.0.post1-py3-none-any.whl size=2344 sha256=76e103f6bc255ab536d2defc9629bef11f092b7d877cf0e62c67a6993f9f6d27\n",
            "  Stored in directory: /root/.cache/pip/wheels/14/25/f7/1cc0956978ae479e75140219088deb7a36f60459df242b1a72\n",
            "Successfully built pyLDAvis sklearn\n",
            "Installing collected packages: sklearn, funcy, pyLDAvis\n",
            "Successfully installed funcy-1.17 pyLDAvis-3.3.1 sklearn-0.0.post1\n"
          ]
        }
      ],
      "source": [
        "# Installing pyLDAvis.\n",
        "!pip install pyLDAvis"
      ]
    },
    {
      "cell_type": "code",
      "execution_count": 29,
      "metadata": {
        "colab": {
          "base_uri": "https://localhost:8080/"
        },
        "id": "ZvifMa718IWg",
        "outputId": "08a131ef-6721-4636-9080-002b1a9d2e18"
      },
      "outputs": [
        {
          "output_type": "stream",
          "name": "stderr",
          "text": [
            "/usr/local/lib/python3.8/dist-packages/past/types/oldstr.py:5: DeprecationWarning: Using or importing the ABCs from 'collections' instead of from 'collections.abc' is deprecated since Python 3.3, and in 3.10 it will stop working\n",
            "  from collections import Iterable\n",
            "/usr/local/lib/python3.8/dist-packages/past/builtins/misc.py:4: DeprecationWarning: Using or importing the ABCs from 'collections' instead of from 'collections.abc' is deprecated since Python 3.3, and in 3.10 it will stop working\n",
            "  from collections import Mapping\n"
          ]
        }
      ],
      "source": [
        "import pyLDAvis.sklearn\n",
        "pyLDAvis.enable_notebook()"
      ]
    },
    {
      "cell_type": "code",
      "execution_count": 30,
      "metadata": {
        "id": "sPHfXFhc4w7D"
      },
      "outputs": [],
      "source": [
        "import pyLDAvis.sklearn\n",
        "'''\n",
        "function - 'get_country_specific_content'\n",
        "Returns DTM, LDA model parameters, and Count Vectorizer for a country specific data.\n",
        "Arguments passed:\n",
        "'country' - is input country you want to know.\n",
        "'''\n",
        "def get_country_specific_content(country_df):\n",
        "  # country_df has the single country data.\n",
        "  reindexed_netflix_data = country_df['description']\n",
        "\n",
        "  # Count Vectoriser\n",
        "  count_vectorizer = CountVectorizer(stop_words='english')\n",
        "\n",
        "  # Obtaining DTM\n",
        "  Document_term_matrix = count_vectorizer.fit_transform(reindexed_netflix_data.values)\n",
        "\n",
        "  grid_params = {'n_components' : list(range(5,10))}\n",
        "\n",
        "  # LDA model\n",
        "  lda = LatentDirichletAllocation()\n",
        "  lda_model = GridSearchCV(lda,param_grid=grid_params)\n",
        "  lda_model.fit(Document_term_matrix)\n",
        "\n",
        "  # Best LDA model\n",
        "  best_lda_model = lda_model.best_estimator_\n",
        "\n",
        "  # Transform and prepare a LDA model’s data for visualization\n",
        "  pyLDAvis.enable_notebook()\n",
        "  lda_panel = pyLDAvis.sklearn.prepare(best_lda_model, Document_term_matrix, count_vectorizer, mds='tsne')\n",
        "  return lda_panel"
      ]
    },
    {
      "cell_type": "code",
      "execution_count": 31,
      "metadata": {
        "id": "9jpTuqyx41Nx"
      },
      "outputs": [],
      "source": [
        "'''\n",
        "function - 'get_specific_country_plots'\n",
        "Plots the following:\n",
        "1. Count plot for Movies and TV Shows.\n",
        "2. Count plot for ratings of Movies and TV Shows.\n",
        "3. Count plot for Top 10 cast.\n",
        "4. Count plot for Top 10 countries.\n",
        "5. Count plot for Top 10 TV Shows Seasons.\n",
        "6. Displot for Duration Distribution for Netflix Movies.\n",
        "Arguments passed:\n",
        "'country_df' - Dataset for a specific country.\n",
        "'''\n",
        "def get_specific_country_plots(country_df):\n",
        "  # Count plot for Movies and TV Shows.\n",
        "  plt.figure(figsize=(31,20))\n",
        "  plt.subplot(3, 2, 1)\n",
        "  sns.countplot(x=\"type\", data=country_df)\n",
        "  plt.title(\"Count of Movies and TV Shows\", fontsize=14)\n",
        "\n",
        "  plt.subplot(3, 2, 2)\n",
        "  # Count plot for ratings of Movies and TV Shows.\n",
        "  sns.countplot(x=\"rating\", data=country_df, hue='type')\n",
        "  plt.title(\"Ratings\", fontsize=14)\n",
        "\n",
        "  plt.subplot(3, 2, 3)\n",
        "  # Count plot for Top 10 cast.\n",
        "  cast = country_df[country_df['cast'] != 'No Cast'].cast.str.split(', ', expand = True).stack().reset_index(level = 1, drop = True)\n",
        "  sns.countplot(y = cast, order=cast.value_counts().index[:10])\n",
        "  plt.title(\"Top 10 cast\", fontsize=14)\n",
        "\n",
        "  plt.subplot(3, 2, 4)\n",
        "  # Count plot for Top 10 countries.\n",
        "  genre_df = country_df.listed_in.str.split(', ', expand = True).stack().reset_index(level = 1, drop = True)\n",
        "  sns.countplot(y = genre_df, order=genre_df.value_counts().index[:10])\n",
        "  plt.title(\"Top 10 genre\", fontsize=14)\n",
        "\n",
        "  plt.subplot(3, 2, 5)\n",
        "  # Count plot for Top 10 TV Shows Seasons.\n",
        "  show_df = pd.DataFrame(country_df[country_df.type == 'TV Show'].duration.replace(['1 Season'], '1 Seasons').str.replace(' Seasons','').sort_values()).astype(int)\n",
        "  sns.countplot(data = show_df, x = 'duration', order = list(range(1,10)))\n",
        "  plt.title(\"Top 10 TV Shows Seasons\", fontsize=14)\n",
        "\n",
        "  plt.subplot(3, 2, 6)\n",
        "  # Displot for Duration Distribution for Netflix Movies.\n",
        "  movie_df = pd.DataFrame(country_df[country_df.type == 'Movie'].duration.str.replace(' min', '').astype(int))\n",
        "  sns.distplot(movie_df.duration)\n",
        "  plt.title(\"Duration Distribution for Netflix Movies\", fontsize=14)"
      ]
    },
    {
      "cell_type": "markdown",
      "metadata": {
        "id": "2HZh9PvJ2Ys-"
      },
      "source": [
        "### **Understanding what type content is available in different countries**"
      ]
    },
    {
      "cell_type": "code",
      "execution_count": 32,
      "metadata": {
        "id": "zwwLdqILUEYF"
      },
      "outputs": [],
      "source": [
        "# countries dataframe has the show, broadcasted countries and type.\n",
        "countries = pd.DataFrame(netflix_df1['country'].str.split(',', expand = True).stack().reset_index(level = 1, drop = True), columns = ['country'])\n",
        "countries['type'] = [netflix_df1.loc[i, 'type'] for i in countries.index]"
      ]
    },
    {
      "cell_type": "code",
      "execution_count": 33,
      "metadata": {
        "id": "1sPAgbGxsTZK"
      },
      "outputs": [],
      "source": [
        "# top_countries has all the top 20 countries and content type\n",
        "top_20_countries = [i for i in list(countries.country.value_counts()[:21].index) if i not in ['Country Not Available']]\n",
        "top_countries = pd.DataFrame()\n",
        "k = 0\n",
        "for i, j in zip(countries.type, countries.country):\n",
        "  if j in top_20_countries:\n",
        "    top_countries.loc[k, 'country'] = j\n",
        "    top_countries.loc[k, 'type'] = i\n",
        "    k = k + 1"
      ]
    },
    {
      "cell_type": "code",
      "execution_count": 34,
      "metadata": {
        "id": "Mj2RXF73A6mp",
        "colab": {
          "base_uri": "https://localhost:8080/",
          "height": 470
        },
        "outputId": "5fbfdf9e-2503-4422-b747-23eb9ff28907"
      },
      "outputs": [
        {
          "output_type": "execute_result",
          "data": {
            "text/plain": [
              "Text(0.5, 1.0, 'Type for Top 20 countries')"
            ]
          },
          "metadata": {},
          "execution_count": 34
        },
        {
          "output_type": "display_data",
          "data": {
            "text/plain": [
              "<Figure size 1440x504 with 1 Axes>"
            ],
            "image/png": "[encoded data removed]"
          },
          "metadata": {
            "needs_background": "light"
          }
        }
      ],
      "source": [
        "# Netflix Film Ratings\n",
        "plt.figure(figsize=(20,7))\n",
        "sns.countplot(x = \"country\", data = top_countries, hue = 'type')\n",
        "plt.title(\"Type for Top 20 countries\", fontsize=14)"
      ]
    },
    {
      "cell_type": "markdown",
      "metadata": {
        "id": "HP3WtdBew59N"
      },
      "source": [
        "The number of movies in many countries is higher than the number of TV shows. There are few countries with more TV shows than movies, such as Japan, South Korea, Taiwan, etc."
      ]
    },
    {
      "cell_type": "markdown",
      "metadata": {
        "id": "N99G8k_uXQec"
      },
      "source": [
        "For a detailed analysis, I am analysing data for a single country from the list of more than 100 countries available in the dataset."
      ]
    },
    {
      "cell_type": "markdown",
      "metadata": {
        "id": "0wwhFUq-5ILk"
      },
      "source": [
        "Topic Modelling on specific country dataset."
      ]
    },
    {
      "cell_type": "markdown",
      "metadata": {
        "id": "ZxXby44RFamM"
      },
      "source": [
        "Choosing the country to be United States."
      ]
    },
    {
      "cell_type": "code",
      "execution_count": 35,
      "metadata": {
        "id": "MVWlilE-8v4O",
        "colab": {
          "base_uri": "https://localhost:8080/",
          "height": 1000
        },
        "outputId": "bde05e46-2fbc-46df-e31f-273bf1768a22"
      },
      "outputs": [
        {
          "output_type": "execute_result",
          "data": {
            "text/plain": [
              "PreparedData(topic_coordinates=                x           y  topics  cluster       Freq\n",
              "topic                                                    \n",
              "3      150.222153  -72.269554       1        1  23.237092\n",
              "4       51.163364 -159.968018       2        1  22.939356\n",
              "2      -73.144554   21.523815       3        1  19.305948\n",
              "0      -66.410133 -110.606438       4        1  19.173647\n",
              "1       54.417324   12.443444       5        1  15.343957, topic_info=          Term        Freq       Total Category  logprob  loglift\n",
              "10027    world  129.000000  129.000000  Default  30.0000  30.0000\n",
              "8616   stories   39.000000   39.000000  Default  29.0000  29.0000\n",
              "3832      girl   41.000000   41.000000  Default  28.0000  28.0000\n",
              "7916    secret   41.000000   41.000000  Default  27.0000  27.0000\n",
              "4295   holiday   23.000000   23.000000  Default  26.0000  26.0000\n",
              "...        ...         ...         ...      ...      ...      ...\n",
              "10087    young   10.010506  107.514921   Topic5  -6.3080  -0.4995\n",
              "3663   friends    9.310652   88.153695   Topic5  -6.3805  -0.3735\n",
              "7848    school    9.369168   96.719175   Topic5  -6.3742  -0.4599\n",
              "5448       man    8.616117   72.875673   Topic5  -6.4580  -0.2607\n",
              "5352      love    8.128837   70.844169   Topic5  -6.5162  -0.2906\n",
              "\n",
              "[427 rows x 6 columns], token_table=       Topic      Freq     Term\n",
              "term                           \n",
              "11         4  0.777144       15\n",
              "11         5  0.129524       15\n",
              "69         2  0.946817     1997\n",
              "169        4  0.644611   abused\n",
              "222        1  0.220094   actors\n",
              "...      ...       ...      ...\n",
              "10087      4  0.130214    young\n",
              "10087      5  0.093010    young\n",
              "10089      1  0.700660  younger\n",
              "10089      2  0.140132  younger\n",
              "10089      4  0.140132  younger\n",
              "\n",
              "[870 rows x 3 columns], R=30, lambda_step=0.01, plot_opts={'xlab': 'PC1', 'ylab': 'PC2'}, topic_order=[4, 5, 3, 1, 2])"
            ],
            "text/html": [
              "\n",
              "<link rel=\"stylesheet\" type=\"text/css\" href=\"https://cdn.jsdelivr.net/gh/bmabey/pyLDAvis@3.3.1/pyLDAvis/js/ldavis.v1.0.0.css\">\n",
              "\n",
              "\n",
              "<div id=\"ldavis_el115139733587810000915699513\"></div>\n",
              "<script type=\"text/javascript\">\n",
              "\n",
              "var ldavis_el115139733587810000915699513_data = {\"mdsDat\": {\"x\": [150.22215270996094, 51.16336441040039, -73.1445541381836, -66.4101333618164, 54.41732406616211], \"y\": [-72.2695541381836, -159.968017578125, 21.523815155029297, -110.60643768310547, 12.44344425201416], \"topics\": [1, 2, 3, 4, 5], \"cluster\": [1, 1, 1, 1, 1], \"Freq\": [23.237092021306154, 22.939356211188553, 19.305947576558307, 19.173646773283494, 15.343957417663498]}, \"tinfo\": {\"Term\": [\"world\", \"stories\", \"girl\", \"secret\", \"holiday\", \"hits\", \"save\", \"cultural\", \"comedy\", \"los\", \"lives\", \"face\", \"hip\", \"life\", \"leads\", \"american\", \"evil\", \"hop\", \"battle\", \"angeles\", \"takes\", \"hit\", \"girlfriend\", \"comic\", \"make\", \"best\", \"san\", \"beloved\", \"crime\", \"special\", \"perspectives\", \"visions\", \"royal\", \"agrees\", \"israel\", \"evan\", \"shock\", \"maya\", \"titan\", \"darkness\", \"engineer\", \"routines\", \"targeting\", \"mma\", \"illness\", \"asked\", \"alliance\", \"psychiatric\", \"measures\", \"viral\", \"disappears\", \"safety\", \"drives\", \"changing\", \"themed\", \"suicidal\", \"score\", \"dynamic\", \"scheme\", \"chewbacca\", \"struggle\", \"physical\", \"los\", \"tries\", \"baby\", \"teen\", \"battle\", \"angeles\", \"marine\", \"mental\", \"williams\", \"younger\", \"documentary\", \"adult\", \"break\", \"mother\", \"battles\", \"world\", \"help\", \"places\", \"sex\", \"series\", \"singer\", \"new\", \"love\", \"old\", \"year\", \"drug\", \"master\", \"man\", \"stars\", \"members\", \"young\", \"night\", \"special\", \"food\", \"school\", \"drama\", \"family\", \"american\", \"film\", \"town\", \"life\", \"high\", \"comedy\", \"history\", \"home\", \"finds\", \"war\", \"takes\", \"friends\", \"star\", \"francisco\", \"studio\", \"hands\", \"minded\", \"san\", \"shaped\", \"benji\", \"exposing\", \"course\", \"cabin\", \"altering\", \"bound\", \"budding\", \"recording\", \"1997\", \"flex\", \"morgan\", \"boarding\", \"unconventional\", \"hiding\", \"writing\", \"intelligent\", \"poetry\", \"watching\", \"ivy\", \"hostile\", \"let\", \"clock\", \"shape\", \"sparks\", \"tragedy\", \"hit\", \"romantic\", \"secret\", \"lives\", \"teacher\", \"defend\", \"daily\", \"discovers\", \"sing\", \"students\", \"massive\", \"romance\", \"school\", \"life\", \"filmed\", \"high\", \"day\", \"concert\", \"offers\", \"love\", \"mom\", \"young\", \"woman\", \"daughter\", \"future\", \"son\", \"takes\", \"crime\", \"old\", \"self\", \"city\", \"music\", \"family\", \"new\", \"documentary\", \"world\", \"death\", \"team\", \"live\", \"friends\", \"man\", \"home\", \"time\", \"help\", \"special\", \"finds\", \"cultural\", \"hip\", \"maria\", \"dollars\", \"hop\", \"chelsea\", \"discusses\", \"aka\", \"interracial\", \"bamford\", \"docudrama\", \"barbecue\", \"engineering\", \"pharmaceutical\", \"university\", \"larger\", \"willing\", \"value\", \"nuclear\", \"beach\", \"raunchy\", \"roving\", \"gigi\", \"alaska\", \"cuisine\", \"demarcus\", \"piano\", \"magazine\", \"doug\", \"improvised\", \"rapper\", \"dancer\", \"status\", \"eager\", \"mechanic\", \"ship\", \"ends\", \"stories\", \"marijuana\", \"comic\", \"comedy\", \"filled\", \"problems\", \"american\", \"special\", \"real\", \"leader\", \"realize\", \"college\", \"estranged\", \"working\", \"team\", \"life\", \"examines\", \"best\", \"series\", \"big\", \"family\", \"returns\", \"stand\", \"competition\", \"people\", \"new\", \"star\", \"women\", \"world\", \"time\", \"young\", \"finds\", \"home\", \"fun\", \"way\", \"town\", \"years\", \"documentary\", \"friends\", \"small\", \"high\", \"help\", \"apartment\", \"interview\", \"tommy\", \"juni\", \"basement\", \"refugees\", \"15\", \"enthusiast\", \"rebecca\", \"rushes\", \"river\", \"aimless\", \"elia\", \"motley\", \"identify\", \"superman\", \"defending\", \"fist\", \"slacker\", \"abused\", \"madagascar\", \"warfare\", \"construction\", \"impress\", \"decision\", \"josh\", \"adoption\", \"molly\", \"dino\", \"sees\", \"heist\", \"surfing\", \"loves\", \"trained\", \"survival\", \"holiday\", \"girl\", \"sets\", \"evil\", \"mysterious\", \"save\", \"group\", \"discover\", \"beloved\", \"attempt\", \"friends\", \"building\", \"comedian\", \"gang\", \"chris\", \"game\", \"new\", \"strangers\", \"job\", \"spirit\", \"world\", \"forces\", \"power\", \"life\", \"goes\", \"wife\", \"family\", \"home\", \"crew\", \"woman\", \"series\", \"best\", \"city\", \"documentary\", \"turns\", \"follows\", \"man\", \"comedy\", \"takes\", \"old\", \"york\", \"young\", \"school\", \"year\", \"teenager\", \"seattle\", \"culminating\", \"staying\", \"mile\", \"jack\", \"brennan\", \"diagnosis\", \"shipped\", \"states\", \"united\", \"humble\", \"persona\", \"enemy\", \"scott\", \"vs\", \"nerve\", \"plants\", \"hunky\", \"hatchett\", \"bianca\", \"rane\", \"deuce\", \"plunges\", \"canine\", \"collectors\", \"cowboys\", \"dale\", \"elastigirl\", \"diplomat\", \"hits\", \"glory\", \"actors\", \"edgy\", \"mr\", \"roots\", \"named\", \"news\", \"leads\", \"girlfriend\", \"danger\", \"finally\", \"face\", \"investigation\", \"strength\", \"terrifying\", \"truths\", \"revenge\", \"takes\", \"finds\", \"heart\", \"new\", \"york\", \"gets\", \"high\", \"make\", \"road\", \"child\", \"cash\", \"time\", \"special\", \"life\", \"city\", \"story\", \"reality\", \"comedy\", \"series\", \"wife\", \"stand\", \"documentary\", \"friend\", \"comedian\", \"family\", \"war\", \"best\", \"young\", \"friends\", \"school\", \"man\", \"love\"], \"Freq\": [129.0, 39.0, 41.0, 41.0, 23.0, 13.0, 52.0, 10.0, 84.0, 23.0, 54.0, 22.0, 9.0, 208.0, 16.0, 46.0, 26.0, 10.0, 25.0, 22.0, 70.0, 25.0, 21.0, 41.0, 26.0, 51.0, 10.0, 14.0, 36.0, 84.0, 4.945129544854811, 4.1482903137200005, 6.543596688327373, 6.540483700455729, 2.5528976513751656, 2.552897630855218, 2.55289734875548, 2.552897156785338, 2.552897027914097, 2.5528968876326155, 2.552896746336144, 2.5528966743992276, 2.5528964733276567, 2.552896464885125, 2.552896216912021, 2.5528961126175975, 2.5528958852942654, 2.552895728644565, 2.55289539033026, 2.5522738480227494, 2.552202580338364, 2.55110261297949, 2.551101005878044, 2.550802246554728, 2.550612528348987, 2.5474739707884972, 4.149941261636361, 4.149660512524429, 4.150418712286894, 1.7551151018874236, 8.13638890768273, 5.552253664951555, 13.870938098568626, 18.029531073607536, 8.94460214150051, 28.600758012195637, 14.534144234414148, 12.948582267827959, 4.951513713950763, 4.947589993430353, 4.946740098643244, 4.949550860976346, 48.85688409470363, 5.7506419197589835, 8.81548197597832, 22.390804238805018, 4.851004590514722, 46.380797122292094, 30.269946127681486, 4.791277912871154, 14.341212961193417, 37.36234914977036, 6.546573768533958, 55.31413414622977, 25.015270358052582, 24.76203641501343, 20.157338055689223, 12.479768317244078, 8.942709028836163, 23.220664976189724, 10.989739443800802, 8.945821903427056, 29.35862440339122, 13.526821897181252, 22.91073073710248, 10.450720865017216, 24.16812974915474, 12.444911093837435, 25.244243681399084, 15.148403163061435, 13.518647973821892, 15.894161160606528, 27.58581706867995, 19.119165712931878, 18.499124656650043, 13.181994767494814, 16.11234824320537, 15.718909993065326, 13.5425683642776, 14.38600519308927, 14.50339597046707, 13.63231053507438, 7.331988355728662, 5.739029913999785, 5.738875238379685, 4.144054342406579, 8.889154858522044, 3.3477641912409704, 3.3476293263015715, 3.3472090071929372, 6.536858231187988, 2.5506763763796108, 2.5506758184198124, 2.550675773637325, 2.550675649443424, 2.550675635708839, 2.550675632262397, 2.5506751862083568, 2.550675155681367, 2.5506747043226157, 2.5506746381846623, 2.550674374612584, 2.5506743739384805, 2.55067402829616, 2.5506734722980173, 2.5506728948143285, 2.550199728467177, 2.5491077518846295, 2.5481415503443774, 2.5467720984016395, 2.542906849043844, 4.94287585609526, 4.943387001057427, 16.57373529502497, 5.741738964820917, 24.257758276312952, 30.46255201490204, 8.9391709187398, 4.147533912249358, 4.146113646114347, 12.819060018707141, 4.146837697951076, 12.186726304290042, 4.941991466953017, 13.629260182772924, 40.66691137420284, 72.64667741690003, 7.254571910803387, 36.45777117951578, 16.571978588738467, 6.4069017478964705, 7.390221700276343, 26.946056143392315, 10.534612092432035, 34.83740414513542, 24.80704976873316, 15.172016067798918, 10.958830723383919, 14.518868938832087, 23.089181332053535, 14.754653677642862, 22.487690983751445, 10.94728804716464, 19.132985070246203, 13.738120033146124, 28.6973841294445, 37.251675720286755, 27.35030137415215, 27.903983330587156, 16.663047692080962, 17.310702847139773, 13.63408265523823, 21.21088603159239, 18.981244695753787, 17.497253285795882, 16.26642538505552, 17.57453976065725, 13.875860546691108, 13.656348244704432, 9.440806801941386, 8.668635984128512, 4.0251219798710025, 4.025121654326654, 8.613551308570647, 3.2498980403160234, 3.249616627408041, 2.476997245960245, 2.476995411935767, 2.476995238046705, 2.4769950751854233, 2.4769948083035596, 2.4769944431658204, 2.4769943245395485, 2.476295479242095, 2.4759736923033944, 2.4740646235355066, 2.4727579645952953, 4.025645993971495, 4.026407747182246, 6.350498967994583, 1.7029329813872964, 1.7029328969639372, 1.7029327655148592, 1.7029327211198766, 1.7029327210412137, 1.7029327138361627, 1.7029327115166337, 1.7029327043775666, 1.7029326429907785, 3.8535581944034876, 6.351540809419016, 3.2521548488384022, 3.252930190570137, 3.252675441397087, 3.2524157406054046, 6.352659461873956, 21.397007647584452, 4.030325515609983, 19.28035888596926, 32.45422849722937, 7.053492702479849, 6.31537819660599, 19.229643972008628, 27.566928594748163, 13.551578538033056, 7.09545592628378, 4.7980567557933815, 15.571364753328497, 4.8033195642470545, 6.947121784354343, 19.25957708101405, 47.96628051549038, 8.084350327017582, 17.825700433522766, 29.926958295173563, 14.480016368555427, 31.373499858120784, 13.005637279949854, 18.632502478288654, 10.173521499529704, 11.321232300498057, 34.057007729098544, 14.878923447862563, 11.238971989617259, 23.873240770981834, 15.38737564650187, 19.22092401248016, 15.206584466200887, 14.314871544965849, 10.223541237391181, 10.34229286179422, 12.76558714656322, 11.770866226404934, 14.963359842031563, 13.37833349647256, 10.612243071568765, 11.404727872641573, 10.91629880107906, 5.580219959658804, 4.805784024076426, 4.805671845835873, 3.2555299849027994, 3.2555289589071643, 3.247863279022091, 6.356422019201079, 2.4804022176814176, 2.4804019804276876, 2.480401809790225, 2.480401501864257, 2.4804014530840903, 2.4804014489475747, 2.48040122438104, 2.480401074262707, 2.4804010360533875, 2.480400354774813, 2.480053413752997, 2.4798767025191215, 2.47972418048587, 2.4793597705002917, 2.4788957349265943, 2.47833057043365, 2.478190316825468, 2.4298975751671144, 1.7052751423554273, 1.7052749991480056, 1.7052749326152667, 1.705274679522101, 1.7052745950801738, 5.582263885795137, 3.2565204786830217, 3.2567686088780663, 3.2552327952932023, 7.14184804061966, 12.876141022000564, 20.55472317762399, 13.086995410698083, 13.736115285209763, 14.645587826117964, 21.47939542687555, 22.6810512072054, 11.680768723528505, 7.908494272529325, 6.9733760913264575, 29.75042752763519, 5.583993541456249, 19.17725669506246, 9.996583001042806, 4.812944660259051, 12.94758563886699, 46.57114087318333, 5.583693832008508, 9.469220023495627, 7.799990569272711, 31.629169298676675, 9.600029408051354, 9.825449197310476, 39.4886617232876, 9.896118075617752, 12.87899203625474, 24.709679881607602, 17.481221168447068, 10.874384393266006, 15.949407753512405, 19.63473975008608, 13.408423295620256, 14.388994860755133, 19.312401378464077, 11.017485012510175, 11.461252612521394, 14.174736905536118, 14.642235052129314, 13.456942311958759, 13.459825060178105, 12.078591371244007, 14.08746271341195, 13.720943077761964, 12.191885497794345, 5.340069724784603, 3.858507798201631, 3.1170711290777366, 3.117071046982356, 2.3749116063782134, 2.37491024869239, 2.3749100845687696, 2.374910081918677, 2.374909971640827, 2.3749099547760943, 2.3749095939231815, 2.3735563978234815, 2.3679115820002856, 4.603923532213882, 3.8596975614062177, 1.6327500270360567, 1.6327499757062596, 1.6327499022318168, 1.6327497002338343, 1.6327495664566334, 1.6327494445251574, 1.632749434353333, 1.6327494181447633, 1.6327493443227492, 1.632749260414814, 1.6327492246308228, 1.632749133844061, 1.6327490443398505, 1.6327489993632565, 1.63274898490568, 9.78712557668508, 3.1188121181282646, 3.1189902490688812, 3.0798978213358508, 5.186522616827152, 4.604297835966917, 5.351244530928937, 5.349383125598277, 8.895140901663703, 10.271549031598893, 4.610128028834303, 5.3518531019968805, 9.213937991134692, 3.1211601310493595, 3.1174430254746985, 4.602452539397118, 4.608921243297527, 5.983489790372138, 16.494251843529277, 15.921989471763785, 5.528686091799668, 27.349278920685762, 12.278310736692237, 9.489422685077196, 16.482730329176423, 8.287908363337545, 6.0977329170639125, 6.536834265601912, 5.355148927578475, 11.296595456248319, 13.517259605911143, 20.313126472590778, 11.289721618073186, 9.669230224568722, 7.579437201177178, 11.346320168588555, 12.016941432055283, 8.320695467008957, 9.800666375636906, 12.023273278659865, 7.762694884946024, 8.77532356139695, 11.09166711810362, 8.110733416976473, 8.374370069568366, 10.010505750714326, 9.310652002997022, 9.369167776955612, 8.61611675694675, 8.128837114683623], \"Total\": [129.0, 39.0, 41.0, 41.0, 23.0, 13.0, 52.0, 10.0, 84.0, 23.0, 54.0, 22.0, 9.0, 208.0, 16.0, 46.0, 26.0, 10.0, 25.0, 22.0, 70.0, 25.0, 21.0, 41.0, 26.0, 51.0, 10.0, 14.0, 36.0, 84.0, 5.5639403140032515, 4.766146541128522, 7.901792671152977, 7.9335353714079675, 3.1705928652356867, 3.1705928621210115, 3.170592853300905, 3.1705928437710327, 3.1705928418988685, 3.170592837005913, 3.170592833818845, 3.17059283167404, 3.170592825526301, 3.170592822694982, 3.1705928156191674, 3.1705928105977854, 3.1705928008309807, 3.1705928010819546, 3.170592787487489, 3.170575123885084, 3.1705921156944914, 3.170467814395521, 3.1704677553518614, 3.170530539903277, 3.1705279500685384, 3.1704862551765896, 5.541328036826287, 5.541320055256839, 5.563248401606791, 2.3728100282110685, 11.077248015487411, 7.905413452706755, 23.544494130982613, 32.33703757906666, 14.126688194351535, 58.26592416534553, 25.797382689615148, 22.802783637750036, 7.113285930560214, 7.11423463689024, 7.113023010735046, 7.136129552255403, 122.5062199680113, 8.653336692317877, 14.91557239322245, 47.916912393940486, 7.132184025690351, 129.9422395845721, 75.42072061127689, 7.107040638648296, 31.37261581573716, 112.47738043965228, 11.067229652687503, 200.54323738948415, 70.84416943963164, 71.55078176677048, 55.731412074552075, 28.170833636262245, 17.257935934172703, 72.87567344034957, 23.585000342371796, 17.302208199362937, 107.51492102513309, 33.13252083456322, 84.88347580917386, 22.68663238146941, 96.71917452831269, 31.424335965360953, 121.11647466867558, 46.17968451209391, 38.562592193042754, 57.04934645249262, 208.00056319694875, 91.48948827093137, 84.678769539499, 37.49141290439792, 67.48840187788345, 71.40620698326975, 42.868764837221256, 70.84390798456693, 88.15369502916423, 49.22088058394634, 7.950987834270568, 6.356863894157461, 6.356859625981074, 4.762687514090096, 10.318162110231118, 3.9655983651858495, 3.965594636088684, 3.965598819092255, 7.928015566805215, 3.1685098778488436, 3.1685098550801873, 3.1685098531728486, 3.1685098541523367, 3.1685098506342895, 3.1685098515386243, 3.1685098352173986, 3.1685098366378703, 3.168509818508214, 3.168509817154822, 3.1685097998522407, 3.1685098057795855, 3.168509795600721, 3.1685097806751883, 3.1685097597046483, 3.168510224961757, 3.168466643498306, 3.1684399999960626, 3.1684022558661153, 3.168516170464706, 6.334938183385439, 6.357487769153528, 25.291328146761995, 7.873277364212353, 41.53505352537532, 54.16226545630863, 13.343550549182467, 5.5368319657927145, 5.536786360423346, 20.426554405781207, 5.5604676425689545, 19.78186580765514, 7.076051766353697, 25.076850587143152, 96.71917452831269, 208.00056319694875, 11.749390269960308, 91.48948827093137, 33.97177755611684, 10.233985711678047, 12.50237294452609, 70.84416943963164, 20.40918497857636, 107.51492102513309, 67.40439263358738, 36.29085205520491, 22.75493967191683, 35.143872663541835, 70.84390798456693, 36.73493397357922, 71.55078176677048, 23.606280033340116, 59.880434657140285, 34.57174543229421, 121.11647466867558, 200.54323738948415, 122.5062199680113, 129.9422395845721, 50.19192897325397, 56.20401106878105, 34.5955572887173, 88.15369502916423, 72.87567344034957, 67.48840187788345, 58.35422115005264, 75.42072061127689, 84.88347580917386, 71.40620698326975, 10.065903710336373, 9.291932199797445, 4.647560147872225, 4.647560148279127, 10.090658810198153, 3.8734986327882197, 3.873541160955515, 3.0994339203190675, 3.099433923782781, 3.09943392608403, 3.099433927992102, 3.0994339276492147, 3.0994339302878284, 3.099433927760106, 3.099454682795657, 3.0993919125313947, 3.099520868622683, 3.0993186412671814, 5.389789664260371, 5.422701686498825, 8.564214785047996, 2.325370815422709, 2.325370812237749, 2.325370814102132, 2.3253708131492137, 2.3253708159389608, 2.3253708102008486, 2.3253708133470714, 2.3253708134095934, 2.3253708109142255, 5.44975170287684, 9.306146749814353, 4.6157034581923835, 4.670529614394402, 4.670537152499881, 4.6712380669235785, 10.114071844885974, 39.60822991142997, 6.220364003797708, 41.941459400180435, 84.678769539499, 12.446397202216069, 10.912484836390478, 46.17968451209391, 84.88347580917386, 32.6453390672222, 13.327649611627077, 7.747025763842214, 40.492370769776166, 7.813713431338356, 13.208686569054933, 56.20401106878105, 208.00056319694875, 16.46089886716404, 51.08153076391957, 112.47738043965228, 38.71792407272668, 121.11647466867558, 35.790459824825, 64.6225884545127, 24.81668337619877, 30.501977753463503, 200.54323738948415, 49.22088058394634, 30.45576194993839, 129.9422395845721, 58.35422115005264, 107.51492102513309, 71.40620698326975, 67.48840187788345, 30.508708434265447, 31.84734148878837, 57.04934645249262, 49.272156453066835, 122.5062199680113, 88.15369502916423, 35.84101785331334, 91.48948827093137, 75.42072061127689, 6.203136565327676, 5.428009948836075, 5.4280132461276605, 3.877754829769235, 3.877754830431055, 3.87797858653375, 7.720575227440417, 3.102627267438102, 3.102627265978347, 3.102627267959179, 3.1026272656101064, 3.102627268245931, 3.102627265938721, 3.102627265803877, 3.102627263332704, 3.102627268639758, 3.1026272657740614, 3.102637130731406, 3.1026265469117607, 3.1026470275361167, 3.102657666238325, 3.1026698637093717, 3.1025713029869717, 3.1026427408167336, 3.1025579054718455, 2.327499704606481, 2.3274997060096743, 2.3274997039641563, 2.327499706114918, 2.327499703720072, 7.797276614622121, 4.619958153623237, 4.651819647528376, 4.651862491629119, 10.888071947424576, 23.462579145256758, 41.254661703457465, 24.97855900665753, 26.526488496150268, 30.344964770562996, 52.54975065487657, 57.65114495985187, 24.685806302115797, 14.630305583862658, 12.354224245904035, 88.15369502916423, 9.227215307751298, 51.19027918904751, 21.01696302920902, 7.741298397850764, 31.8854749151482, 200.54323738948415, 9.985695452280723, 21.639310061236223, 16.395926402216986, 129.9422395845721, 22.522919384070285, 23.54815819101413, 208.00056319694875, 24.212198940194668, 39.578850801241614, 121.11647466867558, 67.48840187788345, 30.457046329214094, 67.40439263358738, 112.47738043965228, 51.08153076391957, 59.880434657140285, 122.5062199680113, 34.21616741450209, 38.34700313645934, 72.87567344034957, 84.678769539499, 70.84390798456693, 71.55078176677048, 51.06584762653162, 107.51492102513309, 96.71917452831269, 55.731412074552075, 5.972620323169164, 4.488080466399549, 3.7458884173005766, 3.745888422865652, 3.003727445933052, 3.0037275247329607, 3.0037275349518864, 3.0037275347340167, 3.003727540919713, 3.0037275424052776, 3.0037275633809744, 3.0038289433583234, 3.0041779962469244, 6.004179406265207, 5.262116648510368, 2.2615665955806934, 2.2615665987598668, 2.261566601638102, 2.2615666143731197, 2.261566621256906, 2.261566627996323, 2.2615666295306145, 2.2615666303956803, 2.2615666349542707, 2.261566639096982, 2.261566641225787, 2.261566647789993, 2.2615666524042877, 2.261566654752827, 2.2615666559432794, 13.571089002784525, 4.542847947233133, 4.543512747098635, 4.546456603599039, 8.35387708070416, 7.554442737745762, 9.105123574599707, 9.139471741049674, 16.753873138342204, 21.4328960252055, 8.396724603209028, 10.712455639353688, 22.21287990821586, 5.339759372410377, 5.341388927071302, 9.105815726500651, 9.194186084388619, 13.805902000177786, 70.84390798456693, 71.40620698326975, 12.294784278655587, 200.54323738948415, 51.06584762653162, 34.088751086124354, 91.48948827093137, 26.99478152406907, 16.12315124859343, 18.52789368342077, 13.080312488780649, 58.35422115005264, 84.88347580917386, 208.00056319694875, 59.880434657140285, 45.15399043614579, 28.48048860490264, 84.678769539499, 112.47738043965228, 39.578850801241614, 64.6225884545127, 122.5062199680113, 34.09965331084448, 51.19027918904751, 121.11647466867558, 42.868764837221256, 51.08153076391957, 107.51492102513309, 88.15369502916423, 96.71917452831269, 72.87567344034957, 70.84416943963164], \"Category\": [\"Default\", \"Default\", \"Default\", \"Default\", \"Default\", \"Default\", \"Default\", \"Default\", \"Default\", \"Default\", \"Default\", \"Default\", \"Default\", \"Default\", \"Default\", \"Default\", \"Default\", \"Default\", \"Default\", \"Default\", \"Default\", \"Default\", \"Default\", \"Default\", \"Default\", \"Default\", \"Default\", \"Default\", \"Default\", \"Default\", \"Topic1\", \"Topic1\", \"Topic1\", \"Topic1\", \"Topic1\", \"Topic1\", \"Topic1\", \"Topic1\", \"Topic1\", \"Topic1\", \"Topic1\", \"Topic1\", \"Topic1\", \"Topic1\", \"Topic1\", \"Topic1\", \"Topic1\", \"Topic1\", \"Topic1\", \"Topic1\", \"Topic1\", \"Topic1\", \"Topic1\", \"Topic1\", \"Topic1\", \"Topic1\", \"Topic1\", \"Topic1\", \"Topic1\", \"Topic1\", \"Topic1\", \"Topic1\", \"Topic1\", \"Topic1\", \"Topic1\", \"Topic1\", \"Topic1\", \"Topic1\", \"Topic1\", \"Topic1\", \"Topic1\", \"Topic1\", \"Topic1\", \"Topic1\", \"Topic1\", \"Topic1\", \"Topic1\", \"Topic1\", \"Topic1\", \"Topic1\", \"Topic1\", \"Topic1\", \"Topic1\", \"Topic1\", \"Topic1\", \"Topic1\", \"Topic1\", \"Topic1\", \"Topic1\", \"Topic1\", \"Topic1\", \"Topic1\", \"Topic1\", \"Topic1\", \"Topic1\", \"Topic1\", \"Topic1\", \"Topic1\", \"Topic1\", \"Topic1\", \"Topic1\", \"Topic1\", \"Topic1\", \"Topic1\", \"Topic1\", \"Topic1\", \"Topic1\", \"Topic1\", \"Topic1\", \"Topic1\", \"Topic1\", \"Topic1\", \"Topic2\", \"Topic2\", \"Topic2\", \"Topic2\", \"Topic2\", \"Topic2\", \"Topic2\", \"Topic2\", \"Topic2\", \"Topic2\", \"Topic2\", \"Topic2\", \"Topic2\", \"Topic2\", \"Topic2\", \"Topic2\", \"Topic2\", \"Topic2\", \"Topic2\", \"Topic2\", \"Topic2\", \"Topic2\", \"Topic2\", \"Topic2\", \"Topic2\", \"Topic2\", \"Topic2\", \"Topic2\", \"Topic2\", \"Topic2\", \"Topic2\", \"Topic2\", \"Topic2\", \"Topic2\", \"Topic2\", \"Topic2\", \"Topic2\", \"Topic2\", \"Topic2\", \"Topic2\", \"Topic2\", \"Topic2\", \"Topic2\", \"Topic2\", \"Topic2\", \"Topic2\", \"Topic2\", \"Topic2\", \"Topic2\", \"Topic2\", \"Topic2\", \"Topic2\", \"Topic2\", \"Topic2\", \"Topic2\", \"Topic2\", \"Topic2\", \"Topic2\", \"Topic2\", \"Topic2\", \"Topic2\", \"Topic2\", \"Topic2\", \"Topic2\", \"Topic2\", \"Topic2\", \"Topic2\", \"Topic2\", \"Topic2\", \"Topic2\", \"Topic2\", \"Topic2\", \"Topic2\", \"Topic2\", \"Topic2\", \"Topic2\", \"Topic2\", \"Topic3\", \"Topic3\", \"Topic3\", \"Topic3\", \"Topic3\", \"Topic3\", \"Topic3\", \"Topic3\", \"Topic3\", \"Topic3\", \"Topic3\", \"Topic3\", \"Topic3\", \"Topic3\", \"Topic3\", \"Topic3\", \"Topic3\", \"Topic3\", \"Topic3\", \"Topic3\", \"Topic3\", \"Topic3\", \"Topic3\", \"Topic3\", \"Topic3\", \"Topic3\", \"Topic3\", \"Topic3\", \"Topic3\", \"Topic3\", \"Topic3\", \"Topic3\", \"Topic3\", \"Topic3\", \"Topic3\", \"Topic3\", \"Topic3\", \"Topic3\", \"Topic3\", \"Topic3\", \"Topic3\", \"Topic3\", \"Topic3\", \"Topic3\", \"Topic3\", \"Topic3\", \"Topic3\", \"Topic3\", \"Topic3\", \"Topic3\", \"Topic3\", \"Topic3\", \"Topic3\", \"Topic3\", \"Topic3\", \"Topic3\", \"Topic3\", \"Topic3\", \"Topic3\", \"Topic3\", \"Topic3\", \"Topic3\", \"Topic3\", \"Topic3\", \"Topic3\", \"Topic3\", \"Topic3\", \"Topic3\", \"Topic3\", \"Topic3\", \"Topic3\", \"Topic3\", \"Topic3\", \"Topic3\", \"Topic3\", \"Topic3\", \"Topic3\", \"Topic3\", \"Topic3\", \"Topic4\", \"Topic4\", \"Topic4\", \"Topic4\", \"Topic4\", \"Topic4\", \"Topic4\", \"Topic4\", \"Topic4\", \"Topic4\", \"Topic4\", \"Topic4\", \"Topic4\", \"Topic4\", \"Topic4\", \"Topic4\", \"Topic4\", \"Topic4\", \"Topic4\", \"Topic4\", \"Topic4\", \"Topic4\", \"Topic4\", \"Topic4\", \"Topic4\", \"Topic4\", \"Topic4\", \"Topic4\", \"Topic4\", \"Topic4\", \"Topic4\", \"Topic4\", \"Topic4\", \"Topic4\", \"Topic4\", \"Topic4\", \"Topic4\", \"Topic4\", \"Topic4\", \"Topic4\", \"Topic4\", \"Topic4\", \"Topic4\", \"Topic4\", \"Topic4\", \"Topic4\", \"Topic4\", \"Topic4\", \"Topic4\", \"Topic4\", \"Topic4\", \"Topic4\", \"Topic4\", \"Topic4\", \"Topic4\", \"Topic4\", \"Topic4\", \"Topic4\", \"Topic4\", \"Topic4\", \"Topic4\", \"Topic4\", \"Topic4\", \"Topic4\", \"Topic4\", \"Topic4\", \"Topic4\", \"Topic4\", \"Topic4\", \"Topic4\", \"Topic4\", \"Topic4\", \"Topic4\", \"Topic4\", \"Topic4\", \"Topic4\", \"Topic4\", \"Topic4\", \"Topic4\", \"Topic5\", \"Topic5\", \"Topic5\", \"Topic5\", \"Topic5\", \"Topic5\", \"Topic5\", \"Topic5\", \"Topic5\", \"Topic5\", \"Topic5\", \"Topic5\", \"Topic5\", \"Topic5\", \"Topic5\", \"Topic5\", \"Topic5\", \"Topic5\", \"Topic5\", \"Topic5\", \"Topic5\", \"Topic5\", \"Topic5\", \"Topic5\", \"Topic5\", \"Topic5\", \"Topic5\", \"Topic5\", \"Topic5\", \"Topic5\", \"Topic5\", \"Topic5\", \"Topic5\", \"Topic5\", \"Topic5\", \"Topic5\", \"Topic5\", \"Topic5\", \"Topic5\", \"Topic5\", \"Topic5\", \"Topic5\", \"Topic5\", \"Topic5\", \"Topic5\", \"Topic5\", \"Topic5\", \"Topic5\", \"Topic5\", \"Topic5\", \"Topic5\", \"Topic5\", \"Topic5\", \"Topic5\", \"Topic5\", \"Topic5\", \"Topic5\", \"Topic5\", \"Topic5\", \"Topic5\", \"Topic5\", \"Topic5\", \"Topic5\", \"Topic5\", \"Topic5\", \"Topic5\", \"Topic5\", \"Topic5\", \"Topic5\", \"Topic5\", \"Topic5\", \"Topic5\", \"Topic5\", \"Topic5\", \"Topic5\", \"Topic5\", \"Topic5\", \"Topic5\", \"Topic5\", \"Topic5\"], \"logprob\": [30.0, 29.0, 28.0, 27.0, 26.0, 25.0, 24.0, 23.0, 22.0, 21.0, 20.0, 19.0, 18.0, 17.0, 16.0, 15.0, 14.0, 13.0, 12.0, 11.0, 10.0, 9.0, 8.0, 7.0, 6.0, 5.0, 4.0, 3.0, 2.0, 1.0, -7.4282, -7.6039, -7.1482, -7.1486, -8.0894, -8.0894, -8.0894, -8.0894, -8.0894, -8.0894, -8.0894, -8.0894, -8.0894, -8.0894, -8.0894, -8.0894, -8.0894, -8.0894, -8.0894, -8.0897, -8.0897, -8.0901, -8.0901, -8.0902, -8.0903, -8.0915, -7.6036, -7.6036, -7.6034, -8.4641, -6.9303, -7.3124, -6.3968, -6.1346, -6.8356, -5.6732, -6.3501, -6.4657, -7.427, -7.4277, -7.4279, -7.4273, -5.1378, -7.2773, -6.8501, -5.918, -7.4475, -5.1898, -5.6165, -7.4598, -6.3635, -5.406, -7.1477, -5.0136, -5.8072, -5.8173, -6.0231, -6.5025, -6.8358, -5.8816, -6.6297, -6.8355, -5.6471, -6.422, -5.895, -6.68, -5.8416, -6.5053, -5.798, -6.3088, -6.4226, -6.2607, -5.7093, -6.076, -6.1089, -6.4478, -6.2471, -6.2718, -6.4208, -6.3604, -6.3523, -6.4142, -7.0215, -7.2665, -7.2665, -7.5921, -6.8289, -7.8055, -7.8055, -7.8056, -7.1363, -8.0774, -8.0774, -8.0774, -8.0774, -8.0774, -8.0774, -8.0774, -8.0774, -8.0774, -8.0774, -8.0774, -8.0774, -8.0774, -8.0774, -8.0774, -8.0776, -8.078, -8.0784, -8.0789, -8.0804, -7.4158, -7.4157, -6.2059, -7.266, -5.825, -5.5973, -6.8233, -7.5912, -7.5916, -6.4628, -7.5914, -6.5134, -7.416, -6.4015, -5.3083, -4.7281, -7.0321, -5.4176, -6.206, -7.1564, -7.0136, -5.7199, -6.6591, -5.4631, -5.8026, -6.2943, -6.6196, -6.3383, -5.8744, -6.3222, -5.9008, -6.6207, -6.0623, -6.3936, -5.6569, -5.3961, -5.705, -5.685, -6.2006, -6.1624, -6.4012, -5.9592, -6.0703, -6.1517, -6.2246, -6.1473, -6.3836, -6.3995, -6.5963, -6.6816, -7.4488, -7.4488, -6.688, -7.6627, -7.6628, -7.9343, -7.9343, -7.9343, -7.9343, -7.9343, -7.9343, -7.9343, -7.9345, -7.9347, -7.9354, -7.936, -7.4486, -7.4484, -6.9928, -8.309, -8.309, -8.309, -8.309, -8.309, -8.309, -8.309, -8.309, -8.309, -7.4923, -6.9926, -7.662, -7.6618, -7.6618, -7.6619, -6.9924, -5.7781, -7.4475, -5.8822, -5.3615, -6.8878, -6.9983, -5.8849, -5.5247, -6.2348, -6.8819, -7.2731, -6.0959, -7.272, -6.903, -5.8833, -4.9708, -6.7514, -5.9607, -5.4425, -6.1685, -5.3953, -6.2759, -5.9164, -6.5215, -6.4146, -5.3133, -6.1414, -6.4219, -5.6686, -6.1078, -5.8853, -6.1196, -6.18, -6.5166, -6.5051, -6.2946, -6.3757, -6.1357, -6.2477, -6.4793, -6.4073, -6.4511, -7.1152, -7.2646, -7.2646, -7.6541, -7.6541, -7.6564, -6.985, -7.926, -7.926, -7.926, -7.926, -7.926, -7.926, -7.926, -7.926, -7.926, -7.926, -7.9262, -7.9262, -7.9263, -7.9264, -7.9266, -7.9268, -7.9269, -7.9466, -8.3007, -8.3007, -8.3007, -8.3007, -8.3007, -7.1148, -7.6538, -7.6537, -7.6542, -6.8685, -6.2791, -5.8113, -6.2628, -6.2144, -6.1503, -5.7673, -5.7129, -6.3765, -6.7665, -6.8923, -5.4416, -7.1145, -5.8807, -6.5322, -7.2631, -6.2735, -4.9935, -7.1146, -6.5864, -6.7803, -5.3804, -6.5727, -6.5495, -5.1584, -6.5423, -6.2788, -5.6272, -5.9733, -6.448, -6.065, -5.8571, -6.2385, -6.168, -5.8737, -6.4349, -6.3955, -6.183, -6.1505, -6.2349, -6.2347, -6.343, -6.1891, -6.2155, -6.3337, -6.9364, -7.2613, -7.4747, -7.4747, -7.7467, -7.7467, -7.7467, -7.7467, -7.7467, -7.7467, -7.7467, -7.7472, -7.7496, -7.0847, -7.261, -8.1214, -8.1214, -8.1214, -8.1214, -8.1214, -8.1214, -8.1214, -8.1214, -8.1214, -8.1214, -8.1214, -8.1214, -8.1214, -8.1214, -8.1214, -6.3305, -7.4742, -7.4741, -7.4867, -6.9656, -7.0846, -6.9343, -6.9346, -6.4261, -6.2822, -7.0834, -6.9342, -6.3909, -7.4734, -7.4746, -7.085, -7.0836, -6.8226, -5.8086, -5.8439, -6.9017, -5.3029, -6.1038, -6.3614, -5.8093, -6.4968, -6.8037, -6.7342, -6.9336, -6.1871, -6.0077, -5.6004, -6.1877, -6.3427, -6.5862, -6.1827, -6.1253, -6.4929, -6.3292, -6.1248, -6.5623, -6.4397, -6.2054, -6.5184, -6.4864, -6.308, -6.3805, -6.3742, -6.458, -6.5162], \"loglift\": [30.0, 29.0, 28.0, 27.0, 26.0, 25.0, 24.0, 23.0, 22.0, 21.0, 20.0, 19.0, 18.0, 17.0, 16.0, 15.0, 14.0, 13.0, 12.0, 11.0, 10.0, 9.0, 8.0, 7.0, 6.0, 5.0, 4.0, 3.0, 2.0, 1.0, 1.3415, 1.3206, 1.2708, 1.2663, 1.2427, 1.2427, 1.2427, 1.2427, 1.2427, 1.2427, 1.2427, 1.2427, 1.2427, 1.2427, 1.2427, 1.2427, 1.2427, 1.2427, 1.2427, 1.2425, 1.2425, 1.2421, 1.2421, 1.2419, 1.2419, 1.2406, 1.1703, 1.1702, 1.1664, 1.1579, 1.1509, 1.1061, 0.9303, 0.8752, 1.0024, 0.7478, 0.8856, 0.8935, 1.0971, 1.0962, 1.0962, 1.0935, 0.5402, 1.0508, 0.9335, 0.6986, 1.074, 0.4292, 0.5465, 1.0651, 0.6766, 0.3573, 0.9344, 0.1714, 0.4184, 0.3983, 0.4424, 0.6452, 0.802, 0.3157, 0.6958, 0.7998, 0.1614, 0.5636, 0.1497, 0.6843, 0.0726, 0.5331, -0.1087, 0.3448, 0.4112, 0.1815, -0.5608, -0.1061, -0.0617, 0.4142, 0.0271, -0.0541, 0.3071, -0.1348, -0.3453, 0.1755, 1.3913, 1.3701, 1.37, 1.3332, 1.3232, 1.303, 1.3029, 1.3028, 1.2794, 1.2554, 1.2554, 1.2554, 1.2554, 1.2554, 1.2554, 1.2554, 1.2554, 1.2554, 1.2554, 1.2554, 1.2554, 1.2554, 1.2554, 1.2554, 1.2552, 1.2548, 1.2544, 1.2539, 1.2524, 1.2242, 1.2207, 1.0497, 1.1566, 0.9345, 0.8968, 1.0717, 1.1834, 1.1831, 1.0064, 1.179, 0.9879, 1.1134, 0.8626, 0.6059, 0.4204, 0.9901, 0.5522, 0.7545, 1.004, 0.9466, 0.5057, 0.811, 0.3454, 0.4727, 0.6002, 0.7417, 0.5883, 0.3512, 0.5601, 0.3149, 0.7039, 0.3314, 0.5495, 0.0324, -0.211, -0.0271, -0.066, 0.3697, 0.2947, 0.5412, 0.0477, 0.127, 0.1224, 0.1949, 0.0157, -0.3388, -0.1819, 1.5806, 1.5753, 1.501, 1.501, 1.4865, 1.4692, 1.4691, 1.4206, 1.4206, 1.4206, 1.4206, 1.4206, 1.4206, 1.4206, 1.4203, 1.4202, 1.4194, 1.4189, 1.3529, 1.347, 1.3457, 1.3332, 1.3332, 1.3332, 1.3332, 1.3332, 1.3332, 1.3332, 1.3332, 1.3332, 1.2982, 1.2628, 1.2946, 1.283, 1.283, 1.2827, 1.1797, 1.029, 1.2108, 0.8676, 0.6857, 1.0768, 1.0978, 0.7687, 0.5201, 0.7656, 1.0144, 1.1657, 0.6891, 1.1582, 1.0022, 0.5738, 0.1777, 0.9337, 0.592, 0.3208, 0.6612, 0.294, 0.6325, 0.4011, 0.753, 0.6536, -0.1282, 0.4484, 0.6479, -0.0496, 0.3118, -0.0769, 0.0981, 0.0941, 0.5514, 0.52, 0.1476, 0.213, -0.4578, -0.2407, 0.4277, -0.4374, -0.2881, 1.5458, 1.5299, 1.5299, 1.4767, 1.4767, 1.4743, 1.4572, 1.4278, 1.4278, 1.4278, 1.4278, 1.4278, 1.4278, 1.4278, 1.4278, 1.4278, 1.4278, 1.4277, 1.4276, 1.4275, 1.4274, 1.4272, 1.427, 1.4269, 1.4073, 1.3406, 1.3406, 1.3406, 1.3406, 1.3406, 1.3175, 1.3019, 1.2951, 1.2946, 1.2299, 1.0516, 0.955, 1.0052, 0.9935, 0.9231, 0.757, 0.7188, 0.9033, 1.0365, 1.0797, 0.5654, 1.1494, 0.6698, 0.9085, 1.1764, 0.7504, 0.1916, 1.0703, 0.8252, 0.9087, 0.2386, 0.7989, 0.7776, -0.0099, 0.7569, 0.5289, 0.0621, 0.3008, 0.6217, 0.2103, -0.0938, 0.3141, 0.2257, -0.1958, 0.5184, 0.4439, 0.0143, -0.1033, -0.0094, -0.0191, 0.21, -0.3807, -0.3013, 0.1319, 1.7625, 1.7233, 1.6907, 1.6907, 1.6396, 1.6396, 1.6396, 1.6396, 1.6396, 1.6396, 1.6396, 1.639, 1.6365, 1.6089, 1.5645, 1.5487, 1.5487, 1.5487, 1.5487, 1.5487, 1.5487, 1.5487, 1.5487, 1.5487, 1.5487, 1.5487, 1.5487, 1.5487, 1.5487, 1.5487, 1.5476, 1.4983, 1.4983, 1.485, 1.3978, 1.3793, 1.3429, 1.3388, 1.2413, 1.1389, 1.2749, 1.1805, 0.9945, 1.3375, 1.336, 1.1921, 1.1839, 1.0384, 0.417, 0.3738, 1.0752, -0.1179, 0.4492, 0.5957, 0.1605, 0.6936, 0.9021, 0.8326, 0.9814, 0.2324, 0.0371, -0.4518, 0.206, 0.3333, 0.5507, -0.1355, -0.362, 0.3149, -0.0117, -0.4469, 0.3945, 0.1108, -0.5161, 0.2095, 0.0662, -0.4995, -0.3735, -0.4599, -0.2607, -0.2906]}, \"token.table\": {\"Topic\": [4, 5, 2, 4, 1, 5, 4, 1, 3, 4, 5, 1, 3, 4, 3, 3, 1, 2, 1, 2, 3, 4, 5, 1, 2, 4, 5, 4, 1, 1, 3, 4, 5, 1, 2, 4, 5, 3, 3, 4, 1, 3, 4, 5, 1, 2, 3, 3, 4, 2, 4, 5, 2, 1, 2, 3, 4, 5, 5, 1, 2, 3, 4, 5, 2, 2, 1, 4, 5, 5, 2, 1, 4, 5, 2, 5, 1, 2, 3, 4, 5, 1, 3, 1, 1, 2, 3, 4, 5, 2, 3, 4, 5, 1, 2, 3, 4, 5, 2, 5, 1, 2, 3, 4, 5, 1, 2, 3, 4, 5, 1, 2, 3, 4, 5, 1, 2, 3, 4, 5, 1, 2, 3, 4, 5, 1, 2, 5, 4, 2, 3, 5, 1, 2, 3, 4, 5, 1, 2, 3, 5, 3, 5, 3, 2, 3, 5, 2, 3, 5, 1, 2, 4, 5, 1, 1, 2, 3, 4, 5, 1, 2, 3, 4, 5, 1, 2, 3, 4, 5, 4, 2, 3, 4, 3, 5, 5, 4, 5, 1, 1, 2, 3, 4, 5, 1, 2, 3, 4, 5, 3, 3, 1, 2, 3, 4, 5, 3, 3, 1, 2, 3, 4, 5, 1, 1, 2, 3, 5, 1, 4, 2, 3, 1, 5, 5, 4, 2, 3, 4, 3, 5, 1, 3, 4, 1, 2, 3, 1, 1, 2, 4, 5, 1, 2, 3, 4, 2, 1, 3, 4, 5, 1, 2, 3, 4, 5, 2, 3, 4, 5, 1, 2, 3, 4, 5, 1, 2, 3, 5, 1, 2, 4, 5, 1, 2, 3, 4, 5, 4, 2, 1, 2, 3, 4, 5, 1, 3, 4, 5, 1, 2, 3, 4, 5, 2, 1, 2, 3, 4, 5, 1, 2, 3, 4, 5, 1, 2, 3, 4, 1, 2, 3, 4, 5, 1, 2, 3, 4, 5, 1, 2, 3, 4, 5, 1, 2, 3, 4, 5, 3, 1, 2, 4, 5, 1, 2, 3, 4, 5, 2, 5, 1, 2, 3, 4, 5, 1, 2, 3, 4, 5, 2, 5, 1, 2, 4, 5, 2, 4, 1, 2, 3, 4, 5, 2, 1, 2, 3, 4, 5, 3, 1, 2, 3, 4, 5, 1, 2, 3, 4, 5, 1, 2, 4, 5, 1, 3, 4, 1, 2, 3, 4, 5, 2, 3, 2, 5, 5, 4, 1, 4, 3, 2, 3, 4, 2, 5, 1, 2, 5, 1, 2, 3, 4, 5, 4, 4, 3, 1, 2, 3, 1, 2, 3, 5, 2, 1, 2, 3, 4, 5, 1, 2, 3, 4, 5, 1, 2, 3, 4, 5, 1, 4, 5, 1, 2, 3, 4, 5, 3, 4, 4, 3, 1, 2, 3, 4, 5, 1, 2, 3, 4, 5, 3, 1, 3, 4, 1, 3, 4, 2, 3, 5, 1, 2, 3, 5, 1, 1, 2, 3, 1, 2, 3, 4, 5, 1, 4, 5, 2, 1, 4, 1, 2, 3, 4, 5, 2, 1, 2, 3, 4, 5, 4, 1, 3, 5, 1, 2, 3, 4, 5, 1, 2, 3, 4, 5, 1, 3, 4, 5, 5, 1, 2, 3, 4, 5, 1, 3, 5, 1, 2, 3, 4, 5, 3, 5, 2, 3, 4, 5, 1, 2, 3, 4, 5, 1, 2, 3, 4, 5, 5, 1, 3, 1, 3, 4, 3, 1, 3, 5, 5, 2, 1, 2, 3, 4, 5, 1, 2, 3, 4, 1, 5, 2, 3, 1, 2, 3, 1, 2, 3, 4, 5, 1, 2, 3, 4, 5, 3, 4, 4, 2, 4, 1, 2, 3, 4, 5, 1, 2, 3, 5, 4, 1, 2, 3, 4, 5, 1, 2, 3, 4, 5, 2, 3, 5, 3, 4, 5, 1, 3, 1, 5, 4, 1, 2, 3, 1, 2, 3, 4, 1, 2, 1, 2, 3, 4, 5, 1, 4, 3, 5, 5, 1, 2, 3, 4, 5, 4, 1, 2, 3, 4, 5, 1, 2, 3, 4, 5, 1, 2, 3, 4, 5, 1, 2, 3, 4, 5, 2, 2, 1, 3, 5, 1, 1, 2, 1, 2, 3, 5, 4, 1, 2, 3, 4, 5, 1, 2, 3, 4, 5, 2, 4, 1, 2, 3, 4, 5, 1, 2, 3, 4, 5, 1, 2, 3, 4, 5, 1, 2, 3, 4, 5, 1, 2, 3, 4, 5, 5, 3, 5, 5, 1, 2, 3, 5, 1, 2, 3, 4, 5, 3, 4, 5, 1, 5, 1, 3, 1, 2, 3, 4, 5, 2, 1, 4, 4, 5, 1, 2, 4, 5, 1, 2, 3, 4, 5, 1, 1, 2, 3, 5, 1, 2, 3, 4, 5, 1, 2, 3, 4, 5, 5, 4, 5, 1, 1, 2, 3, 4, 5, 1, 4, 1, 2, 3, 4, 5, 1, 2, 3, 4, 1, 2, 3, 4, 5, 1, 2, 3, 5, 1, 2, 3, 4, 5, 2, 5, 3, 3, 1, 1, 5, 1, 2, 3, 4, 5, 4, 2, 1, 2, 3, 4, 5, 1, 2, 3, 4, 5, 1, 3, 4, 3, 1, 2, 3, 4, 5, 1, 2, 3, 4, 5, 1, 2, 3, 4, 5, 1, 2, 3, 4, 2, 1, 2, 3, 4, 5, 1, 2, 3, 4, 5, 1, 2, 3, 4, 5, 1, 2, 3, 4, 5, 1, 2, 4], \"Freq\": [0.7771441664961491, 0.1295240277493582, 0.9468173180977184, 0.6446108700892882, 0.22009402320672988, 0.6602820696201896, 0.8592911933934685, 0.6933741530393225, 0.11556235883988707, 0.11556235883988707, 0.11556235883988707, 0.8823304708803116, 0.1260472101257588, 0.644614975336918, 0.6452791223870042, 0.8600778799970604, 0.9461952979940312, 0.946817317039425, 0.3248181566955417, 0.15158180645791947, 0.41143633181435285, 0.04330908755940557, 0.06496363133910835, 0.5701058347314442, 0.04385429497934185, 0.306980064855393, 0.0877085899586837, 0.9672526046801703, 0.9461952950793383, 0.16188794700428782, 0.08094397350214391, 0.5666078145150073, 0.16188794700428782, 0.6370919975142222, 0.07078799972380247, 0.14157599944760493, 0.14157599944760493, 0.645279121186782, 0.6452791208609221, 0.7736435466361129, 0.5814543351344831, 0.038763622342298874, 0.23258173405379326, 0.1550544893691955, 0.7010475307409123, 0.14020950614818248, 0.14020950614818248, 0.7376396916612622, 0.18440992291531555, 0.2050538167370218, 0.5468101779653914, 0.2734050889826957, 0.7565069744392579, 0.07830618895284401, 0.13703583066747702, 0.35237785028779806, 0.254495114096743, 0.15661237790568802, 0.8843427274004025, 0.1807948170684821, 0.10331132403913264, 0.3615896341369642, 0.15496698605869894, 0.1807948170684821, 0.9468173279678991, 0.9468173176093778, 0.6033962199190926, 0.26817609774181894, 0.06704402443545474, 0.6658393535124802, 0.9468173173166862, 0.10837505863334009, 0.6502503518000404, 0.21675011726668017, 0.9468173102356721, 0.8843427230597004, 0.22935231880531784, 0.1529015458702119, 0.1529015458702119, 0.07645077293510595, 0.38225386467552974, 0.9462138787950362, 0.7744936256349061, 0.8428824795164318, 0.3238360551134289, 0.1079453517044763, 0.16191802755671444, 0.1079453517044763, 0.37780873096566703, 0.12917729670227315, 0.12917729670227315, 0.6458864835113658, 0.12917729670227315, 0.10019967347188495, 0.31729896599430235, 0.15029951020782745, 0.2337992381010649, 0.18369940136512242, 0.9468494710372307, 0.8843427222272717, 0.12348005080828808, 0.19756808129326092, 0.39513616258652184, 0.1728720711316033, 0.09878404064663046, 0.1367447122948627, 0.17581463009339493, 0.15627967119412883, 0.37116421908605596, 0.17581463009339493, 0.21256803916598924, 0.09447468407377299, 0.37789873629509196, 0.17714003263832437, 0.12990269060143786, 0.14305653846595018, 0.19074205128793356, 0.45301237180884224, 0.07152826923297509, 0.14305653846595018, 0.20147736602044933, 0.12088641961226959, 0.40295473204089866, 0.12088641961226959, 0.16118189281635947, 0.1954272808606515, 0.5862818425819545, 0.1954272808606515, 0.6446266031257746, 0.8829447849861903, 0.1261349692837415, 0.8843427196604635, 0.2626649975682796, 0.1313324987841398, 0.16416562348017477, 0.3611643716563845, 0.09849937408810486, 0.16333226580222973, 0.4083306645055743, 0.27222044300371623, 0.16333226580222973, 0.8600778803495134, 0.8008781004111994, 0.8941074998321483, 0.7224407335980646, 0.18061018339951615, 0.8843427178561312, 0.21491171950838814, 0.6447351585251644, 0.10745585975419407, 0.11909405717770281, 0.23818811435540563, 0.11909405717770281, 0.595470285888514, 0.9461952871984001, 0.2755515352681222, 0.4133273029021833, 0.19288607468768554, 0.055110307053624435, 0.055110307053624435, 0.29436198866783864, 0.5004153807353257, 0.11774479546713545, 0.05887239773356773, 0.05887239773356773, 0.2590057857096382, 0.33869987362029613, 0.19923521977664477, 0.11954113186598687, 0.09961760988832238, 0.6446293867626733, 0.7224347830514873, 0.18060869576287183, 0.6446149758504841, 0.860077879317678, 0.8843427264621795, 0.6658393535607756, 0.8592911933546135, 0.8843427164722756, 0.9461955024583398, 0.12152732478269802, 0.04050910826089934, 0.16203643304359736, 0.4861092991307921, 0.2025455413044967, 0.04895588262878912, 0.6364264741742586, 0.04895588262878912, 0.14686764788636736, 0.09791176525757823, 0.7744851223576433, 0.6452791207895354, 0.3999796909315693, 0.22039697255413002, 0.12244276253007223, 0.15509416587142483, 0.09795421002405778, 0.8606666449451112, 0.8600778802532075, 0.38186964438095367, 0.22275729255555632, 0.15911235182539737, 0.15911235182539737, 0.06364494073015894, 0.9462326166023591, 0.425972484696132, 0.106493121174033, 0.283981656464088, 0.141990828232044, 0.7218496603901001, 0.18046241509752503, 0.2141084807423202, 0.6423254422269605, 0.21995151107532532, 0.659854533225976, 0.8843427169377794, 0.6446149758162737, 0.19774429435275068, 0.5932328830582521, 0.19774429435275068, 0.16655065285966067, 0.8327532642983033, 0.946195288149512, 0.6452791203115823, 0.644614975504756, 0.1279801222283522, 0.1279801222283522, 0.639900611141761, 0.9461952797033388, 0.1130945017632237, 0.26388717078085533, 0.5277743415617107, 0.0753963345088158, 0.12150004784912266, 0.3037501196228067, 0.48600019139649064, 0.06075002392456133, 0.7565061764585442, 0.22509463071245678, 0.04501892614249135, 0.3151324829974395, 0.4051703352824222, 0.20641287709528888, 0.2394389374305351, 0.2559519675981582, 0.20641287709528888, 0.0908216659219271, 0.241033606051545, 0.562411747453605, 0.080344535350515, 0.080344535350515, 0.3630461336705939, 0.23338680021681035, 0.25931866690756705, 0.12965933345378353, 0.025931866690756707, 0.08511079954137724, 0.5957755967896406, 0.08511079954137724, 0.17022159908275447, 0.2800478341286273, 0.09334927804287577, 0.18669855608575153, 0.46674639021437886, 0.22407015686673779, 0.19606138725839556, 0.21006577206256666, 0.1540482328458822, 0.22407015686673779, 0.6446129262716992, 0.9468173229748436, 0.3129318856364739, 0.15646594281823695, 0.15646594281823695, 0.28685422850010106, 0.07823297140911847, 0.4407882065461627, 0.17631528261846507, 0.2644729239276976, 0.08815764130923254, 0.2663953059408276, 0.0443992176568046, 0.1331976529704138, 0.443992176568046, 0.1331976529704138, 0.8803937505511461, 0.20528067943065678, 0.14662905673618343, 0.1759548680834201, 0.23460649077789347, 0.23460649077789347, 0.17015735976849855, 0.23822030367589797, 0.1474697117993654, 0.3403147195369971, 0.10209441586109913, 0.19666515916029997, 0.13111010610686663, 0.3277752652671666, 0.29499773874044993, 0.17578600768327363, 0.4834115211290025, 0.17578600768327363, 0.04394650192081841, 0.13183950576245523, 0.1881734556554938, 0.15681121304624485, 0.12544897043699588, 0.40770915392023654, 0.12544897043699588, 0.28548368247407113, 0.04758061374567852, 0.09516122749135704, 0.47580613745678524, 0.09516122749135704, 0.1760111417646588, 0.26401671264698817, 0.1173407611764392, 0.1760111417646588, 0.26401671264698817, 0.860077880686634, 0.1939174791325349, 0.16967779424096804, 0.5090333827229041, 0.14543810934940118, 0.2332862527826339, 0.09331450111305356, 0.09331450111305356, 0.09331450111305356, 0.4665725055652678, 0.22012623174171173, 0.6603786952251351, 0.20650747221886984, 0.16520597777509588, 0.1239044833313219, 0.4130149444377397, 0.08260298888754794, 0.13876567422158192, 0.2428399298877684, 0.10407425566618646, 0.3989513133870481, 0.1214199649438842, 0.9438622768194289, 0.8843427300357237, 0.3253412104955934, 0.08133530262389835, 0.1626706052477967, 0.4880118157433901, 0.256499813825949, 0.769499441477847, 0.39776867360657925, 0.23866120416394754, 0.14584851365574572, 0.11933060208197377, 0.09281269050820182, 0.946817333542696, 0.20767413130276302, 0.393487827731551, 0.1202323918068628, 0.08744173949590021, 0.17488347899180043, 0.9685821857585434, 0.3467460677768972, 0.16003664666626025, 0.16003664666626025, 0.21338219555501367, 0.13336387222188356, 0.11861773263117796, 0.6721671515766752, 0.15815697684157062, 0.039539244210392656, 0.039539244210392656, 0.0736860542138379, 0.0736860542138379, 0.1473721084276758, 0.7368605421383791, 0.34096848221467996, 0.127863180830505, 0.554073783598855, 0.23707777269568658, 0.251895133489167, 0.20744305110872577, 0.251895133489167, 0.029634721586960823, 0.09910155707468249, 0.8919140136721424, 0.9468302297440941, 0.6658168749662461, 0.8843427327274979, 0.6446149763577108, 0.9461952935808147, 0.6446117607061405, 0.8600778811761617, 0.9468173348131395, 0.6452791216658849, 0.921147906346809, 0.3745487128752763, 0.5618230693129145, 0.9461952787738309, 0.9468172065110533, 0.66583935577772, 0.18484877700261973, 0.04621219425065493, 0.09242438850130986, 0.4159097482558944, 0.23106097125327466, 0.8592911939115143, 0.7736435467681514, 0.645287868214937, 0.3001279382758074, 0.1500639691379037, 0.525223891982663, 0.17906307247452694, 0.05968769082484231, 0.23875076329936923, 0.5371892174235808, 0.9468381916664756, 0.13461502012130486, 0.350960588173402, 0.2307686059222369, 0.1874994923118175, 0.09615358580093204, 0.23124356498252022, 0.4046762387194104, 0.11562178249126011, 0.17343267373689014, 0.057810891245630054, 0.11077823184556511, 0.5538911592278255, 0.11077823184556511, 0.07385215456371007, 0.12924127048649264, 0.5946188489807965, 0.29730942449039827, 0.0849455498543995, 0.35288719167359595, 0.38111816700748363, 0.09880841366860686, 0.05646195066777535, 0.1129239013355507, 0.2149696410804155, 0.6449089232412465, 0.6446086597832136, 0.8600778802763324, 0.2593093777683907, 0.07408839364811164, 0.33339777141650234, 0.03704419682405582, 0.29635357459244654, 0.31560600285671503, 0.26071800235989506, 0.10977600099364002, 0.19210800173887002, 0.12349800111784502, 0.8606666450204641, 0.16076229612760148, 0.6430491845104059, 0.16076229612760148, 0.7029100262255619, 0.14058200524511236, 0.14058200524511236, 0.7066087367781525, 0.1413217473556305, 0.1413217473556305, 0.521499212555249, 0.17383307085174965, 0.11588871390116644, 0.17383307085174965, 0.9461952851794956, 0.9461953019761097, 0.21410813517771832, 0.642324405533155, 0.5201648192125776, 0.1733882730708592, 0.11559218204723946, 0.11559218204723946, 0.11559218204723946, 0.7028162908871375, 0.281126516354855, 0.6658393732453769, 0.839861945207672, 0.9461952914691899, 0.8592911941486546, 0.1469926409677367, 0.5389730168817013, 0.04899754698924557, 0.19599018795698228, 0.09799509397849114, 0.9468173225503768, 0.4591280802721774, 0.18782512374770893, 0.14608620735932917, 0.06260837458256965, 0.1252167491651393, 0.6446149758442894, 0.23940979507821739, 0.11970489753910869, 0.5985244876955435, 0.2314028377788247, 0.40495496611294324, 0.20247748305647162, 0.08677606416705926, 0.08677606416705926, 0.09886318941817444, 0.1977263788363489, 0.13181758589089926, 0.49431594709087223, 0.09886318941817444, 0.10982827325811044, 0.10982827325811044, 0.10982827325811044, 0.5491413662905522, 0.8843427388327644, 0.2742550719532965, 0.18449886658676312, 0.16953949902567422, 0.23436342512372613, 0.13463430804980012, 0.32824654257921565, 0.10941551419307188, 0.5470775709653595, 0.42254557297057405, 0.27163643976679763, 0.15090913320377644, 0.15090913320377644, 0.03018182664075529, 0.7421439887578454, 0.18553599718946134, 0.5598937122624236, 0.15996963207497816, 0.07998481603748908, 0.15996963207497816, 0.3494021921590026, 0.30747392909992227, 0.055904350745440416, 0.18168913992268135, 0.09783261380452073, 0.3278475933864485, 0.13113903735457938, 0.3606323527250933, 0.06556951867728969, 0.09835427801593455, 0.6657395142693179, 0.8986437161117753, 0.6452791208378353, 0.7589735863777807, 0.12649559772963012, 0.12649559772963012, 0.8600778814400163, 0.7035277064281655, 0.2814110825712662, 0.884342737707285, 0.8843427246796292, 0.9468173392732024, 0.38219549601269276, 0.1273984986708976, 0.04246616622363253, 0.4246616622363253, 0.04246616622363253, 0.18327631423875956, 0.09163815711937978, 0.5498289427162787, 0.18327631423875956, 0.9461952979191335, 0.884342726800447, 0.18349459838181534, 0.7339783935272614, 0.11676493701978023, 0.11676493701978023, 0.7005896221186814, 0.2144257097647487, 0.09189673275632088, 0.4288514195294974, 0.18379346551264175, 0.12252897700842783, 0.10533527151228646, 0.10533527151228646, 0.3160058145368594, 0.21067054302457291, 0.28089405736609724, 0.6454089804808136, 0.25816359219232543, 0.6446149758080408, 0.9468173183679526, 0.7735989080541796, 0.2235232528208826, 0.08382121980783097, 0.3632252858339342, 0.19558284621827227, 0.1117616264104413, 0.2172983699262364, 0.14486557995082427, 0.2172983699262364, 0.4345967398524728, 0.6446149758845481, 0.18606784453887185, 0.06202261484629062, 0.18606784453887185, 0.12404522969258124, 0.3721356890777437, 0.039877415887013254, 0.5582838224181855, 0.07975483177402651, 0.23926449532207952, 0.11963224766103976, 0.7620714630571438, 0.12701191050952396, 0.12701191050952396, 0.1323724376125722, 0.2647448752251444, 0.661862188062861, 0.946195288789583, 0.8600778795086226, 0.8858749262752558, 0.1265535608964651, 0.6446149753964948, 0.9462325989806578, 0.8722483620485013, 0.0969164846720557, 0.20932544613281073, 0.22835503214488442, 0.1522366880965896, 0.39962130625354775, 0.7190043857909905, 0.17975109644774762, 0.24814107561447868, 0.4239076708414011, 0.09305290335542951, 0.14474896077511257, 0.09305290335542951, 0.7218486206586211, 0.18046215516465527, 0.19003759642673185, 0.7601503857069274, 0.8912496177255262, 0.024076049387755396, 0.5778251853061295, 0.07222814816326618, 0.19260839510204317, 0.12038024693877698, 0.8592911942387683, 0.16944643520074473, 0.465977696802048, 0.12708482640055854, 0.12708482640055854, 0.08472321760037237, 0.32895502949458966, 0.12446947061957447, 0.2667202941848024, 0.17781352945653497, 0.10668811767392097, 0.12010300510931839, 0.2001716751821973, 0.08006867007287892, 0.520446355473713, 0.04003433503643946, 0.4462490498792679, 0.09562479640270026, 0.22312452493963394, 0.1593746606711671, 0.06374986426846684, 0.9468154298736021, 0.7565062630490074, 0.21407600847425617, 0.6422280254227685, 0.665839352189586, 0.94619528233551, 0.17984098897444473, 0.7193639558977789, 0.632497943900546, 0.2710705473859483, 0.09035684912864943, 0.09035684912864943, 0.6446151252043936, 0.25110893995350053, 0.16740595996900035, 0.306910926609834, 0.13950496664083364, 0.13950496664083364, 0.14227231153119296, 0.4268169345935789, 0.14227231153119296, 0.14227231153119296, 0.17072677383743154, 0.7892736843294598, 0.15785473686589196, 0.2709596865673384, 0.1649319831279451, 0.3298639662558902, 0.08246599156397255, 0.1649319831279451, 0.1219815185148409, 0.18297227777226135, 0.1219815185148409, 0.4879260740593636, 0.06099075925742045, 0.2011680483698141, 0.2011680483698141, 0.2940148399251129, 0.13927018733294821, 0.1547446525921647, 0.28443213193073547, 0.1625326468175631, 0.3047487127829308, 0.1828492276697585, 0.08126632340878155, 0.4663981276369911, 0.12719948935554304, 0.12719948935554304, 0.21199914892590505, 0.08479965957036202, 0.6658393518602794, 0.6499550994064228, 0.21665169980214094, 0.8008780992213756, 0.17673094747362011, 0.15148366926310297, 0.5301928424208604, 0.15148366926310297, 0.24361080590552844, 0.265757242806031, 0.1328786214030155, 0.1550250583035181, 0.22146436900502586, 0.2002865007807946, 0.6008595023423837, 0.2002865007807946, 0.374434445292604, 0.561651667938906, 0.7222010366487214, 0.18055025916218034, 0.15165404664908136, 0.6066161865963254, 0.10110269776605423, 0.10110269776605423, 0.05055134888302711, 0.9438616430838717, 0.9462270953238705, 0.6446149752550948, 0.6493565309995778, 0.21645217699985927, 0.18368725056717433, 0.09184362528358717, 0.6429053769851102, 0.09184362528358717, 0.19761755665779826, 0.32465741450923996, 0.04234661928381391, 0.18350201689652695, 0.22584863618034084, 0.9461952906242436, 0.07494257216729082, 0.6744831495056173, 0.07494257216729082, 0.14988514433458164, 0.10675394666507612, 0.302469515551049, 0.3380541644394077, 0.14233859555343484, 0.08896162222089676, 0.49771801297967144, 0.2059522812329675, 0.06865076041098916, 0.1716269010274729, 0.08581345051373646, 0.8371534987087415, 0.439279699934933, 0.5490996249186663, 0.946214651706555, 0.17136720879687348, 0.2741875340749975, 0.2570508131953102, 0.08568360439843674, 0.18850392967656082, 0.9461952857382027, 0.9211473467878869, 0.2804589534311996, 0.19281553048394973, 0.22787289966284968, 0.19281553048394973, 0.10517210753669985, 0.15729483662587457, 0.7864741831293728, 0.2149676611893556, 0.6449029835680667, 0.5566372601691961, 0.12369716892648802, 0.15462146115811004, 0.12369716892648802, 0.030924292231622005, 0.21752877107805382, 0.10876438553902691, 0.10876438553902691, 0.5438219276951346, 0.11690380022821173, 0.29225950057052935, 0.0876778501711588, 0.32148545062758227, 0.1753557003423176, 0.9468173283723211, 0.6658393472105754, 0.6452747998225394, 0.6453031235221055, 0.9462005733281385, 0.8392524160729823, 0.8843427400759198, 0.3265781053678587, 0.18661606021020496, 0.13996204515765373, 0.16328905268392935, 0.18661606021020496, 0.6446061256446138, 0.9468173455396407, 0.06279959037410032, 0.2511983614964013, 0.3139979518705016, 0.2511983614964013, 0.12559918074820065, 0.12633009546207305, 0.2526601909241461, 0.07579805727724384, 0.32845824820138997, 0.2021281527393169, 0.70293600800306, 0.140587201600612, 0.140587201600612, 0.6452610209037659, 0.1780299403516981, 0.3708957090660377, 0.11868662690113208, 0.23737325380226415, 0.08901497017584906, 0.22984156533355624, 0.16417254666682587, 0.36117960266701693, 0.16417254666682587, 0.06566901866673035, 0.07570775449716413, 0.15141550899432826, 0.5299542814801489, 0.15141550899432826, 0.07570775449716413, 0.35400344142953755, 0.21548035565276197, 0.1846974477023674, 0.24626326360315653, 0.9468173317714808, 0.3588640455268914, 0.21531842731613482, 0.125602415934412, 0.21531842731613482, 0.07177280910537828, 0.24354525687200945, 0.2638406949446769, 0.24354525687200945, 0.14206806650867218, 0.12177262843600473, 0.1174953570511705, 0.21540815459381257, 0.19582559508528416, 0.234990714102341, 0.234990714102341, 0.269730003272949, 0.32553621084666257, 0.17671965731675968, 0.13021448433866503, 0.0930103459561893, 0.7006599254381151, 0.140131985087623, 0.140131985087623], \"Term\": [\"15\", \"15\", \"1997\", \"abused\", \"actors\", \"actors\", \"adoption\", \"adult\", \"adult\", \"adult\", \"adult\", \"agrees\", \"agrees\", \"aimless\", \"aka\", \"alaska\", \"alliance\", \"altering\", \"american\", \"american\", \"american\", \"american\", \"american\", \"angeles\", \"angeles\", \"angeles\", \"angeles\", \"apartment\", \"asked\", \"attempt\", \"attempt\", \"attempt\", \"attempt\", \"baby\", \"baby\", \"baby\", \"baby\", \"bamford\", \"barbecue\", \"basement\", \"battle\", \"battle\", \"battle\", \"battle\", \"battles\", \"battles\", \"battles\", \"beach\", \"beach\", \"beloved\", \"beloved\", \"beloved\", \"benji\", \"best\", \"best\", \"best\", \"best\", \"best\", \"bianca\", \"big\", \"big\", \"big\", \"big\", \"big\", \"boarding\", \"bound\", \"break\", \"break\", \"break\", \"brennan\", \"budding\", \"building\", \"building\", \"building\", \"cabin\", \"canine\", \"cash\", \"cash\", \"cash\", \"cash\", \"cash\", \"changing\", \"chelsea\", \"chewbacca\", \"child\", \"child\", \"child\", \"child\", \"child\", \"chris\", \"chris\", \"chris\", \"chris\", \"city\", \"city\", \"city\", \"city\", \"city\", \"clock\", \"collectors\", \"college\", \"college\", \"college\", \"college\", \"college\", \"comedian\", \"comedian\", \"comedian\", \"comedian\", \"comedian\", \"comedy\", \"comedy\", \"comedy\", \"comedy\", \"comedy\", \"comic\", \"comic\", \"comic\", \"comic\", \"comic\", \"competition\", \"competition\", \"competition\", \"competition\", \"competition\", \"concert\", \"concert\", \"concert\", \"construction\", \"course\", \"course\", \"cowboys\", \"crew\", \"crew\", \"crew\", \"crew\", \"crew\", \"crime\", \"crime\", \"crime\", \"crime\", \"cuisine\", \"culminating\", \"cultural\", \"daily\", \"daily\", \"dale\", \"dancer\", \"dancer\", \"dancer\", \"danger\", \"danger\", \"danger\", \"danger\", \"darkness\", \"daughter\", \"daughter\", \"daughter\", \"daughter\", \"daughter\", \"day\", \"day\", \"day\", \"day\", \"day\", \"death\", \"death\", \"death\", \"death\", \"death\", \"decision\", \"defend\", \"defend\", \"defending\", \"demarcus\", \"deuce\", \"diagnosis\", \"dino\", \"diplomat\", \"disappears\", \"discover\", \"discover\", \"discover\", \"discover\", \"discover\", \"discovers\", \"discovers\", \"discovers\", \"discovers\", \"discovers\", \"discusses\", \"docudrama\", \"documentary\", \"documentary\", \"documentary\", \"documentary\", \"documentary\", \"dollars\", \"doug\", \"drama\", \"drama\", \"drama\", \"drama\", \"drama\", \"drives\", \"drug\", \"drug\", \"drug\", \"drug\", \"dynamic\", \"dynamic\", \"eager\", \"eager\", \"edgy\", \"edgy\", \"elastigirl\", \"elia\", \"ends\", \"ends\", \"ends\", \"enemy\", \"enemy\", \"engineer\", \"engineering\", \"enthusiast\", \"estranged\", \"estranged\", \"estranged\", \"evan\", \"evil\", \"evil\", \"evil\", \"evil\", \"examines\", \"examines\", \"examines\", \"examines\", \"exposing\", \"face\", \"face\", \"face\", \"face\", \"family\", \"family\", \"family\", \"family\", \"family\", \"filled\", \"filled\", \"filled\", \"filled\", \"film\", \"film\", \"film\", \"film\", \"film\", \"filmed\", \"filmed\", \"filmed\", \"filmed\", \"finally\", \"finally\", \"finally\", \"finally\", \"finds\", \"finds\", \"finds\", \"finds\", \"finds\", \"fist\", \"flex\", \"follows\", \"follows\", \"follows\", \"follows\", \"follows\", \"food\", \"food\", \"food\", \"food\", \"forces\", \"forces\", \"forces\", \"forces\", \"forces\", \"francisco\", \"friend\", \"friend\", \"friend\", \"friend\", \"friend\", \"friends\", \"friends\", \"friends\", \"friends\", \"friends\", \"fun\", \"fun\", \"fun\", \"fun\", \"future\", \"future\", \"future\", \"future\", \"future\", \"game\", \"game\", \"game\", \"game\", \"game\", \"gang\", \"gang\", \"gang\", \"gang\", \"gang\", \"gets\", \"gets\", \"gets\", \"gets\", \"gets\", \"gigi\", \"girl\", \"girl\", \"girl\", \"girl\", \"girlfriend\", \"girlfriend\", \"girlfriend\", \"girlfriend\", \"girlfriend\", \"glory\", \"glory\", \"goes\", \"goes\", \"goes\", \"goes\", \"goes\", \"group\", \"group\", \"group\", \"group\", \"group\", \"hands\", \"hatchett\", \"heart\", \"heart\", \"heart\", \"heart\", \"heist\", \"heist\", \"help\", \"help\", \"help\", \"help\", \"help\", \"hiding\", \"high\", \"high\", \"high\", \"high\", \"high\", \"hip\", \"history\", \"history\", \"history\", \"history\", \"history\", \"hit\", \"hit\", \"hit\", \"hit\", \"hit\", \"hits\", \"hits\", \"hits\", \"hits\", \"holiday\", \"holiday\", \"holiday\", \"home\", \"home\", \"home\", \"home\", \"home\", \"hop\", \"hop\", \"hostile\", \"humble\", \"hunky\", \"identify\", \"illness\", \"impress\", \"improvised\", \"intelligent\", \"interracial\", \"interview\", \"investigation\", \"investigation\", \"israel\", \"ivy\", \"jack\", \"job\", \"job\", \"job\", \"job\", \"job\", \"josh\", \"juni\", \"larger\", \"leader\", \"leader\", \"leader\", \"leads\", \"leads\", \"leads\", \"leads\", \"let\", \"life\", \"life\", \"life\", \"life\", \"life\", \"live\", \"live\", \"live\", \"live\", \"live\", \"lives\", \"lives\", \"lives\", \"lives\", \"lives\", \"los\", \"los\", \"los\", \"love\", \"love\", \"love\", \"love\", \"love\", \"loves\", \"loves\", \"madagascar\", \"magazine\", \"make\", \"make\", \"make\", \"make\", \"make\", \"man\", \"man\", \"man\", \"man\", \"man\", \"maria\", \"marijuana\", \"marijuana\", \"marijuana\", \"marine\", \"marine\", \"marine\", \"massive\", \"massive\", \"massive\", \"master\", \"master\", \"master\", \"master\", \"maya\", \"measures\", \"mechanic\", \"mechanic\", \"members\", \"members\", \"members\", \"members\", \"members\", \"mental\", \"mental\", \"mile\", \"minded\", \"mma\", \"molly\", \"mom\", \"mom\", \"mom\", \"mom\", \"mom\", \"morgan\", \"mother\", \"mother\", \"mother\", \"mother\", \"mother\", \"motley\", \"mr\", \"mr\", \"mr\", \"music\", \"music\", \"music\", \"music\", \"music\", \"mysterious\", \"mysterious\", \"mysterious\", \"mysterious\", \"mysterious\", \"named\", \"named\", \"named\", \"named\", \"nerve\", \"new\", \"new\", \"new\", \"new\", \"new\", \"news\", \"news\", \"news\", \"night\", \"night\", \"night\", \"night\", \"night\", \"nuclear\", \"nuclear\", \"offers\", \"offers\", \"offers\", \"offers\", \"old\", \"old\", \"old\", \"old\", \"old\", \"people\", \"people\", \"people\", \"people\", \"people\", \"persona\", \"perspectives\", \"pharmaceutical\", \"physical\", \"physical\", \"physical\", \"piano\", \"places\", \"places\", \"plants\", \"plunges\", \"poetry\", \"power\", \"power\", \"power\", \"power\", \"power\", \"problems\", \"problems\", \"problems\", \"problems\", \"psychiatric\", \"rane\", \"rapper\", \"rapper\", \"raunchy\", \"raunchy\", \"raunchy\", \"real\", \"real\", \"real\", \"real\", \"real\", \"reality\", \"reality\", \"reality\", \"reality\", \"reality\", \"realize\", \"realize\", \"rebecca\", \"recording\", \"refugees\", \"returns\", \"returns\", \"returns\", \"returns\", \"returns\", \"revenge\", \"revenge\", \"revenge\", \"revenge\", \"river\", \"road\", \"road\", \"road\", \"road\", \"road\", \"romance\", \"romance\", \"romance\", \"romance\", \"romance\", \"romantic\", \"romantic\", \"romantic\", \"roots\", \"roots\", \"roots\", \"routines\", \"roving\", \"royal\", \"royal\", \"rushes\", \"safety\", \"san\", \"san\", \"save\", \"save\", \"save\", \"save\", \"scheme\", \"scheme\", \"school\", \"school\", \"school\", \"school\", \"school\", \"score\", \"score\", \"scott\", \"scott\", \"seattle\", \"secret\", \"secret\", \"secret\", \"secret\", \"secret\", \"sees\", \"self\", \"self\", \"self\", \"self\", \"self\", \"series\", \"series\", \"series\", \"series\", \"series\", \"sets\", \"sets\", \"sets\", \"sets\", \"sets\", \"sex\", \"sex\", \"sex\", \"sex\", \"sex\", \"shape\", \"shaped\", \"ship\", \"ship\", \"shipped\", \"shock\", \"sing\", \"sing\", \"singer\", \"singer\", \"singer\", \"singer\", \"slacker\", \"small\", \"small\", \"small\", \"small\", \"small\", \"son\", \"son\", \"son\", \"son\", \"son\", \"sparks\", \"sparks\", \"special\", \"special\", \"special\", \"special\", \"special\", \"spirit\", \"spirit\", \"spirit\", \"spirit\", \"spirit\", \"stand\", \"stand\", \"stand\", \"stand\", \"stand\", \"star\", \"star\", \"star\", \"star\", \"star\", \"stars\", \"stars\", \"stars\", \"stars\", \"stars\", \"states\", \"status\", \"status\", \"staying\", \"stories\", \"stories\", \"stories\", \"stories\", \"story\", \"story\", \"story\", \"story\", \"story\", \"strangers\", \"strangers\", \"strangers\", \"strength\", \"strength\", \"struggle\", \"struggle\", \"students\", \"students\", \"students\", \"students\", \"students\", \"studio\", \"suicidal\", \"superman\", \"surfing\", \"surfing\", \"survival\", \"survival\", \"survival\", \"survival\", \"takes\", \"takes\", \"takes\", \"takes\", \"takes\", \"targeting\", \"teacher\", \"teacher\", \"teacher\", \"teacher\", \"team\", \"team\", \"team\", \"team\", \"team\", \"teen\", \"teen\", \"teen\", \"teen\", \"teen\", \"teenager\", \"terrifying\", \"terrifying\", \"themed\", \"time\", \"time\", \"time\", \"time\", \"time\", \"titan\", \"tommy\", \"town\", \"town\", \"town\", \"town\", \"town\", \"tragedy\", \"tragedy\", \"trained\", \"trained\", \"tries\", \"tries\", \"tries\", \"tries\", \"tries\", \"truths\", \"truths\", \"truths\", \"truths\", \"turns\", \"turns\", \"turns\", \"turns\", \"turns\", \"unconventional\", \"united\", \"university\", \"value\", \"viral\", \"visions\", \"vs\", \"war\", \"war\", \"war\", \"war\", \"war\", \"warfare\", \"watching\", \"way\", \"way\", \"way\", \"way\", \"way\", \"wife\", \"wife\", \"wife\", \"wife\", \"wife\", \"williams\", \"williams\", \"williams\", \"willing\", \"woman\", \"woman\", \"woman\", \"woman\", \"woman\", \"women\", \"women\", \"women\", \"women\", \"women\", \"working\", \"working\", \"working\", \"working\", \"working\", \"world\", \"world\", \"world\", \"world\", \"writing\", \"year\", \"year\", \"year\", \"year\", \"year\", \"years\", \"years\", \"years\", \"years\", \"years\", \"york\", \"york\", \"york\", \"york\", \"york\", \"young\", \"young\", \"young\", \"young\", \"young\", \"younger\", \"younger\", \"younger\"]}, \"R\": 30, \"lambda.step\": 0.01, \"plot.opts\": {\"xlab\": \"PC1\", \"ylab\": \"PC2\"}, \"topic.order\": [4, 5, 3, 1, 2]};\n",
              "\n",
              "function LDAvis_load_lib(url, callback){\n",
              "  var s = document.createElement('script');\n",
              "  s.src = url;\n",
              "  s.async = true;\n",
              "  s.onreadystatechange = s.onload = callback;\n",
              "  s.onerror = function(){console.warn(\"failed to load library \" + url);};\n",
              "  document.getElementsByTagName(\"head\")[0].appendChild(s);\n",
              "}\n",
              "\n",
              "if(typeof(LDAvis) !== \"undefined\"){\n",
              "   // already loaded: just create the visualization\n",
              "   !function(LDAvis){\n",
              "       new LDAvis(\"#\" + \"ldavis_el115139733587810000915699513\", ldavis_el115139733587810000915699513_data);\n",
              "   }(LDAvis);\n",
              "}else if(typeof define === \"function\" && define.amd){\n",
              "   // require.js is available: use it to load d3/LDAvis\n",
              "   require.config({paths: {d3: \"https://d3js.org/d3.v5\"}});\n",
              "   require([\"d3\"], function(d3){\n",
              "      window.d3 = d3;\n",
              "      LDAvis_load_lib(\"https://cdn.jsdelivr.net/gh/bmabey/pyLDAvis@3.3.1/pyLDAvis/js/ldavis.v3.0.0.js\", function(){\n",
              "        new LDAvis(\"#\" + \"ldavis_el115139733587810000915699513\", ldavis_el115139733587810000915699513_data);\n",
              "      });\n",
              "    });\n",
              "}else{\n",
              "    // require.js not available: dynamically load d3 & LDAvis\n",
              "    LDAvis_load_lib(\"https://d3js.org/d3.v5.js\", function(){\n",
              "         LDAvis_load_lib(\"https://cdn.jsdelivr.net/gh/bmabey/pyLDAvis@3.3.1/pyLDAvis/js/ldavis.v3.0.0.js\", function(){\n",
              "                 new LDAvis(\"#\" + \"ldavis_el115139733587810000915699513\", ldavis_el115139733587810000915699513_data);\n",
              "            })\n",
              "         });\n",
              "}\n",
              "</script>"
            ]
          },
          "metadata": {},
          "execution_count": 35
        },
        {
          "output_type": "display_data",
          "data": {
            "text/plain": [
              "<Figure size 2232x1440 with 6 Axes>"
            ],
            "image/png": "[encoded data removed]"
          },
          "metadata": {
            "needs_background": "light"
          }
        }
      ],
      "source": [
        "# country_df - Dataset for a specified country.\n",
        "country_df = netflix_df1[netflix_df1['country'] == 'United States']\n",
        "country_df = country_df.reset_index(drop = True)\n",
        "get_specific_country_plots(country_df)\n",
        "get_country_specific_content(country_df)"
      ]
    },
    {
      "cell_type": "markdown",
      "metadata": {
        "id": "yaLr__Hg0T58"
      },
      "source": [
        "OBSERVATION:\n",
        "\n",
        "1. I am analysing the content for the United States.\n",
        "2. There are five topics in Topic Modelling, and here is what I understand about each: \n",
        "\n",
        "> * Topic - 1 : There is a strong focus on high school and teenage stories in this topic.\n",
        "> * Topic - 2 : Typically, the topic focuses on family-related comedy series or dramas.\n",
        "> * Topic - 3 : This topic focuses on documentaries and series from around the world.\n",
        "> * Topic - 4 : It focuses primarily on documentaries.\n",
        "> * Topic - 5 : It focuses on New York and star-studded lifestyles.\n",
        "\n",
        "3. The number of movies on Netflix in the United States is greater than the number of TV shows. A majority of movies are aimed at mature audiences, and TV shows are aimed at both mature and younger audiences.\n",
        "\n",
        "> * Adam Sandler is the most frequently cast actor in the United States.\n",
        "> * Drama, comedy, and documentary are the most popular genres in the United States.\n",
        "> * The majority of American movies last for 100 minutes."
      ]
    },
    {
      "cell_type": "markdown",
      "metadata": {
        "id": "KSVnEYr4Aukf"
      },
      "source": [
        "### **K-Means Clustering**\n",
        "\n",
        "In this segment I am considering the following features:\n",
        "1. type\n",
        "2. director\n",
        "3. cast\n",
        "4. country\n",
        "5. year_added\n",
        "6. month_added\n",
        "6. release_year\n",
        "7. rating\n",
        "8. duration\n",
        "9. listed_in"
      ]
    },
    {
      "cell_type": "markdown",
      "metadata": {
        "id": "sF5Oj2dx9YOA"
      },
      "source": [
        "\n",
        "\n",
        "Prior to creating the k-means clustering model perform data featuring such as:\n",
        "* Fill NaN values with 'Other' value.\n",
        "* New features include - \n",
        "> * Grouping 'rating' feature.\n",
        "> * Creating - 'Director_sum', 'Cast_sum', 'Country_sum', 'listed_in_sum'\n",
        "> * Standardizing all the features.\n",
        "* Dropping 'show_id', 'title', 'director', 'cast', 'country', 'date_added', 'listed_in', 'description', 'duration' features."
      ]
    },
    {
      "cell_type": "code",
      "execution_count": 51,
      "metadata": {
        "id": "_Xz6nPh4xEoc"
      },
      "outputs": [],
      "source": [
        "netflix_df_kmeans = netflix_df1.copy()"
      ]
    },
    {
      "cell_type": "code",
      "execution_count": 52,
      "metadata": {
        "id": "H2Lbo3KWUUzW"
      },
      "outputs": [],
      "source": [
        "# I believe we can group all the ratings into G, PG, PG-13, R, NC-17, and No Rating.\n",
        "# From what I understand, 'TV-PG' refers to a TV show that is PG rated whereas just 'PG' refers to a PG rated movie. As a result, I merged them into PG.\n",
        "netflix_df_kmeans['rating'].replace({'UR' : 0, 'NR' : 0, 'NC-17' : 5, 'TV-MA' : 5, 'G' : 1, 'TV-Y' : 1, 'TV-G' : 1, 'PG' : 2, 'TV-Y7' : 2, 'TV-PG' : 2, 'TV-14' : 3, 'PG-13' : 3, 'TV-Y7-FV' : 3, 'R' : 4}, inplace = True)"
      ]
    },
    {
      "cell_type": "code",
      "execution_count": 53,
      "metadata": {
        "id": "cBdi4DsdGKhr"
      },
      "outputs": [],
      "source": [
        "# Standarising 'duration' feature for 'Movie' and 'TV Show' separately and merging them together.\n",
        "duration_movie_time = netflix_df_kmeans[netflix_df_kmeans['type'] == 'Movie'].duration.str.split(' ', expand = True)[0]\n",
        "Scaler = StandardScaler()\n",
        "std_movie_duration = pd.DataFrame(Scaler.fit_transform(np.array(duration_movie_time).reshape(-1, 1)), index = duration_movie_time.index, columns = ['std_duration'])\n",
        "duration_tvshow_time = netflix_df_kmeans[netflix_df_kmeans['type'] == 'TV Show'].duration.str.split(' ', expand = True)[0]\n",
        "std_tvshow_duration = pd.DataFrame(Scaler.fit_transform(np.array(duration_tvshow_time).reshape(-1, 1)), index = duration_tvshow_time.index, columns = ['std_duration'])\n",
        "std_duration = pd.concat([std_movie_duration, std_tvshow_duration])\n",
        "netflix_df_kmeans = pd.merge(netflix_df_kmeans, std_duration, how = 'inner', left_index=True, right_index=True)"
      ]
    },
    {
      "cell_type": "code",
      "execution_count": 54,
      "metadata": {
        "id": "Pc7qUy7sgFO_"
      },
      "outputs": [],
      "source": [
        "# Performing Ordinal Encoding\n",
        "from sklearn.preprocessing import OrdinalEncoder\n",
        "ordinal_encoder = OrdinalEncoder()\n",
        "netflix_df_kmeans['type'] = ordinal_encoder.fit_transform(np.array(netflix_df_kmeans['type']).reshape(-1, 1))"
      ]
    },
    {
      "cell_type": "code",
      "execution_count": 55,
      "metadata": {
        "id": "5Lh4akz5T_Fg"
      },
      "outputs": [],
      "source": [
        "# Computing the list of unique directors, casts, countries, and listed_in features.\n",
        "unique_directors = netflix_df_kmeans['director'].str.split(', ', expand=True).stack().reset_index(level = 1, drop = True).unique()\n",
        "unique_casts = netflix_df_kmeans['cast'].str.split(', ', expand=True).stack().reset_index(level = 1, drop = True).unique()\n",
        "unique_countries = netflix_df_kmeans['country'].str.split(', ', expand=True).stack().reset_index(level = 1, drop = True).unique()\n",
        "unique_listed_in = netflix_df_kmeans['listed_in'].str.split(', ', expand=True).stack().reset_index(level = 1, drop = True).unique()"
      ]
    },
    {
      "cell_type": "code",
      "execution_count": null,
      "metadata": {
        "colab": {
          "base_uri": "https://localhost:8080/",
          "height": 122
        },
        "id": "1YJEvWmvUbIH",
        "outputId": "3581857a-1574-4352-8147-52bb5bf63295"
      },
      "outputs": [
        {
          "output_type": "execute_result",
          "data": {
            "text/plain": [
              "\"\\nThis code is commented because it takes a lot of time to run.\\nSo, instead of running it everytime, it is converted into a csv file and stored in the drive.\\n\\ndirector_df_tf_idf = cal_tf_idf(unique_directors, 'director')\\ndirector_df_tf_idf.to_csv('/content/drive/MyDrive/assign_csv/director.csv')\\n\\ncast_df_tf_idf = cal_tf_idf(unique_casts, 'cast')\\ncast_df_tf_idf.to_csv('/content/drive/MyDrive/assign_csv/casts.csv')\\n\\ncountry_df_tf_idf = cal_tf_idf(unique_countries, 'country')\\ncountry_df_tf_idf.to_csv('/content/drive/MyDrive/assign_csv/countries.csv')\\n\\nlisted_in_df_tf_idf = cal_tf_idf(unique_listed_in, 'listed_in')\\nlisted_in_df_tf_idf.to_csv('/content/drive/MyDrive/assign_csv/listed_in.csv')\\n\""
            ],
            "application/vnd.google.colaboratory.intrinsic+json": {
              "type": "string"
            }
          },
          "metadata": {},
          "execution_count": 38
        }
      ],
      "source": [
        "'''\n",
        "This code is commented because it takes a lot of time to run.\n",
        "So, instead of running it everytime, it is converted into a csv file and stored in the drive.\n",
        "\n",
        "director_df_tf_idf = cal_tf_idf(unique_directors, 'director')\n",
        "director_df_tf_idf.to_csv('/content/drive/MyDrive/assign_csv/director.csv')\n",
        "\n",
        "cast_df_tf_idf = cal_tf_idf(unique_casts, 'cast')\n",
        "cast_df_tf_idf.to_csv('/content/drive/MyDrive/assign_csv/casts.csv')\n",
        "\n",
        "country_df_tf_idf = cal_tf_idf(unique_countries, 'country')\n",
        "country_df_tf_idf.to_csv('/content/drive/MyDrive/assign_csv/countries.csv')\n",
        "\n",
        "listed_in_df_tf_idf = cal_tf_idf(unique_listed_in, 'listed_in')\n",
        "listed_in_df_tf_idf.to_csv('/content/drive/MyDrive/assign_csv/listed_in.csv')\n",
        "'''"
      ]
    },
    {
      "cell_type": "code",
      "execution_count": null,
      "metadata": {
        "id": "yWlVwd47a2Qo"
      },
      "outputs": [],
      "source": [
        "# The below dataframes are the computed TF-IDF matrix.\n",
        "director_df = pd.read_csv('/content/drive/MyDrive/assign_csv/director.csv')\n",
        "cast_df = pd.read_csv('/content/drive/MyDrive/assign_csv/casts.csv')\n",
        "country_df = pd.read_csv('/content/drive/MyDrive/assign_csv/countries.csv')\n",
        "listed_in_df = pd.read_csv('/content/drive/MyDrive/assign_csv/listed_in.csv')"
      ]
    },
    {
      "cell_type": "code",
      "execution_count": null,
      "metadata": {
        "id": "BxEi5sjVwpzv"
      },
      "outputs": [],
      "source": [
        "# Summing across the columns of TF-IDF matrix.\n",
        "sum_director_df = pd.DataFrame(director_df.drop(['Unnamed: 0'], axis = 1).sum(axis = 1), columns = ['Director_sum'])\n",
        "sum_cast_df = pd.DataFrame(cast_df.drop(['Unnamed: 0'], axis = 1).sum(axis = 1), columns = ['Cast_sum'])\n",
        "sum_country_df = pd.DataFrame(country_df.drop(['Unnamed: 0'], axis = 1).sum(axis = 1), columns = ['Country_sum'])\n",
        "sum_listed_in_df = pd.DataFrame(country_df.drop(['Unnamed: 0'], axis = 1).sum(axis = 1), columns = ['listed_in_sum'])"
      ]
    },
    {
      "cell_type": "code",
      "execution_count": null,
      "metadata": {
        "id": "DINO2XAqQ5_s"
      },
      "outputs": [],
      "source": [
        "netflix_df_kmeans = pd.concat([netflix_df_kmeans, sum_director_df, sum_cast_df, sum_country_df, sum_listed_in_df], axis = 1)"
      ]
    },
    {
      "cell_type": "code",
      "execution_count": null,
      "metadata": {
        "id": "_QNrbSzPRHqQ"
      },
      "outputs": [],
      "source": [
        "# Dropping 'show_id', 'title', 'director', 'cast', 'country', 'date_added', 'listed_in', 'description', 'duration'\n",
        "netflix_df_kmeans.drop(['show_id', 'title', 'director', 'cast', 'country', 'date_added', 'listed_in', 'description', 'duration'], axis = 1, inplace = True)"
      ]
    },
    {
      "cell_type": "markdown",
      "metadata": {
        "id": "GZ6d61nhB-c4"
      },
      "source": [
        "**Create (K-Means) Clusters**\n",
        "\n",
        "Finding the best fit for k means clustering."
      ]
    },
    {
      "cell_type": "code",
      "execution_count": null,
      "metadata": {
        "id": "MqGYM0VYdITy"
      },
      "outputs": [],
      "source": [
        "# Standarization\n",
        "std_scaler = StandardScaler()\n",
        "netflix_df_kmeans = pd.DataFrame(std_scaler.fit_transform(netflix_df_kmeans[list(netflix_df_kmeans.columns)]))"
      ]
    },
    {
      "cell_type": "code",
      "execution_count": null,
      "metadata": {
        "id": "F7wQQM8yvYzf"
      },
      "outputs": [],
      "source": [
        "# Creating K-Means and computing scores.\n",
        "Nc = range(2, 35)\n",
        "kmeans = [KMeans(n_clusters=i, init = 'k-means++', random_state = 42) for i in Nc]\n",
        "score = [kmeans[i].fit(netflix_df_kmeans).score(netflix_df_kmeans) for i in range(len(kmeans))]"
      ]
    },
    {
      "cell_type": "code",
      "execution_count": null,
      "metadata": {
        "colab": {
          "base_uri": "https://localhost:8080/",
          "height": 312
        },
        "id": "K_3w_AjwyV3Y",
        "outputId": "c1bbaf67-0ef9-405e-8e5e-c59eb97d7a4b"
      },
      "outputs": [
        {
          "output_type": "execute_result",
          "data": {
            "text/plain": [
              "Text(0.5, 1.0, 'Elbow Curve')"
            ]
          },
          "metadata": {},
          "execution_count": 45
        },
        {
          "output_type": "display_data",
          "data": {
            "text/plain": [
              "<Figure size 432x288 with 1 Axes>"
            ],
            "image/png": "[encoded data removed]"
          },
          "metadata": {
            "needs_background": "light"
          }
        }
      ],
      "source": [
        "import matplotlib.pyplot as plt\n",
        "plt.plot(Nc, score)\n",
        "  \n",
        "# naming the x axis\n",
        "plt.xlabel('Number of clusters')\n",
        "# naming the y axis\n",
        "plt.ylabel('score')\n",
        "  \n",
        "# giving a title to my graph\n",
        "plt.title('Elbow Curve')"
      ]
    },
    {
      "cell_type": "markdown",
      "metadata": {
        "id": "8C_QeOGxAgMJ"
      },
      "source": [
        "From the elbow curve, it seems to be optimal to choose 20 clusters."
      ]
    },
    {
      "cell_type": "code",
      "execution_count": null,
      "metadata": {
        "id": "9RGGf2aMhxhq"
      },
      "outputs": [],
      "source": [
        "from sklearn.metrics import silhouette_score\n",
        "silhouettescore = []\n",
        "\n",
        "for i in range(2, 35):\n",
        "  kmeans = KMeans(n_clusters = i, init = 'k-means++', random_state = 42)\n",
        "  kmeans.fit(netflix_df_kmeans)\n",
        "  silhouettescore.append(silhouette_score(netflix_df_kmeans, kmeans.labels_))"
      ]
    },
    {
      "cell_type": "code",
      "execution_count": null,
      "metadata": {
        "colab": {
          "base_uri": "https://localhost:8080/",
          "height": 312
        },
        "id": "pVXMal9TiQxn",
        "outputId": "3b718b63-3fcb-40c9-fbfe-69fd8d971ec8"
      },
      "outputs": [
        {
          "output_type": "execute_result",
          "data": {
            "text/plain": [
              "Text(0.5, 1.0, 'silhouette score Curve')"
            ]
          },
          "metadata": {},
          "execution_count": 47
        },
        {
          "output_type": "display_data",
          "data": {
            "text/plain": [
              "<Figure size 432x288 with 1 Axes>"
            ],
            "image/png": "[encoded data removed]"
          },
          "metadata": {
            "needs_background": "light"
          }
        }
      ],
      "source": [
        "import matplotlib.pyplot as plt\n",
        "plt.plot(range(7, 35), silhouettescore[5:])\n",
        "  \n",
        "# naming the x axis\n",
        "plt.xlabel('Number of clusters')\n",
        "# naming the y axis\n",
        "plt.ylabel('score')\n",
        "  \n",
        "# giving a title to my graph\n",
        "plt.title('silhouette score Curve')"
      ]
    },
    {
      "cell_type": "markdown",
      "metadata": {
        "id": "6YdEt9avWs_L"
      },
      "source": [
        "The silhouette score curve provides a better idea of how many clusters to have, and here there are 15 clusters."
      ]
    },
    {
      "cell_type": "code",
      "execution_count": null,
      "metadata": {
        "id": "I5SY72pjydbO"
      },
      "outputs": [],
      "source": [
        "#fitting\n",
        "kmeans = KMeans(n_clusters=12, init = 'k-means++', random_state = 42)\n",
        "kmeans.fit(netflix_df_kmeans)\n",
        "netflix_df_kmeans['cluster'] = kmeans.labels_"
      ]
    },
    {
      "cell_type": "code",
      "execution_count": null,
      "metadata": {
        "colab": {
          "base_uri": "https://localhost:8080/",
          "height": 459
        },
        "id": "5WqOGdgZyxh3",
        "outputId": "850a5504-b808-4d1d-d5ba-03b5bae006c6"
      },
      "outputs": [
        {
          "output_type": "execute_result",
          "data": {
            "text/plain": [
              "Text(0, 0.5, 'Data in a cluster')"
            ]
          },
          "metadata": {},
          "execution_count": 49
        },
        {
          "output_type": "display_data",
          "data": {
            "text/plain": [
              "<Figure size 864x504 with 1 Axes>"
            ],
            "image/png": "[encoded data removed]"
          },
          "metadata": {
            "needs_background": "light"
          }
        }
      ],
      "source": [
        "import matplotlib.pyplot as plt\n",
        "plt.figure(figsize=(12,7))\n",
        "plt = sns.countplot(netflix_df_kmeans['cluster'])\n",
        "plt.set_xlabel(\"Cluster Number\")\n",
        "plt.set_ylabel(\"Data in a cluster\")"
      ]
    },
    {
      "cell_type": "markdown",
      "metadata": {
        "id": "gemPUtMn7EZK"
      },
      "source": [
        "Testing K-Means"
      ]
    },
    {
      "cell_type": "markdown",
      "metadata": {
        "id": "vREALWpz7LwE"
      },
      "source": [
        "Testing the k-means clustering model using one of the movies, 13 Reasons Why."
      ]
    },
    {
      "cell_type": "code",
      "execution_count": null,
      "metadata": {
        "colab": {
          "base_uri": "https://localhost:8080/",
          "height": 1000
        },
        "id": "adRX7Mi-y4rz",
        "outputId": "9534cc2d-fc13-4449-adbc-a9df1e65b397"
      },
      "outputs": [
        {
          "output_type": "execute_result",
          "data": {
            "text/plain": [
              "     show_id     type                               title     director  \\\n",
              "29       s30  TV Show                            #blackAF  No Director   \n",
              "53       s54  TV Show                          100 Humans  No Director   \n",
              "63       s64  TV Show                      13 Reasons Why  No Director   \n",
              "64       s65  TV Show  13 Reasons Why: Beyond the Reasons  No Director   \n",
              "107     s109  TV Show            3Below: Tales of Arcadia  No Director   \n",
              "...      ...      ...                                 ...          ...   \n",
              "7661   s7679  TV Show                          WWII in HD  No Director   \n",
              "7665   s7683  TV Show                        Wynonna Earp  No Director   \n",
              "7695   s7713  TV Show                        Yo-Kai Watch  No Director   \n",
              "7713   s7731  TV Show                        You vs. Wild  No Director   \n",
              "7738   s7756  TV Show                            Z Nation  No Director   \n",
              "\n",
              "                                                   cast  \\\n",
              "29    Kenya Barris, Rashida Jones, Iman Benson, Genn...   \n",
              "53               Zainab Johnson, Sammy Obeid, Alie Ward   \n",
              "63    Dylan Minnette, Katherine Langford, Kate Walsh...   \n",
              "64    Dylan Minnette, Katherine Langford, Kate Walsh...   \n",
              "107   Tatiana Maslany, Diego Luna, Nick Offerman, Ni...   \n",
              "...                                                 ...   \n",
              "7661  Gary Sinise, Rob Lowe, Josh Lucas, Justin Bart...   \n",
              "7665  Melanie Scrofano, Shamier Anderson, Tim Rozon,...   \n",
              "7695  Johnny Yong Bosch, J.W. Terry, Alicyn Packard,...   \n",
              "7713                                        Bear Grylls   \n",
              "7738  Nat Zang, Russell Hodgkinson, Michael Welch, A...   \n",
              "\n",
              "                    country date_added  release_year rating   duration  \\\n",
              "29            United States 2020-04-17          2020  TV-MA   1 Season   \n",
              "53            United States 2020-03-13          2020  TV-14   1 Season   \n",
              "63            United States 2020-06-05          2020  TV-MA  4 Seasons   \n",
              "64            United States 2019-08-23          2019  TV-MA  3 Seasons   \n",
              "107           United States 2019-07-12          2019  TV-Y7  2 Seasons   \n",
              "...                     ...        ...           ...    ...        ...   \n",
              "7661          United States 2020-05-02          2009  TV-14   1 Season   \n",
              "7665  Canada, United States 2019-07-16          2018  TV-14  3 Seasons   \n",
              "7695          United States 2016-04-01          2015  TV-Y7   1 Season   \n",
              "7713          United States 2019-04-10          2019  TV-PG   1 Season   \n",
              "7738          United States 2019-01-27          2018  TV-MA  5 Seasons   \n",
              "\n",
              "                                              listed_in  \\\n",
              "29                                          TV Comedies   \n",
              "53                      Docuseries, Science & Nature TV   \n",
              "63              Crime TV Shows, TV Dramas, TV Mysteries   \n",
              "64                           Crime TV Shows, Docuseries   \n",
              "107   Kids' TV, TV Action & Adventure, TV Sci-Fi & F...   \n",
              "...                                                 ...   \n",
              "7661                                         Docuseries   \n",
              "7665  International TV Shows, TV Action & Adventure,...   \n",
              "7695                             Anime Series, Kids' TV   \n",
              "7713          Kids' TV, Reality TV, Science & Nature TV   \n",
              "7738      TV Action & Adventure, TV Comedies, TV Horror   \n",
              "\n",
              "                                            description  month_added  \\\n",
              "29    Kenya Barris and his family navigate relations...            4   \n",
              "53    One hundred hardy souls from diverse backgroun...            3   \n",
              "63    After a teenage girl's perplexing suicide, a c...            6   \n",
              "64    Cast members, writers, producers and mental he...            8   \n",
              "107   After crash-landing on Earth, two royal teen a...            7   \n",
              "...                                                 ...          ...   \n",
              "7661  Rare color footage interwoven with firsthand i...            5   \n",
              "7665  The outcast descendant of lawman Wyatt Earp te...            7   \n",
              "7695  Nate frees a mythical being trapped in a magic...            4   \n",
              "7713  In this interactive series, you'll make key de...            4   \n",
              "7738  A team embarks on a perilous cross-country mis...            1   \n",
              "\n",
              "      year_added  \n",
              "29          2020  \n",
              "53          2020  \n",
              "63          2020  \n",
              "64          2019  \n",
              "107         2019  \n",
              "...          ...  \n",
              "7661        2020  \n",
              "7665        2019  \n",
              "7695        2016  \n",
              "7713        2019  \n",
              "7738        2019  \n",
              "\n",
              "[551 rows x 14 columns]"
            ],
            "text/html": [
              "\n",
              "  <div id=\"df-926b80b6-34a5-4376-8775-d8e002aed433\">\n",
              "    <div class=\"colab-df-container\">\n",
              "      <div>\n",
              "<style scoped>\n",
              "    .dataframe tbody tr th:only-of-type {\n",
              "        vertical-align: middle;\n",
              "    }\n",
              "\n",
              "    .dataframe tbody tr th {\n",
              "        vertical-align: top;\n",
              "    }\n",
              "\n",
              "    .dataframe thead th {\n",
              "        text-align: right;\n",
              "    }\n",
              "</style>\n",
              "<table border=\"1\" class=\"dataframe\">\n",
              "  <thead>\n",
              "    <tr style=\"text-align: right;\">\n",
              "      <th></th>\n",
              "      <th>show_id</th>\n",
              "      <th>type</th>\n",
              "      <th>title</th>\n",
              "      <th>director</th>\n",
              "      <th>cast</th>\n",
              "      <th>country</th>\n",
              "      <th>date_added</th>\n",
              "      <th>release_year</th>\n",
              "      <th>rating</th>\n",
              "      <th>duration</th>\n",
              "      <th>listed_in</th>\n",
              "      <th>description</th>\n",
              "      <th>month_added</th>\n",
              "      <th>year_added</th>\n",
              "    </tr>\n",
              "  </thead>\n",
              "  <tbody>\n",
              "    <tr>\n",
              "      <th>29</th>\n",
              "      <td>s30</td>\n",
              "      <td>TV Show</td>\n",
              "      <td>#blackAF</td>\n",
              "      <td>No Director</td>\n",
              "      <td>Kenya Barris, Rashida Jones, Iman Benson, Genn...</td>\n",
              "      <td>United States</td>\n",
              "      <td>2020-04-17</td>\n",
              "      <td>2020</td>\n",
              "      <td>TV-MA</td>\n",
              "      <td>1 Season</td>\n",
              "      <td>TV Comedies</td>\n",
              "      <td>Kenya Barris and his family navigate relations...</td>\n",
              "      <td>4</td>\n",
              "      <td>2020</td>\n",
              "    </tr>\n",
              "    <tr>\n",
              "      <th>53</th>\n",
              "      <td>s54</td>\n",
              "      <td>TV Show</td>\n",
              "      <td>100 Humans</td>\n",
              "      <td>No Director</td>\n",
              "      <td>Zainab Johnson, Sammy Obeid, Alie Ward</td>\n",
              "      <td>United States</td>\n",
              "      <td>2020-03-13</td>\n",
              "      <td>2020</td>\n",
              "      <td>TV-14</td>\n",
              "      <td>1 Season</td>\n",
              "      <td>Docuseries, Science &amp; Nature TV</td>\n",
              "      <td>One hundred hardy souls from diverse backgroun...</td>\n",
              "      <td>3</td>\n",
              "      <td>2020</td>\n",
              "    </tr>\n",
              "    <tr>\n",
              "      <th>63</th>\n",
              "      <td>s64</td>\n",
              "      <td>TV Show</td>\n",
              "      <td>13 Reasons Why</td>\n",
              "      <td>No Director</td>\n",
              "      <td>Dylan Minnette, Katherine Langford, Kate Walsh...</td>\n",
              "      <td>United States</td>\n",
              "      <td>2020-06-05</td>\n",
              "      <td>2020</td>\n",
              "      <td>TV-MA</td>\n",
              "      <td>4 Seasons</td>\n",
              "      <td>Crime TV Shows, TV Dramas, TV Mysteries</td>\n",
              "      <td>After a teenage girl's perplexing suicide, a c...</td>\n",
              "      <td>6</td>\n",
              "      <td>2020</td>\n",
              "    </tr>\n",
              "    <tr>\n",
              "      <th>64</th>\n",
              "      <td>s65</td>\n",
              "      <td>TV Show</td>\n",
              "      <td>13 Reasons Why: Beyond the Reasons</td>\n",
              "      <td>No Director</td>\n",
              "      <td>Dylan Minnette, Katherine Langford, Kate Walsh...</td>\n",
              "      <td>United States</td>\n",
              "      <td>2019-08-23</td>\n",
              "      <td>2019</td>\n",
              "      <td>TV-MA</td>\n",
              "      <td>3 Seasons</td>\n",
              "      <td>Crime TV Shows, Docuseries</td>\n",
              "      <td>Cast members, writers, producers and mental he...</td>\n",
              "      <td>8</td>\n",
              "      <td>2019</td>\n",
              "    </tr>\n",
              "    <tr>\n",
              "      <th>107</th>\n",
              "      <td>s109</td>\n",
              "      <td>TV Show</td>\n",
              "      <td>3Below: Tales of Arcadia</td>\n",
              "      <td>No Director</td>\n",
              "      <td>Tatiana Maslany, Diego Luna, Nick Offerman, Ni...</td>\n",
              "      <td>United States</td>\n",
              "      <td>2019-07-12</td>\n",
              "      <td>2019</td>\n",
              "      <td>TV-Y7</td>\n",
              "      <td>2 Seasons</td>\n",
              "      <td>Kids' TV, TV Action &amp; Adventure, TV Sci-Fi &amp; F...</td>\n",
              "      <td>After crash-landing on Earth, two royal teen a...</td>\n",
              "      <td>7</td>\n",
              "      <td>2019</td>\n",
              "    </tr>\n",
              "    <tr>\n",
              "      <th>...</th>\n",
              "      <td>...</td>\n",
              "      <td>...</td>\n",
              "      <td>...</td>\n",
              "      <td>...</td>\n",
              "      <td>...</td>\n",
              "      <td>...</td>\n",
              "      <td>...</td>\n",
              "      <td>...</td>\n",
              "      <td>...</td>\n",
              "      <td>...</td>\n",
              "      <td>...</td>\n",
              "      <td>...</td>\n",
              "      <td>...</td>\n",
              "      <td>...</td>\n",
              "    </tr>\n",
              "    <tr>\n",
              "      <th>7661</th>\n",
              "      <td>s7679</td>\n",
              "      <td>TV Show</td>\n",
              "      <td>WWII in HD</td>\n",
              "      <td>No Director</td>\n",
              "      <td>Gary Sinise, Rob Lowe, Josh Lucas, Justin Bart...</td>\n",
              "      <td>United States</td>\n",
              "      <td>2020-05-02</td>\n",
              "      <td>2009</td>\n",
              "      <td>TV-14</td>\n",
              "      <td>1 Season</td>\n",
              "      <td>Docuseries</td>\n",
              "      <td>Rare color footage interwoven with firsthand i...</td>\n",
              "      <td>5</td>\n",
              "      <td>2020</td>\n",
              "    </tr>\n",
              "    <tr>\n",
              "      <th>7665</th>\n",
              "      <td>s7683</td>\n",
              "      <td>TV Show</td>\n",
              "      <td>Wynonna Earp</td>\n",
              "      <td>No Director</td>\n",
              "      <td>Melanie Scrofano, Shamier Anderson, Tim Rozon,...</td>\n",
              "      <td>Canada, United States</td>\n",
              "      <td>2019-07-16</td>\n",
              "      <td>2018</td>\n",
              "      <td>TV-14</td>\n",
              "      <td>3 Seasons</td>\n",
              "      <td>International TV Shows, TV Action &amp; Adventure,...</td>\n",
              "      <td>The outcast descendant of lawman Wyatt Earp te...</td>\n",
              "      <td>7</td>\n",
              "      <td>2019</td>\n",
              "    </tr>\n",
              "    <tr>\n",
              "      <th>7695</th>\n",
              "      <td>s7713</td>\n",
              "      <td>TV Show</td>\n",
              "      <td>Yo-Kai Watch</td>\n",
              "      <td>No Director</td>\n",
              "      <td>Johnny Yong Bosch, J.W. Terry, Alicyn Packard,...</td>\n",
              "      <td>United States</td>\n",
              "      <td>2016-04-01</td>\n",
              "      <td>2015</td>\n",
              "      <td>TV-Y7</td>\n",
              "      <td>1 Season</td>\n",
              "      <td>Anime Series, Kids' TV</td>\n",
              "      <td>Nate frees a mythical being trapped in a magic...</td>\n",
              "      <td>4</td>\n",
              "      <td>2016</td>\n",
              "    </tr>\n",
              "    <tr>\n",
              "      <th>7713</th>\n",
              "      <td>s7731</td>\n",
              "      <td>TV Show</td>\n",
              "      <td>You vs. Wild</td>\n",
              "      <td>No Director</td>\n",
              "      <td>Bear Grylls</td>\n",
              "      <td>United States</td>\n",
              "      <td>2019-04-10</td>\n",
              "      <td>2019</td>\n",
              "      <td>TV-PG</td>\n",
              "      <td>1 Season</td>\n",
              "      <td>Kids' TV, Reality TV, Science &amp; Nature TV</td>\n",
              "      <td>In this interactive series, you'll make key de...</td>\n",
              "      <td>4</td>\n",
              "      <td>2019</td>\n",
              "    </tr>\n",
              "    <tr>\n",
              "      <th>7738</th>\n",
              "      <td>s7756</td>\n",
              "      <td>TV Show</td>\n",
              "      <td>Z Nation</td>\n",
              "      <td>No Director</td>\n",
              "      <td>Nat Zang, Russell Hodgkinson, Michael Welch, A...</td>\n",
              "      <td>United States</td>\n",
              "      <td>2019-01-27</td>\n",
              "      <td>2018</td>\n",
              "      <td>TV-MA</td>\n",
              "      <td>5 Seasons</td>\n",
              "      <td>TV Action &amp; Adventure, TV Comedies, TV Horror</td>\n",
              "      <td>A team embarks on a perilous cross-country mis...</td>\n",
              "      <td>1</td>\n",
              "      <td>2019</td>\n",
              "    </tr>\n",
              "  </tbody>\n",
              "</table>\n",
              "<p>551 rows × 14 columns</p>\n",
              "</div>\n",
              "      <button class=\"colab-df-convert\" onclick=\"convertToInteractive('df-926b80b6-34a5-4376-8775-d8e002aed433')\"\n",
              "              title=\"Convert this dataframe to an interactive table.\"\n",
              "              style=\"display:none;\">\n",
              "        \n",
              "  <svg xmlns=\"http://www.w3.org/2000/svg\" height=\"24px\"viewBox=\"0 0 24 24\"\n",
              "       width=\"24px\">\n",
              "    <path d=\"M0 0h24v24H0V0z\" fill=\"none\"/>\n",
              "    <path d=\"M18.56 5.44l.94 2.06.94-2.06 2.06-.94-2.06-.94-.94-2.06-.94 2.06-2.06.94zm-11 1L8.5 8.5l.94-2.06 2.06-.94-2.06-.94L8.5 2.5l-.94 2.06-2.06.94zm10 10l.94 2.06.94-2.06 2.06-.94-2.06-.94-.94-2.06-.94 2.06-2.06.94z\"/><path d=\"M17.41 7.96l-1.37-1.37c-.4-.4-.92-.59-1.43-.59-.52 0-1.04.2-1.43.59L10.3 9.45l-7.72 7.72c-.78.78-.78 2.05 0 2.83L4 21.41c.39.39.9.59 1.41.59.51 0 1.02-.2 1.41-.59l7.78-7.78 2.81-2.81c.8-.78.8-2.07 0-2.86zM5.41 20L4 18.59l7.72-7.72 1.47 1.35L5.41 20z\"/>\n",
              "  </svg>\n",
              "      </button>\n",
              "      \n",
              "  <style>\n",
              "    .colab-df-container {\n",
              "      display:flex;\n",
              "      flex-wrap:wrap;\n",
              "      gap: 12px;\n",
              "    }\n",
              "\n",
              "    .colab-df-convert {\n",
              "      background-color: #E8F0FE;\n",
              "      border: none;\n",
              "      border-radius: 50%;\n",
              "      cursor: pointer;\n",
              "      display: none;\n",
              "      fill: #1967D2;\n",
              "      height: 32px;\n",
              "      padding: 0 0 0 0;\n",
              "      width: 32px;\n",
              "    }\n",
              "\n",
              "    .colab-df-convert:hover {\n",
              "      background-color: #E2EBFA;\n",
              "      box-shadow: 0px 1px 2px rgba(60, 64, 67, 0.3), 0px 1px 3px 1px rgba(60, 64, 67, 0.15);\n",
              "      fill: #174EA6;\n",
              "    }\n",
              "\n",
              "    [theme=dark] .colab-df-convert {\n",
              "      background-color: #3B4455;\n",
              "      fill: #D2E3FC;\n",
              "    }\n",
              "\n",
              "    [theme=dark] .colab-df-convert:hover {\n",
              "      background-color: #434B5C;\n",
              "      box-shadow: 0px 1px 3px 1px rgba(0, 0, 0, 0.15);\n",
              "      filter: drop-shadow(0px 1px 2px rgba(0, 0, 0, 0.3));\n",
              "      fill: #FFFFFF;\n",
              "    }\n",
              "  </style>\n",
              "\n",
              "      <script>\n",
              "        const buttonEl =\n",
              "          document.querySelector('#df-926b80b6-34a5-4376-8775-d8e002aed433 button.colab-df-convert');\n",
              "        buttonEl.style.display =\n",
              "          google.colab.kernel.accessAllowed ? 'block' : 'none';\n",
              "\n",
              "        async function convertToInteractive(key) {\n",
              "          const element = document.querySelector('#df-926b80b6-34a5-4376-8775-d8e002aed433');\n",
              "          const dataTable =\n",
              "            await google.colab.kernel.invokeFunction('convertToInteractive',\n",
              "                                                     [key], {});\n",
              "          if (!dataTable) return;\n",
              "\n",
              "          const docLinkHtml = 'Like what you see? Visit the ' +\n",
              "            '<a target=\"_blank\" href=https://colab.research.google.com/notebooks/data_table.ipynb>data table notebook</a>'\n",
              "            + ' to learn more about interactive tables.';\n",
              "          element.innerHTML = '';\n",
              "          dataTable['output_type'] = 'display_data';\n",
              "          await google.colab.output.renderOutput(dataTable, element);\n",
              "          const docLink = document.createElement('div');\n",
              "          docLink.innerHTML = docLinkHtml;\n",
              "          element.appendChild(docLink);\n",
              "        }\n",
              "      </script>\n",
              "    </div>\n",
              "  </div>\n",
              "  "
            ]
          },
          "metadata": {},
          "execution_count": 50
        }
      ],
      "source": [
        "# Get cluster number from given movie or TV show\n",
        "cluster_num = netflix_df_kmeans[netflix_df1.title=='13 Reasons Why'].cluster.item()\n",
        "\n",
        "# View cluster the movie or TV show belongs to\n",
        "netflix_df1[netflix_df_kmeans.cluster == cluster_num]"
      ]
    },
    {
      "cell_type": "markdown",
      "metadata": {
        "id": "DzFw0jTddn1Z"
      },
      "source": [
        "Below are few of the movies recommended for '13 Reasons Why': \n",
        "\n",
        "'#blackAF',\n",
        " '100 Humans',\n",
        " '13 Reasons Why',\n",
        " '13 Reasons Why: Beyond the Reasons',\n",
        " '3Below: Tales of Arcadia',\n",
        " '7 (Seven)',\n",
        " '9 Months That Made You',\n",
        " 'A Little Help with Carol Burnett',\n",
        " 'A Series of Unfortunate Events',\n",
        " 'A Year In Space',\n",
        " 'A.D. Kingdom and Empire',\n",
        " 'Abstract: The Art of Design',\n",
        " 'Absurd Planet',\n",
        " 'Adam Ruins Everything',\n",
        " 'AJ and the Queen',\n",
        " 'Alexa & Katie',\n",
        " 'All About the Washingtons',\n",
        " 'All American', etc.\n"
      ]
    },
    {
      "cell_type": "markdown",
      "metadata": {
        "id": "XyESnpJBCUcD"
      },
      "source": [
        "OBSERVATION:\n",
        "\n",
        "In the cluster containing '13 Reasons Why', the following details can be inferred:\n",
        "\n",
        "1. The cluster number is 3.\n",
        "2. Cluster-3 has mostly TV shows and very few movies.\n",
        "3. In the director feature, this cluster has mostly 'No Director'.\n",
        "4. In terms of country features, the cluster consists mostly of the US, UK, Canada, and India.\n",
        "5. The date_added feature is between 2015 and 2021."
      ]
    },
    {
      "cell_type": "markdown",
      "metadata": {
        "id": "orp_m3JlCwNS"
      },
      "source": [
        "### **Natural Language Processing (NLP) Model**"
      ]
    },
    {
      "cell_type": "markdown",
      "metadata": {
        "id": "YTsFfdXHJtuz"
      },
      "source": [
        "Convert all plot descriptions to word vectors so they can be processed by the NLP model."
      ]
    },
    {
      "cell_type": "code",
      "execution_count": 36,
      "metadata": {
        "id": "DyqMtxV4C2pn"
      },
      "outputs": [],
      "source": [
        "def remove_punctuation(text):\n",
        "    '''a function for removing punctuation'''\n",
        "    import string\n",
        "    # replacing the punctuations with no space, \n",
        "    # which in effect deletes the punctuation marks \n",
        "    translator = str.maketrans('', '', string.punctuation)\n",
        "    # return the text stripped of punctuation marks\n",
        "    return text.translate(translator)"
      ]
    },
    {
      "cell_type": "markdown",
      "metadata": {
        "id": "JYd0oMoHKoh6"
      },
      "source": [
        "* Apply the function to each observation.\n",
        "* Removing all the punctuations in the description feature."
      ]
    },
    {
      "cell_type": "code",
      "execution_count": 37,
      "metadata": {
        "id": "G0xtTBhtKqHe"
      },
      "outputs": [],
      "source": [
        "# Creating netflix_df2\n",
        "netflix_df2 = netflix_df1.copy()\n",
        "# Removing punctuations from Description\n",
        "netflix_df2['description'] = netflix_df2['description'].apply(remove_punctuation)"
      ]
    },
    {
      "cell_type": "markdown",
      "metadata": {
        "id": "9FrkvXFrK8iO"
      },
      "source": [
        "Next important step is to remove stopwords"
      ]
    },
    {
      "cell_type": "markdown",
      "metadata": {
        "id": "by3xnUOHK-nM"
      },
      "source": [
        "* Extract the stop words"
      ]
    },
    {
      "cell_type": "code",
      "execution_count": 38,
      "metadata": {
        "colab": {
          "base_uri": "https://localhost:8080/"
        },
        "id": "ElSjokADLCX7",
        "outputId": "01dec00f-7fdd-436c-bfa6-947d36f9c5ac"
      },
      "outputs": [
        {
          "output_type": "stream",
          "name": "stderr",
          "text": [
            "[nltk_data] Downloading package stopwords to /root/nltk_data...\n",
            "[nltk_data]   Unzipping corpora/stopwords.zip.\n"
          ]
        },
        {
          "output_type": "execute_result",
          "data": {
            "text/plain": [
              "True"
            ]
          },
          "metadata": {},
          "execution_count": 38
        }
      ],
      "source": [
        "import nltk\n",
        "nltk.download('stopwords')"
      ]
    },
    {
      "cell_type": "code",
      "execution_count": 39,
      "metadata": {
        "colab": {
          "base_uri": "https://localhost:8080/"
        },
        "id": "yjDLwOGMLLIZ",
        "outputId": "1659eb18-ff7a-4d77-f1f0-5e3052da79a5"
      },
      "outputs": [
        {
          "output_type": "execute_result",
          "data": {
            "text/plain": [
              "array(['i', 'me', 'my', 'myself', 'we', 'our', 'ours', 'ourselves', 'you',\n",
              "       \"you're\", \"you've\", \"you'll\", \"you'd\", 'your', 'yours', 'yourself',\n",
              "       'yourselves', 'he', 'him', 'his', 'himself', 'she', \"she's\", 'her',\n",
              "       'hers', 'herself', 'it', \"it's\", 'its', 'itself', 'they', 'them',\n",
              "       'their', 'theirs', 'themselves', 'what', 'which', 'who', 'whom',\n",
              "       'this', 'that', \"that'll\", 'these', 'those', 'am', 'is', 'are',\n",
              "       'was', 'were', 'be', 'been', 'being', 'have', 'has', 'had',\n",
              "       'having', 'do', 'does', 'did', 'doing', 'a', 'an', 'the', 'and',\n",
              "       'but', 'if', 'or', 'because', 'as', 'until', 'while', 'of', 'at',\n",
              "       'by', 'for', 'with', 'about', 'against', 'between', 'into',\n",
              "       'through', 'during', 'before', 'after', 'above', 'below', 'to',\n",
              "       'from', 'up', 'down', 'in', 'out', 'on', 'off', 'over', 'under',\n",
              "       'again', 'further', 'then', 'once', 'here', 'there', 'when',\n",
              "       'where', 'why', 'how', 'all', 'any', 'both', 'each', 'few', 'more',\n",
              "       'most', 'other', 'some', 'such', 'no', 'nor', 'not', 'only', 'own',\n",
              "       'same', 'so', 'than', 'too', 'very', 's', 't', 'can', 'will',\n",
              "       'just', 'don', \"don't\", 'should', \"should've\", 'now', 'd', 'll',\n",
              "       'm', 'o', 're', 've', 'y', 'ain', 'aren', \"aren't\", 'couldn',\n",
              "       \"couldn't\", 'didn', \"didn't\", 'doesn', \"doesn't\", 'hadn', \"hadn't\",\n",
              "       'hasn', \"hasn't\", 'haven', \"haven't\", 'isn', \"isn't\", 'ma',\n",
              "       'mightn', \"mightn't\", 'mustn', \"mustn't\", 'needn', \"needn't\",\n",
              "       'shan', \"shan't\", 'shouldn', \"shouldn't\", 'wasn', \"wasn't\",\n",
              "       'weren', \"weren't\", 'won', \"won't\", 'wouldn', \"wouldn't\"],\n",
              "      dtype='<U10')"
            ]
          },
          "metadata": {},
          "execution_count": 39
        }
      ],
      "source": [
        "# extracting the stopwords from nltk library\n",
        "sw = stopwords.words('english')\n",
        "# displaying the stopwords\n",
        "np.array(sw)"
      ]
    },
    {
      "cell_type": "markdown",
      "metadata": {
        "id": "WEDco0nxLPjy"
      },
      "source": [
        "* Function to remove stopwords"
      ]
    },
    {
      "cell_type": "code",
      "execution_count": 40,
      "metadata": {
        "id": "jkSTOeAFLSgf"
      },
      "outputs": [],
      "source": [
        "def stopwords(text):\n",
        "    '''a function for removing the stopword'''\n",
        "    # removing the stop words and lowercasing the selected words\n",
        "    text = [word.lower() for word in text.split() if word.lower() not in sw]\n",
        "    # joining the list of words with space separator\n",
        "    return \" \".join(text)"
      ]
    },
    {
      "cell_type": "code",
      "execution_count": 41,
      "metadata": {
        "id": "i8Ne4bnOLWxX"
      },
      "outputs": [],
      "source": [
        "# Removing stopwords from description.\n",
        "netflix_df2['description'] = netflix_df2['description'].apply(stopwords)"
      ]
    },
    {
      "cell_type": "markdown",
      "metadata": {
        "id": "j2rs2smdMWkP"
      },
      "source": [
        "Stemming operations"
      ]
    },
    {
      "cell_type": "markdown",
      "metadata": {
        "id": "2St-PwZqMdW7"
      },
      "source": [
        "* A funtion to carry out stemming operation"
      ]
    },
    {
      "cell_type": "code",
      "execution_count": 42,
      "metadata": {
        "id": "6IjCHfGGMgca"
      },
      "outputs": [],
      "source": [
        "# create an object of stemming function\n",
        "stemmer = SnowballStemmer(\"english\")\n",
        "\n",
        "def stemming(text):\n",
        "    '''a function which stems each word in the given text'''\n",
        "    text = [stemmer.stem(word) for word in text.split()]\n",
        "    return \" \".join(text) "
      ]
    },
    {
      "cell_type": "markdown",
      "metadata": {
        "id": "RswnLvm1Mr3m"
      },
      "source": [
        "* Apply the function to each observation"
      ]
    },
    {
      "cell_type": "code",
      "execution_count": 43,
      "metadata": {
        "id": "XWopS1OKMure"
      },
      "outputs": [],
      "source": [
        "netflix_df2['description'] = netflix_df2['description'].apply(stemming)"
      ]
    },
    {
      "cell_type": "markdown",
      "metadata": {
        "id": "FGwiyAutM23o"
      },
      "source": [
        "Top words after stemming operation"
      ]
    },
    {
      "cell_type": "markdown",
      "metadata": {
        "id": "yazO_x4wM5p0"
      },
      "source": [
        "* Collect vocabulary count"
      ]
    },
    {
      "cell_type": "code",
      "execution_count": 44,
      "metadata": {
        "id": "WJTAgokfM2IZ"
      },
      "outputs": [],
      "source": [
        "# create the object of tfid vectorizer\n",
        "tfid_vectorizer = TfidfVectorizer()\n",
        "\n",
        "# fit the vectorizer using the text data\n",
        "tfid_vectorizer.fit(netflix_df2['description'])\n",
        "\n",
        "words_list = list(tfid_vectorizer.get_feature_names_out())\n",
        "\n",
        "# collect the vocabulary items used in the vectorizer\n",
        "dictionary = tfid_vectorizer.vocabulary_.items()"
      ]
    },
    {
      "cell_type": "markdown",
      "metadata": {
        "id": "YWrV4oiNNCTG"
      },
      "source": [
        "* Bar plot of top words after stemming"
      ]
    },
    {
      "cell_type": "code",
      "execution_count": 45,
      "metadata": {
        "colab": {
          "base_uri": "https://localhost:8080/",
          "height": 610
        },
        "id": "6lCf2qHtNF07",
        "outputId": "5ffb62a5-d10a-4e7b-8a40-bd413d870b5d"
      },
      "outputs": [
        {
          "output_type": "execute_result",
          "data": {
            "text/plain": [
              "<matplotlib.axes._subplots.AxesSubplot at 0x7f164157a4f0>"
            ]
          },
          "metadata": {},
          "execution_count": 45
        },
        {
          "output_type": "display_data",
          "data": {
            "text/plain": [
              "<Figure size 360x720 with 1 Axes>"
            ],
            "image/png": "[encoded data removed]"
          },
          "metadata": {
            "needs_background": "light"
          }
        }
      ],
      "source": [
        "# lists to store the vocab and counts\n",
        "vocab = []\n",
        "count = []\n",
        "# iterate through each vocab and count append the value to designated lists\n",
        "for key, value in dictionary:\n",
        "    vocab.append(key)\n",
        "    count.append(value)\n",
        "# store the count in panadas dataframe with vocab as index\n",
        "vocab_after_stem = pd.Series(count, index=vocab)\n",
        "# sort the dataframe\n",
        "vocab_after_stem = vocab_after_stem.sort_values(ascending=False)\n",
        "# plot of the top vocab\n",
        "top_vacab = vocab_after_stem.head(20)\n",
        "top_vacab.plot(kind = 'barh', figsize=(5,10), xlim= (14200, 14250))"
      ]
    },
    {
      "cell_type": "markdown",
      "metadata": {
        "id": "r7mK_9ys3Snq"
      },
      "source": [
        "TFIDF matrix calculation"
      ]
    },
    {
      "cell_type": "code",
      "execution_count": 46,
      "metadata": {
        "id": "WlbdX87kNjUh"
      },
      "outputs": [],
      "source": [
        "# extract the tfid representation matrix of the text data\n",
        "tfid_matrix = tfid_vectorizer.transform(netflix_df2['description'])\n",
        "# collect the tfid matrix in numpy array\n",
        "array = tfid_matrix.toarray()"
      ]
    },
    {
      "cell_type": "code",
      "execution_count": 47,
      "metadata": {
        "colab": {
          "base_uri": "https://localhost:8080/",
          "height": 235
        },
        "id": "83X_Wyn0Nt1m",
        "outputId": "333ca2a4-d9cd-4d37-9f7a-f7171e73b8f1"
      },
      "outputs": [
        {
          "output_type": "execute_result",
          "data": {
            "text/plain": [
              "   0      1      2      3      4      5      6      7      8      9      ...  \\\n",
              "0    0.0    0.0    0.0    0.0    0.0    0.0    0.0    0.0    0.0    0.0  ...   \n",
              "1    0.0    0.0    0.0    0.0    0.0    0.0    0.0    0.0    0.0    0.0  ...   \n",
              "2    0.0    0.0    0.0    0.0    0.0    0.0    0.0    0.0    0.0    0.0  ...   \n",
              "3    0.0    0.0    0.0    0.0    0.0    0.0    0.0    0.0    0.0    0.0  ...   \n",
              "4    0.0    0.0    0.0    0.0    0.0    0.0    0.0    0.0    0.0    0.0  ...   \n",
              "\n",
              "   14224  14225  14226  14227  14228  14229  14230  14231  14232  14233  \n",
              "0    0.0    0.0    0.0    0.0    0.0    0.0    0.0    0.0    0.0    0.0  \n",
              "1    0.0    0.0    0.0    0.0    0.0    0.0    0.0    0.0    0.0    0.0  \n",
              "2    0.0    0.0    0.0    0.0    0.0    0.0    0.0    0.0    0.0    0.0  \n",
              "3    0.0    0.0    0.0    0.0    0.0    0.0    0.0    0.0    0.0    0.0  \n",
              "4    0.0    0.0    0.0    0.0    0.0    0.0    0.0    0.0    0.0    0.0  \n",
              "\n",
              "[5 rows x 14234 columns]"
            ],
            "text/html": [
              "\n",
              "  <div id=\"df-34cb0bef-f070-4349-ab47-f44e37e515e5\">\n",
              "    <div class=\"colab-df-container\">\n",
              "      <div>\n",
              "<style scoped>\n",
              "    .dataframe tbody tr th:only-of-type {\n",
              "        vertical-align: middle;\n",
              "    }\n",
              "\n",
              "    .dataframe tbody tr th {\n",
              "        vertical-align: top;\n",
              "    }\n",
              "\n",
              "    .dataframe thead th {\n",
              "        text-align: right;\n",
              "    }\n",
              "</style>\n",
              "<table border=\"1\" class=\"dataframe\">\n",
              "  <thead>\n",
              "    <tr style=\"text-align: right;\">\n",
              "      <th></th>\n",
              "      <th>0</th>\n",
              "      <th>1</th>\n",
              "      <th>2</th>\n",
              "      <th>3</th>\n",
              "      <th>4</th>\n",
              "      <th>5</th>\n",
              "      <th>6</th>\n",
              "      <th>7</th>\n",
              "      <th>8</th>\n",
              "      <th>9</th>\n",
              "      <th>...</th>\n",
              "      <th>14224</th>\n",
              "      <th>14225</th>\n",
              "      <th>14226</th>\n",
              "      <th>14227</th>\n",
              "      <th>14228</th>\n",
              "      <th>14229</th>\n",
              "      <th>14230</th>\n",
              "      <th>14231</th>\n",
              "      <th>14232</th>\n",
              "      <th>14233</th>\n",
              "    </tr>\n",
              "  </thead>\n",
              "  <tbody>\n",
              "    <tr>\n",
              "      <th>0</th>\n",
              "      <td>0.0</td>\n",
              "      <td>0.0</td>\n",
              "      <td>0.0</td>\n",
              "      <td>0.0</td>\n",
              "      <td>0.0</td>\n",
              "      <td>0.0</td>\n",
              "      <td>0.0</td>\n",
              "      <td>0.0</td>\n",
              "      <td>0.0</td>\n",
              "      <td>0.0</td>\n",
              "      <td>...</td>\n",
              "      <td>0.0</td>\n",
              "      <td>0.0</td>\n",
              "      <td>0.0</td>\n",
              "      <td>0.0</td>\n",
              "      <td>0.0</td>\n",
              "      <td>0.0</td>\n",
              "      <td>0.0</td>\n",
              "      <td>0.0</td>\n",
              "      <td>0.0</td>\n",
              "      <td>0.0</td>\n",
              "    </tr>\n",
              "    <tr>\n",
              "      <th>1</th>\n",
              "      <td>0.0</td>\n",
              "      <td>0.0</td>\n",
              "      <td>0.0</td>\n",
              "      <td>0.0</td>\n",
              "      <td>0.0</td>\n",
              "      <td>0.0</td>\n",
              "      <td>0.0</td>\n",
              "      <td>0.0</td>\n",
              "      <td>0.0</td>\n",
              "      <td>0.0</td>\n",
              "      <td>...</td>\n",
              "      <td>0.0</td>\n",
              "      <td>0.0</td>\n",
              "      <td>0.0</td>\n",
              "      <td>0.0</td>\n",
              "      <td>0.0</td>\n",
              "      <td>0.0</td>\n",
              "      <td>0.0</td>\n",
              "      <td>0.0</td>\n",
              "      <td>0.0</td>\n",
              "      <td>0.0</td>\n",
              "    </tr>\n",
              "    <tr>\n",
              "      <th>2</th>\n",
              "      <td>0.0</td>\n",
              "      <td>0.0</td>\n",
              "      <td>0.0</td>\n",
              "      <td>0.0</td>\n",
              "      <td>0.0</td>\n",
              "      <td>0.0</td>\n",
              "      <td>0.0</td>\n",
              "      <td>0.0</td>\n",
              "      <td>0.0</td>\n",
              "      <td>0.0</td>\n",
              "      <td>...</td>\n",
              "      <td>0.0</td>\n",
              "      <td>0.0</td>\n",
              "      <td>0.0</td>\n",
              "      <td>0.0</td>\n",
              "      <td>0.0</td>\n",
              "      <td>0.0</td>\n",
              "      <td>0.0</td>\n",
              "      <td>0.0</td>\n",
              "      <td>0.0</td>\n",
              "      <td>0.0</td>\n",
              "    </tr>\n",
              "    <tr>\n",
              "      <th>3</th>\n",
              "      <td>0.0</td>\n",
              "      <td>0.0</td>\n",
              "      <td>0.0</td>\n",
              "      <td>0.0</td>\n",
              "      <td>0.0</td>\n",
              "      <td>0.0</td>\n",
              "      <td>0.0</td>\n",
              "      <td>0.0</td>\n",
              "      <td>0.0</td>\n",
              "      <td>0.0</td>\n",
              "      <td>...</td>\n",
              "      <td>0.0</td>\n",
              "      <td>0.0</td>\n",
              "      <td>0.0</td>\n",
              "      <td>0.0</td>\n",
              "      <td>0.0</td>\n",
              "      <td>0.0</td>\n",
              "      <td>0.0</td>\n",
              "      <td>0.0</td>\n",
              "      <td>0.0</td>\n",
              "      <td>0.0</td>\n",
              "    </tr>\n",
              "    <tr>\n",
              "      <th>4</th>\n",
              "      <td>0.0</td>\n",
              "      <td>0.0</td>\n",
              "      <td>0.0</td>\n",
              "      <td>0.0</td>\n",
              "      <td>0.0</td>\n",
              "      <td>0.0</td>\n",
              "      <td>0.0</td>\n",
              "      <td>0.0</td>\n",
              "      <td>0.0</td>\n",
              "      <td>0.0</td>\n",
              "      <td>...</td>\n",
              "      <td>0.0</td>\n",
              "      <td>0.0</td>\n",
              "      <td>0.0</td>\n",
              "      <td>0.0</td>\n",
              "      <td>0.0</td>\n",
              "      <td>0.0</td>\n",
              "      <td>0.0</td>\n",
              "      <td>0.0</td>\n",
              "      <td>0.0</td>\n",
              "      <td>0.0</td>\n",
              "    </tr>\n",
              "  </tbody>\n",
              "</table>\n",
              "<p>5 rows × 14234 columns</p>\n",
              "</div>\n",
              "      <button class=\"colab-df-convert\" onclick=\"convertToInteractive('df-34cb0bef-f070-4349-ab47-f44e37e515e5')\"\n",
              "              title=\"Convert this dataframe to an interactive table.\"\n",
              "              style=\"display:none;\">\n",
              "        \n",
              "  <svg xmlns=\"http://www.w3.org/2000/svg\" height=\"24px\"viewBox=\"0 0 24 24\"\n",
              "       width=\"24px\">\n",
              "    <path d=\"M0 0h24v24H0V0z\" fill=\"none\"/>\n",
              "    <path d=\"M18.56 5.44l.94 2.06.94-2.06 2.06-.94-2.06-.94-.94-2.06-.94 2.06-2.06.94zm-11 1L8.5 8.5l.94-2.06 2.06-.94-2.06-.94L8.5 2.5l-.94 2.06-2.06.94zm10 10l.94 2.06.94-2.06 2.06-.94-2.06-.94-.94-2.06-.94 2.06-2.06.94z\"/><path d=\"M17.41 7.96l-1.37-1.37c-.4-.4-.92-.59-1.43-.59-.52 0-1.04.2-1.43.59L10.3 9.45l-7.72 7.72c-.78.78-.78 2.05 0 2.83L4 21.41c.39.39.9.59 1.41.59.51 0 1.02-.2 1.41-.59l7.78-7.78 2.81-2.81c.8-.78.8-2.07 0-2.86zM5.41 20L4 18.59l7.72-7.72 1.47 1.35L5.41 20z\"/>\n",
              "  </svg>\n",
              "      </button>\n",
              "      \n",
              "  <style>\n",
              "    .colab-df-container {\n",
              "      display:flex;\n",
              "      flex-wrap:wrap;\n",
              "      gap: 12px;\n",
              "    }\n",
              "\n",
              "    .colab-df-convert {\n",
              "      background-color: #E8F0FE;\n",
              "      border: none;\n",
              "      border-radius: 50%;\n",
              "      cursor: pointer;\n",
              "      display: none;\n",
              "      fill: #1967D2;\n",
              "      height: 32px;\n",
              "      padding: 0 0 0 0;\n",
              "      width: 32px;\n",
              "    }\n",
              "\n",
              "    .colab-df-convert:hover {\n",
              "      background-color: #E2EBFA;\n",
              "      box-shadow: 0px 1px 2px rgba(60, 64, 67, 0.3), 0px 1px 3px 1px rgba(60, 64, 67, 0.15);\n",
              "      fill: #174EA6;\n",
              "    }\n",
              "\n",
              "    [theme=dark] .colab-df-convert {\n",
              "      background-color: #3B4455;\n",
              "      fill: #D2E3FC;\n",
              "    }\n",
              "\n",
              "    [theme=dark] .colab-df-convert:hover {\n",
              "      background-color: #434B5C;\n",
              "      box-shadow: 0px 1px 3px 1px rgba(0, 0, 0, 0.15);\n",
              "      filter: drop-shadow(0px 1px 2px rgba(0, 0, 0, 0.3));\n",
              "      fill: #FFFFFF;\n",
              "    }\n",
              "  </style>\n",
              "\n",
              "      <script>\n",
              "        const buttonEl =\n",
              "          document.querySelector('#df-34cb0bef-f070-4349-ab47-f44e37e515e5 button.colab-df-convert');\n",
              "        buttonEl.style.display =\n",
              "          google.colab.kernel.accessAllowed ? 'block' : 'none';\n",
              "\n",
              "        async function convertToInteractive(key) {\n",
              "          const element = document.querySelector('#df-34cb0bef-f070-4349-ab47-f44e37e515e5');\n",
              "          const dataTable =\n",
              "            await google.colab.kernel.invokeFunction('convertToInteractive',\n",
              "                                                     [key], {});\n",
              "          if (!dataTable) return;\n",
              "\n",
              "          const docLinkHtml = 'Like what you see? Visit the ' +\n",
              "            '<a target=\"_blank\" href=https://colab.research.google.com/notebooks/data_table.ipynb>data table notebook</a>'\n",
              "            + ' to learn more about interactive tables.';\n",
              "          element.innerHTML = '';\n",
              "          dataTable['output_type'] = 'display_data';\n",
              "          await google.colab.output.renderOutput(dataTable, element);\n",
              "          const docLink = document.createElement('div');\n",
              "          docLink.innerHTML = docLinkHtml;\n",
              "          element.appendChild(docLink);\n",
              "        }\n",
              "      </script>\n",
              "    </div>\n",
              "  </div>\n",
              "  "
            ]
          },
          "metadata": {},
          "execution_count": 47
        }
      ],
      "source": [
        "# store the tf-idf array into pandas dataframe\n",
        "df = pd.DataFrame(array)\n",
        "df.head()"
      ]
    },
    {
      "cell_type": "markdown",
      "metadata": {
        "id": "1bltM-b93doD"
      },
      "source": [
        "Testing NLP with an input movie"
      ]
    },
    {
      "cell_type": "code",
      "execution_count": 48,
      "metadata": {
        "id": "tVyDcE3SV9k2"
      },
      "outputs": [],
      "source": [
        "# fuction to get top five movie/ TV Show recommendations\n",
        "def recommend(Movie):\n",
        "  indices = pd.Series(netflix_df2['title']).reset_index(drop = True)\n",
        "  # To get the index of the movie title matching the input movie\n",
        "  idx = indices[indices == Movie].index[0]\n",
        "  # Print top 10 word list\n",
        "  print(f'Top 10 word list in \"{Movie}\"\\n')\n",
        "  for i in list(df.loc[idx,:].sort_values(ascending = False)[0:11].index):\n",
        "    print(words_list[i])\n",
        "\n",
        "  # Printing the description of the desired movie\n",
        "  pd.options.display.max_colwidth = 500\n",
        "  print('\\nDescription for ' + Movie + ':\\n' + netflix_df1[netflix_df2['title'] == Movie].description.values[0])\n",
        "  # Top 10 word list\n",
        "  index_ = list(df.loc[idx,:].sort_values(ascending = False)[0:11].index)\n",
        "  # Taking the top 5 movies where above 10 word list count is maximum.\n",
        "  series_ = df.loc[:, index_].sum(axis = 1).sort_values(ascending = False)[1:6] # to get the indices of top 5 most similar movies\n",
        "\n",
        "\n",
        "  print('\\n\\nThe following are the recommended Movies:')\n",
        "  for i in list(series_.index):   # to append the titles of top 10 similar movies to the recommended_movies list\n",
        "    title = netflix_df1[netflix_df1.title == indices.loc[i]].title.values[0]\n",
        "    description = netflix_df1[netflix_df1.title == indices.loc[i]].description.values[0]\n",
        "    print(f'\\nMovie - {title} : \\ndescription - {description}')"
      ]
    },
    {
      "cell_type": "code",
      "execution_count": 49,
      "metadata": {
        "colab": {
          "base_uri": "https://localhost:8080/"
        },
        "id": "djh0FW9XcKuN",
        "outputId": "38e55cf5-643d-46ff-de9a-3f47420b3089"
      },
      "outputs": [
        {
          "output_type": "stream",
          "name": "stdout",
          "text": [
            "Top 10 word list in \"13 Reasons Why\"\n",
            "\n",
            "perplex\n",
            "tape\n",
            "choic\n",
            "receiv\n",
            "suicid\n",
            "unravel\n",
            "tragic\n",
            "classmat\n",
            "teenag\n",
            "mysteri\n",
            "girl\n",
            "\n",
            "Description for 13 Reasons Why:\n",
            "After a teenage girl's perplexing suicide, a classmate receives a series of tapes that unravel the mystery of her tragic choice.\n",
            "\n",
            "\n",
            "The following are the recommended Movies:\n",
            "\n",
            "Movie - Not Alone : \n",
            "description - An 18-year-old struggling to understand her best friend's suicide talks to teenagers who have grappled with mental illness and suicidal thoughts.\n",
            "\n",
            "Movie - Devil's Bride : \n",
            "description - On a small Finnish island in 1666, a teenage girl in love with a married fisherman becomes the center of a tragic witch hunt and power struggle.\n",
            "\n",
            "Movie - Hotel Beau Séjour : \n",
            "description - Caught in an afterlife limbo, teenage Kato investigates her own mysterious death and unravels a web of secrets in her seemingly tranquil village.\n",
            "\n",
            "Movie - Shutter : \n",
            "description - After killing a young girl in a hit-and-run accident, a couple is haunted by more than just the memory of their deadly choice.\n",
            "\n",
            "Movie - Blood Will Tell : \n",
            "description - Family patriarch Elías begins to unravel after the death of his wife – which casts a suspicious light on her tragic accident.\n"
          ]
        }
      ],
      "source": [
        "# Input movie\n",
        "Movie = '13 Reasons Why'\n",
        "# Movie recommendations\n",
        "recommend(Movie)"
      ]
    },
    {
      "cell_type": "markdown",
      "metadata": {
        "id": "1JL3TCuo-zYe"
      },
      "source": []
    },
    {
      "cell_type": "markdown",
      "metadata": {
        "id": "V86nvyYKe6p_"
      },
      "source": [
        "### **NLP + KMeans**\n",
        "\n",
        "This section is just to see if I can improve the above two recommendation methods. First of all, I believe tweaking a few features should improve the recommendation. Since the description dataframe(df) in the NLP section has more than 14,000 columns, adding all those columns will not benefit K-Means clustering. As a result, only the necessary columns are chosen and clustering is performed accordingly."
      ]
    },
    {
      "cell_type": "markdown",
      "metadata": {
        "id": "An3j13LQvChW"
      },
      "source": [
        "This section differs from the K-Means Clustering section by including description obtained from NLP section.\n",
        "\n"
      ]
    },
    {
      "cell_type": "code",
      "execution_count": 56,
      "metadata": {
        "id": "NTz8G2Dve7oe"
      },
      "outputs": [],
      "source": [
        "netflix_nlp_kmeans = netflix_df_kmeans.copy()"
      ]
    },
    {
      "cell_type": "code",
      "execution_count": null,
      "metadata": {
        "id": "LR5Qe2qTnHjS"
      },
      "outputs": [],
      "source": [
        "# 'Cluster' feature is dropped\n",
        "netflix_nlp_kmeans.drop('cluster', axis = 1, inplace = True)"
      ]
    },
    {
      "cell_type": "code",
      "execution_count": null,
      "metadata": {
        "id": "WsCtd6Ka_1F2"
      },
      "outputs": [],
      "source": [
        "# Taking the sum of only few columns which are more revelant in '13 Reasons Why'\n",
        "index = netflix_df1[netflix_df1.title == '13 Reasons Why'].index[0]\n",
        "genres = df.loc[index, :].sort_values(ascending = False)[0:11].index\n",
        "netflix_nlp_kmeans['sum_description'] = df[genres].sum(axis = 1)"
      ]
    },
    {
      "cell_type": "code",
      "execution_count": null,
      "metadata": {
        "id": "v8H4de5woRFF"
      },
      "outputs": [],
      "source": [
        "# K-Means clustering\n",
        "Nc = range(2, 35)\n",
        "kmeans = [KMeans(n_clusters=i, init = 'k-means++', random_state = 42) for i in Nc]\n",
        "score = [kmeans[i].fit(netflix_nlp_kmeans).score(netflix_nlp_kmeans) for i in range(len(kmeans))]"
      ]
    },
    {
      "cell_type": "code",
      "execution_count": null,
      "metadata": {
        "id": "kZnS-GIwQl_D"
      },
      "outputs": [],
      "source": [
        "import matplotlib.pyplot as plt\n",
        "plt.plot(Nc, score)\n",
        "  \n",
        "# naming the x axis\n",
        "plt.xlabel('Number of clusters')\n",
        "# naming the y axis\n",
        "plt.ylabel('score')\n",
        "  \n",
        "# giving a title to my graph\n",
        "plt.title('Elbow Curve')"
      ]
    },
    {
      "cell_type": "code",
      "execution_count": null,
      "metadata": {
        "id": "DgSqJuKlPGb9"
      },
      "outputs": [],
      "source": [
        "# silhouette score\n",
        "from sklearn.metrics import silhouette_score\n",
        "silhouettescore = []\n",
        "for i in range(2, 35):\n",
        "  kmeans = KMeans(n_clusters = i, init = 'k-means++', random_state = 42)\n",
        "  kmeans.fit(netflix_nlp_kmeans)\n",
        "  silhouettescore.append(silhouette_score(netflix_nlp_kmeans, kmeans.labels_))"
      ]
    },
    {
      "cell_type": "code",
      "execution_count": null,
      "metadata": {
        "id": "BJEyo17Ef4bk"
      },
      "outputs": [],
      "source": [
        "import matplotlib.pyplot as plt\n",
        "plt.plot(range(7, 35), silhouettescore[5:])\n",
        "  \n",
        "# naming the x axis\n",
        "plt.xlabel('Number of clusters')\n",
        "# naming the y axis\n",
        "plt.ylabel('score')\n",
        "  \n",
        "# giving a title to my graph\n",
        "plt.title('Silhouette score Curve')"
      ]
    },
    {
      "cell_type": "markdown",
      "metadata": {
        "id": "JCwwJoERsUsu"
      },
      "source": [
        "Silhouette score Curve is used to calculate is used to find the optimal solution to number of clusters.\n",
        "\n",
        "In this case the optimal number of clusters = 12."
      ]
    },
    {
      "cell_type": "code",
      "execution_count": null,
      "metadata": {
        "id": "9cx8KM0if5em"
      },
      "outputs": [],
      "source": [
        "#fitting\n",
        "kmeans = KMeans(n_clusters=12, random_state = 42)\n",
        "kmeans.fit(netflix_nlp_kmeans)\n",
        "netflix_nlp_kmeans['cluster'] = kmeans.labels_\n",
        "netflix_nlp_kmeans.head()"
      ]
    },
    {
      "cell_type": "code",
      "execution_count": null,
      "metadata": {
        "id": "ERwgbdfaf_Lz"
      },
      "outputs": [],
      "source": [
        "import matplotlib.pyplot as plt\n",
        "plt.figure(figsize=(12,7))\n",
        "plt = sns.countplot(netflix_nlp_kmeans['cluster'])\n",
        "plt.set_xlabel(\"Cluster Number\")\n",
        "plt.set_ylabel(\"Data in a cluster\")"
      ]
    },
    {
      "cell_type": "code",
      "execution_count": null,
      "metadata": {
        "id": "f9z6XbTngEIB"
      },
      "outputs": [],
      "source": [
        "# Get cluster number from given movie or TV show\n",
        "cluster_num = netflix_nlp_kmeans[netflix_df1.title=='13 Reasons Why'].cluster.item()\n",
        "\n",
        "# View cluster the movie or TV show belongs to\n",
        "netflix_df1[netflix_nlp_kmeans.cluster == cluster_num]"
      ]
    },
    {
      "cell_type": "markdown",
      "metadata": {
        "id": "Qefa37AaCvEV"
      },
      "source": [
        "Below are few of the movies recommended for '13 Reasons Why':\n",
        "\n",
        "'#blackAF',\n",
        " '100 Humans',\n",
        " '13 Reasons Why: Beyond the Reasons',\n",
        " '3Below: Tales of Arcadia',\n",
        " '7 (Seven)',\n",
        " '9 Months That Made You',\n",
        " 'A Little Help with Carol Burnett',\n",
        " 'A Series of Unfortunate Events',\n",
        " 'A Year In Space',\n",
        " 'A.D. Kingdom and Empire',\n",
        " 'Abstract: The Art of Design',\n",
        " 'Absurd Planet',\n",
        " 'Adam Ruins Everything',\n",
        " 'AJ and the Queen',\n",
        " 'Alexa & Katie',\n",
        " 'All About the Washingtons',\n",
        " 'All American',\n",
        " 'Altered Carbon',\n",
        " \"America's Book of Secrets\",\n",
        " \"America's Next Top Model\",\n",
        " 'American Crime',\n",
        " 'American Crime Story: The People v. O.J. Simpson',\n",
        " 'American Odyssey',\n",
        " 'American Vandal',\n",
        " 'Ancient Aliens',\n",
        " 'Another Life', etc.\n",
        "\n"
      ]
    },
    {
      "cell_type": "markdown",
      "metadata": {
        "id": "81ksqTld7k8M"
      },
      "source": [
        "OBSERVATION:\n",
        "\n",
        "In the cluster containing '13 Reasons Why', the following details can be inferred:\n",
        "\n",
        "1. The cluster number is 11.\n",
        "2. Cluster-11 has mostly TV shows and very few movies.\n",
        "3. In the director feature, this cluster has mostly 'No Director'.\n",
        "4. In terms of country features, the cluster consists mostly of the US, UK, Canada, and India.\n",
        "5. The date_added feature is between 2015 and 2021."
      ]
    },
    {
      "cell_type": "markdown",
      "metadata": {
        "id": "9xyBs9K9hddJ"
      },
      "source": [
        "### PCA"
      ]
    },
    {
      "cell_type": "code",
      "execution_count": null,
      "metadata": {
        "id": "o9A443LIhe9O"
      },
      "outputs": [],
      "source": [
        "#appending all text column to single text column to work with\n",
        "netflix_pca_df = netflix_df1.copy()\n",
        "netflix_pca_df['filtered'] = netflix_pca_df['description'] + ' '+ netflix_pca_df['listed_in'] + ' ' + netflix_pca_df['rating'] + ' '+ netflix_pca_df['country']+ ' ' + netflix_pca_df['cast'] + ' '+ netflix_pca_df['director']"
      ]
    },
    {
      "cell_type": "code",
      "execution_count": null,
      "metadata": {
        "colab": {
          "base_uri": "https://localhost:8080/",
          "height": 87
        },
        "id": "eJy852iXh7GV",
        "outputId": "9d95c75a-f414-496a-dfe2-0de9405fc9fd"
      },
      "outputs": [
        {
          "output_type": "execute_result",
          "data": {
            "text/plain": [
              "'In a future where the elite inhabit an island paradise far from the crowded slums, you get one chance to join the 3% saved from squalor. International TV Shows, TV Dramas, TV Sci-Fi & Fantasy TV-MA Brazil João Miguel, Bianca Comparato, Michel Gomes, Rodolfo Valente, Vaneza Oliveira, Rafael Lozano, Viviane Porto, Mel Fronckowiak, Sergio Mamberti, Zezé Motta, Celso Frateschi No Director'"
            ],
            "application/vnd.google.colaboratory.intrinsic+json": {
              "type": "string"
            }
          },
          "metadata": {},
          "execution_count": 32
        }
      ],
      "source": [
        "netflix_pca_df['filtered'][0]"
      ]
    },
    {
      "cell_type": "markdown",
      "metadata": {
        "id": "V8pvx16KiGV6"
      },
      "source": [
        "Text Cleaning:"
      ]
    },
    {
      "cell_type": "code",
      "execution_count": null,
      "metadata": {
        "id": "7ZiWBKJmiM8m"
      },
      "outputs": [],
      "source": [
        "# to lower\n",
        "netflix_pca_df['filtered' ]= netflix_pca_df['filtered'].str.lower()"
      ]
    },
    {
      "cell_type": "code",
      "source": [
        "netflix_pca_df['filtered'] = netflix_pca_df['filtered'].apply(remove_punctuation)"
      ],
      "metadata": {
        "id": "aAWglxUSFRzj"
      },
      "execution_count": null,
      "outputs": []
    },
    {
      "cell_type": "code",
      "source": [
        "import nltk\n",
        "nltk.download('stopwords')"
      ],
      "metadata": {
        "colab": {
          "base_uri": "https://localhost:8080/"
        },
        "id": "NNcZSUPEIOHs",
        "outputId": "d2ac32db-d7f8-4a0b-e6d5-0e19878d7e26"
      },
      "execution_count": null,
      "outputs": [
        {
          "output_type": "stream",
          "name": "stderr",
          "text": [
            "[nltk_data] Downloading package stopwords to /root/nltk_data...\n",
            "[nltk_data]   Package stopwords is already up-to-date!\n"
          ]
        },
        {
          "output_type": "execute_result",
          "data": {
            "text/plain": [
              "True"
            ]
          },
          "metadata": {},
          "execution_count": 35
        }
      ]
    },
    {
      "cell_type": "code",
      "source": [
        "# extracting the stopwords from nltk library\n",
        "from nltk.corpus import stopwords\n",
        "sw = stopwords.words('english')\n",
        "# displaying the stopwords\n",
        "np.array(sw)"
      ],
      "metadata": {
        "colab": {
          "base_uri": "https://localhost:8080/"
        },
        "id": "sah797WVIPPZ",
        "outputId": "e2fd526c-f367-4e34-accb-0f4de9a54251"
      },
      "execution_count": null,
      "outputs": [
        {
          "output_type": "execute_result",
          "data": {
            "text/plain": [
              "array(['i', 'me', 'my', 'myself', 'we', 'our', 'ours', 'ourselves', 'you',\n",
              "       \"you're\", \"you've\", \"you'll\", \"you'd\", 'your', 'yours', 'yourself',\n",
              "       'yourselves', 'he', 'him', 'his', 'himself', 'she', \"she's\", 'her',\n",
              "       'hers', 'herself', 'it', \"it's\", 'its', 'itself', 'they', 'them',\n",
              "       'their', 'theirs', 'themselves', 'what', 'which', 'who', 'whom',\n",
              "       'this', 'that', \"that'll\", 'these', 'those', 'am', 'is', 'are',\n",
              "       'was', 'were', 'be', 'been', 'being', 'have', 'has', 'had',\n",
              "       'having', 'do', 'does', 'did', 'doing', 'a', 'an', 'the', 'and',\n",
              "       'but', 'if', 'or', 'because', 'as', 'until', 'while', 'of', 'at',\n",
              "       'by', 'for', 'with', 'about', 'against', 'between', 'into',\n",
              "       'through', 'during', 'before', 'after', 'above', 'below', 'to',\n",
              "       'from', 'up', 'down', 'in', 'out', 'on', 'off', 'over', 'under',\n",
              "       'again', 'further', 'then', 'once', 'here', 'there', 'when',\n",
              "       'where', 'why', 'how', 'all', 'any', 'both', 'each', 'few', 'more',\n",
              "       'most', 'other', 'some', 'such', 'no', 'nor', 'not', 'only', 'own',\n",
              "       'same', 'so', 'than', 'too', 'very', 's', 't', 'can', 'will',\n",
              "       'just', 'don', \"don't\", 'should', \"should've\", 'now', 'd', 'll',\n",
              "       'm', 'o', 're', 've', 'y', 'ain', 'aren', \"aren't\", 'couldn',\n",
              "       \"couldn't\", 'didn', \"didn't\", 'doesn', \"doesn't\", 'hadn', \"hadn't\",\n",
              "       'hasn', \"hasn't\", 'haven', \"haven't\", 'isn', \"isn't\", 'ma',\n",
              "       'mightn', \"mightn't\", 'mustn', \"mustn't\", 'needn', \"needn't\",\n",
              "       'shan', \"shan't\", 'shouldn', \"shouldn't\", 'wasn', \"wasn't\",\n",
              "       'weren', \"weren't\", 'won', \"won't\", 'wouldn', \"wouldn't\"],\n",
              "      dtype='<U10')"
            ]
          },
          "metadata": {},
          "execution_count": 36
        }
      ]
    },
    {
      "cell_type": "code",
      "source": [
        "def stopwords(text):\n",
        "    '''a function for removing the stopword'''\n",
        "    # removing the stop words and lowercasing the selected words\n",
        "    text = [word.lower() for word in text.split() if word.lower() not in sw]\n",
        "    # joining the list of words with space separator\n",
        "    return \" \".join(text)"
      ],
      "metadata": {
        "id": "KF6PA91cIUgM"
      },
      "execution_count": null,
      "outputs": []
    },
    {
      "cell_type": "code",
      "source": [
        "# Removing stopwords from description.\n",
        "netflix_pca_df['filtered'] = netflix_pca_df['filtered'].apply(stopwords)"
      ],
      "metadata": {
        "id": "vGsyAn7gFwHi"
      },
      "execution_count": null,
      "outputs": []
    },
    {
      "cell_type": "code",
      "source": [
        "netflix_pca_df['filtered'] = netflix_pca_df['filtered'].apply(stemming)"
      ],
      "metadata": {
        "id": "54Cgs0vxGDWY"
      },
      "execution_count": null,
      "outputs": []
    },
    {
      "cell_type": "code",
      "source": [
        "# create the object of tfid vectorizer\n",
        "tfid_vectorizer = TfidfVectorizer(max_df = 0.9,min_df = 1, max_features=15000)\n",
        "\n",
        "# fit the vectorizer using the text data\n",
        "tfid_vectorizer.fit(netflix_pca_df['filtered'])\n",
        "\n",
        "words_list = list(tfid_vectorizer.get_feature_names_out())\n",
        "\n",
        "# collect the vocabulary items used in the vectorizer\n",
        "dictionary = tfid_vectorizer.vocabulary_.items()"
      ],
      "metadata": {
        "id": "bMkFwCSkGd7h"
      },
      "execution_count": null,
      "outputs": []
    },
    {
      "cell_type": "code",
      "source": [
        "# extract the tfid representation matrix of the text data\n",
        "tfid_matrix = tfid_vectorizer.transform(netflix_pca_df['filtered'])\n",
        "# collect the tfid matrix in numpy array\n",
        "array = tfid_matrix.toarray()"
      ],
      "metadata": {
        "id": "EjzYutK8GiOL"
      },
      "execution_count": null,
      "outputs": []
    },
    {
      "cell_type": "code",
      "source": [
        "array.shape"
      ],
      "metadata": {
        "colab": {
          "base_uri": "https://localhost:8080/"
        },
        "id": "yxeCKSCgJK3c",
        "outputId": "469a01db-e201-49ef-dc0c-6749fe7d6be3"
      },
      "execution_count": null,
      "outputs": [
        {
          "output_type": "execute_result",
          "data": {
            "text/plain": [
              "(7770, 15000)"
            ]
          },
          "metadata": {},
          "execution_count": 43
        }
      ]
    },
    {
      "cell_type": "code",
      "source": [
        "#PCA Code\n",
        "import numpy as np\n",
        "from sklearn.decomposition import PCA\n",
        "import matplotlib.pyplot as plt\n",
        "transformer = PCA()\n",
        "transformer.fit(array)"
      ],
      "metadata": {
        "colab": {
          "base_uri": "https://localhost:8080/"
        },
        "id": "PfNuWCIzd0jj",
        "outputId": "8b3a2a8c-ec3f-43e0-add9-5e380c0052b9"
      },
      "execution_count": null,
      "outputs": [
        {
          "output_type": "execute_result",
          "data": {
            "text/plain": [
              "PCA()"
            ]
          },
          "metadata": {},
          "execution_count": 44
        }
      ]
    },
    {
      "cell_type": "code",
      "source": [
        "#explained var v/s comp\n",
        "plt.plot(np.cumsum(transformer.explained_variance_ratio_))\n",
        "plt.xlabel('number of components')\n",
        "plt.ylabel('cumulative explained variance')"
      ],
      "metadata": {
        "colab": {
          "base_uri": "https://localhost:8080/",
          "height": 296
        },
        "id": "pJg8NM4neUS7",
        "outputId": "b839a7cc-a438-4fea-a218-44b97fe64c20"
      },
      "execution_count": null,
      "outputs": [
        {
          "output_type": "execute_result",
          "data": {
            "text/plain": [
              "Text(0, 0.5, 'cumulative explained variance')"
            ]
          },
          "metadata": {},
          "execution_count": 45
        },
        {
          "output_type": "display_data",
          "data": {
            "text/plain": [
              "<Figure size 432x288 with 1 Axes>"
            ],
            "image/png": "[encoded data removed]"
          },
          "metadata": {
            "needs_background": "light"
          }
        }
      ]
    },
    {
      "cell_type": "code",
      "source": [
        "#choosing right dim from plot, this might take a while, for ready ans use n_components = 3000\n",
        "from sklearn.decomposition import PCA\n",
        "transformer = PCA(n_components=3000)\n",
        "transformer.fit(array)\n",
        "X_transformed = transformer.transform(array)\n",
        "X_transformed.shape"
      ],
      "metadata": {
        "colab": {
          "base_uri": "https://localhost:8080/"
        },
        "id": "2aozUtWIh-MO",
        "outputId": "f6cc9624-b726-48d2-aa1f-c3d10cd6699b"
      },
      "execution_count": null,
      "outputs": [
        {
          "output_type": "execute_result",
          "data": {
            "text/plain": [
              "(7770, 3000)"
            ]
          },
          "metadata": {},
          "execution_count": 47
        }
      ]
    },
    {
      "cell_type": "code",
      "source": [
        "# Sample code to run the KElbowVisualizer\n",
        "from sklearn.cluster import KMeans"
      ],
      "metadata": {
        "id": "vvMWQiPcibzm"
      },
      "execution_count": null,
      "outputs": []
    },
    {
      "cell_type": "code",
      "source": [
        "# K-Means clustering\n",
        "Nc = range(4, 22)\n",
        "kmeans = [KMeans(n_clusters=i, init = 'k-means++', random_state = 42) for i in Nc]\n",
        "score = [kmeans[i].fit(array).score(array) for i in range(len(kmeans))]"
      ],
      "metadata": {
        "id": "QcP0cGVuHBqi"
      },
      "execution_count": null,
      "outputs": []
    },
    {
      "cell_type": "code",
      "source": [
        "import matplotlib.pyplot as plt\n",
        "plt.plot(Nc, score)\n",
        "  \n",
        "# naming the x axis\n",
        "plt.xlabel('Number of clusters')\n",
        "# naming the y axis\n",
        "plt.ylabel('score')\n",
        "  \n",
        "# giving a title to my graph\n",
        "plt.title('Elbow Curve')"
      ],
      "metadata": {
        "colab": {
          "base_uri": "https://localhost:8080/",
          "height": 312
        },
        "id": "8-E1Z1AcJs3e",
        "outputId": "556bc1cb-4769-4966-cb52-029b14e7478d"
      },
      "execution_count": null,
      "outputs": [
        {
          "output_type": "execute_result",
          "data": {
            "text/plain": [
              "Text(0.5, 1.0, 'Elbow Curve')"
            ]
          },
          "metadata": {},
          "execution_count": 52
        },
        {
          "output_type": "display_data",
          "data": {
            "text/plain": [
              "<Figure size 432x288 with 1 Axes>"
            ],
            "image/png": "[encoded data removed]"
          },
          "metadata": {
            "needs_background": "light"
          }
        }
      ]
    },
    {
      "cell_type": "code",
      "source": [
        "# silhouette score\n",
        "from sklearn.metrics import silhouette_score\n",
        "silhouettescore = []\n",
        "for i in range(3, 35, 2):\n",
        "  kmeans = KMeans(n_clusters = i, init = 'k-means++', random_state = 42)\n",
        "  kmeans.fit(array)\n",
        "  silhouettescore.append(silhouette_score(array, kmeans.labels_))"
      ],
      "metadata": {
        "id": "HDntrWfQJzZA"
      },
      "execution_count": null,
      "outputs": []
    },
    {
      "cell_type": "code",
      "source": [
        "import matplotlib.pyplot as plt\n",
        "plt.plot(range(3, 35, 2), silhouettescore)\n",
        "  \n",
        "# naming the x axis\n",
        "plt.xlabel('Number of clusters')\n",
        "# naming the y axis\n",
        "plt.ylabel('score')\n",
        "  \n",
        "# giving a title to my graph\n",
        "plt.title('Silhouette score Curve')"
      ],
      "metadata": {
        "colab": {
          "base_uri": "https://localhost:8080/",
          "height": 312
        },
        "id": "HTgLXysEP9H0",
        "outputId": "fd30af88-e3a1-49a2-eb12-767e955a0c25"
      },
      "execution_count": null,
      "outputs": [
        {
          "output_type": "execute_result",
          "data": {
            "text/plain": [
              "Text(0.5, 1.0, 'Silhouette score Curve')"
            ]
          },
          "metadata": {},
          "execution_count": 55
        },
        {
          "output_type": "display_data",
          "data": {
            "text/plain": [
              "<Figure size 432x288 with 1 Axes>"
            ],
            "image/png": "[encoded data removed]"
          },
          "metadata": {
            "needs_background": "light"
          }
        }
      ]
    },
    {
      "cell_type": "code",
      "source": [
        "# fitting the k means algorithm on lower features\n",
        "\n",
        "kmeans= KMeans(n_clusters=21, init= 'k-means++')\n",
        "kmeans.fit(array)"
      ],
      "metadata": {
        "colab": {
          "base_uri": "https://localhost:8080/"
        },
        "id": "tAYEtbImGZOp",
        "outputId": "6d04e8be-000c-4a2b-98fe-f879104df624"
      },
      "execution_count": null,
      "outputs": [
        {
          "output_type": "execute_result",
          "data": {
            "text/plain": [
              "KMeans(n_clusters=21)"
            ]
          },
          "metadata": {},
          "execution_count": 60
        }
      ]
    },
    {
      "cell_type": "code",
      "source": [
        "array"
      ],
      "metadata": {
        "colab": {
          "base_uri": "https://localhost:8080/"
        },
        "id": "PNAU5anXHxM9",
        "outputId": "a4c7b164-e8fb-4a75-b178-e1b64f6623d7"
      },
      "execution_count": null,
      "outputs": [
        {
          "output_type": "execute_result",
          "data": {
            "text/plain": [
              "array([[0., 0., 0., ..., 0., 0., 0.],\n",
              "       [0., 0., 0., ..., 0., 0., 0.],\n",
              "       [0., 0., 0., ..., 0., 0., 0.],\n",
              "       ...,\n",
              "       [0., 0., 0., ..., 0., 0., 0.],\n",
              "       [0., 0., 0., ..., 0., 0., 0.],\n",
              "       [0., 0., 0., ..., 0., 0., 0.]])"
            ]
          },
          "metadata": {},
          "execution_count": 62
        }
      ]
    },
    {
      "cell_type": "code",
      "source": [
        "#fitting\n",
        "cluster = kmeans.labels_"
      ],
      "metadata": {
        "id": "TyDZGWCIG3Fq"
      },
      "execution_count": null,
      "outputs": []
    },
    {
      "cell_type": "code",
      "source": [
        "cluster"
      ],
      "metadata": {
        "colab": {
          "base_uri": "https://localhost:8080/"
        },
        "id": "k8o7lyOFJ53v",
        "outputId": "d2d4eb1e-31c0-4e35-c06a-fb2b81b4e14a"
      },
      "execution_count": null,
      "outputs": [
        {
          "output_type": "execute_result",
          "data": {
            "text/plain": [
              "array([ 7, 15,  4, ...,  0,  5,  0], dtype=int32)"
            ]
          },
          "metadata": {},
          "execution_count": 64
        }
      ]
    },
    {
      "cell_type": "code",
      "source": [
        "import matplotlib.pyplot as plt\n",
        "plt.figure(figsize=(12,7))\n",
        "plt = sns.countplot(cluster)\n",
        "plt.set_xlabel(\"Cluster Number\")\n",
        "plt.set_ylabel(\"Data in a cluster\")"
      ],
      "metadata": {
        "colab": {
          "base_uri": "https://localhost:8080/",
          "height": 459
        },
        "id": "SMrB75egGZDn",
        "outputId": "ad67ad98-253a-4898-f705-982c7ea79299"
      },
      "execution_count": null,
      "outputs": [
        {
          "output_type": "execute_result",
          "data": {
            "text/plain": [
              "Text(0, 0.5, 'Data in a cluster')"
            ]
          },
          "metadata": {},
          "execution_count": 65
        },
        {
          "output_type": "display_data",
          "data": {
            "text/plain": [
              "<Figure size 864x504 with 1 Axes>"
            ],
            "image/png": "[encoded data removed]"
          },
          "metadata": {
            "needs_background": "light"
          }
        }
      ]
    },
    {
      "cell_type": "markdown",
      "source": [
        "Kids, Anime, Animation"
      ],
      "metadata": {
        "id": "7koPIETHKWw1"
      }
    },
    {
      "cell_type": "code",
      "source": [
        "netflix_df1['cluster'] = cluster"
      ],
      "metadata": {
        "id": "3UrIs449Kfl8"
      },
      "execution_count": null,
      "outputs": []
    },
    {
      "cell_type": "code",
      "source": [
        "# Get cluster number from given movie or TV show\n",
        "cluster_num = netflix_df1[netflix_df1.title=='13 Reasons Why'].cluster.item()\n",
        "\n",
        "# View cluster the movie or TV show belongs to\n",
        "netflix_df1[netflix_df1.cluster == cluster_num][:15]"
      ],
      "metadata": {
        "colab": {
          "base_uri": "https://localhost:8080/",
          "height": 1000
        },
        "id": "stdKX331KUtx",
        "outputId": "d2605952-f039-4d2b-fbda-adc8767f8987"
      },
      "execution_count": null,
      "outputs": [
        {
          "output_type": "execute_result",
          "data": {
            "text/plain": [
              "    show_id     type                                             title  \\\n",
              "0        s1  TV Show                                                3%   \n",
              "29      s30  TV Show                                          #blackAF   \n",
              "63      s64  TV Show                                    13 Reasons Why   \n",
              "85      s87  TV Show                      21 Sarfarosh: Saragarhi 1897   \n",
              "224    s226  TV Show                    A Series of Unfortunate Events   \n",
              "247    s249  TV Show                             A Very Secret Service   \n",
              "304    s307  TV Show                             Adam Ruins Everything   \n",
              "322    s325  TV Show                                        After Life   \n",
              "337    s340  TV Show                                             Agent   \n",
              "355    s358  TV Show                                  AJ and the Queen   \n",
              "403    s406  TV Show                                      All American   \n",
              "455    s458  TV Show                                    American Crime   \n",
              "456    s459  TV Show  American Crime Story: The People v. O.J. Simpson   \n",
              "466    s469  TV Show                             American Horror Story   \n",
              "469    s472  TV Show                                  American Odyssey   \n",
              "\n",
              "        director                                               cast  \\\n",
              "0    No Director  João Miguel, Bianca Comparato, Michel Gomes, R...   \n",
              "29   No Director  Kenya Barris, Rashida Jones, Iman Benson, Genn...   \n",
              "63   No Director  Dylan Minnette, Katherine Langford, Kate Walsh...   \n",
              "85   No Director                 Luke Kenny, Mohit Raina, Mukul Dev   \n",
              "224  No Director  Neil Patrick Harris, Patrick Warburton, Malina...   \n",
              "247  No Director  Hugo Becker, Wilfred Benaïche, Christophe Kour...   \n",
              "304  No Director           Adam Conover, Adam Lustick, Emily Axford   \n",
              "322  No Director  Ricky Gervais, Tom Basden, Tony Way, Diane Mor...   \n",
              "337  No Director  Khumbulani Kay Sibiya, Sisanda Henna, Tarynn W...   \n",
              "355  No Director  RuPaul Charles, Izzy G., Michael-Leon Wooley, ...   \n",
              "403  No Director  Daniel Ezra, Taye Diggs, Samantha Logan, Bre-Z...   \n",
              "455  No Director  Felicity Huffman, Timothy Hutton, Elvis Nolasc...   \n",
              "456  No Director  Cuba Gooding Jr., Sarah Paulson, John Travolta...   \n",
              "466  No Director  Evan Peters, Sarah Paulson, Jessica Lange, Den...   \n",
              "469  No Director  Anna Friel, Peter Facinelli, Jake Robinson, Ji...   \n",
              "\n",
              "                     country date_added  release_year rating   duration  \\\n",
              "0                     Brazil 2020-08-14          2020  TV-MA  4 Seasons   \n",
              "29             United States 2020-04-17          2020  TV-MA   1 Season   \n",
              "63             United States 2020-06-05          2020  TV-MA  4 Seasons   \n",
              "85                     India 2018-12-01          2018  TV-14   1 Season   \n",
              "224            United States 2019-01-01          2019  TV-PG  3 Seasons   \n",
              "247                   France 2018-07-30          2018  TV-MA  2 Seasons   \n",
              "304            United States 2018-09-30          2018  TV-14   1 Season   \n",
              "322           United Kingdom 2020-04-24          2020  TV-MA  2 Seasons   \n",
              "337  Mauritius, South Africa 2019-12-20          2019  TV-MA   1 Season   \n",
              "355            United States 2020-01-10          2020  TV-14   1 Season   \n",
              "403            United States 2020-03-17          2019  TV-14  2 Seasons   \n",
              "455            United States 2017-05-30          2017  TV-MA  3 Seasons   \n",
              "456            United States 2019-03-06          2016  TV-MA   1 Season   \n",
              "466            United States 2020-11-13          2019  TV-MA  9 Seasons   \n",
              "469            United States 2016-04-05          2015  TV-14   1 Season   \n",
              "\n",
              "                                             listed_in  \\\n",
              "0    International TV Shows, TV Dramas, TV Sci-Fi &...   \n",
              "29                                         TV Comedies   \n",
              "63             Crime TV Shows, TV Dramas, TV Mysteries   \n",
              "85                   International TV Shows, TV Dramas   \n",
              "224       Kids' TV, TV Action & Adventure, TV Comedies   \n",
              "247                International TV Shows, TV Comedies   \n",
              "304                                        TV Comedies   \n",
              "322  British TV Shows, International TV Shows, TV C...   \n",
              "337                  International TV Shows, TV Dramas   \n",
              "355                             TV Comedies, TV Dramas   \n",
              "403                           TV Dramas, Teen TV Shows   \n",
              "455                          Crime TV Shows, TV Dramas   \n",
              "456                          Crime TV Shows, TV Dramas   \n",
              "466              TV Horror, TV Mysteries, TV Thrillers   \n",
              "469                            TV Dramas, TV Thrillers   \n",
              "\n",
              "                                           description  month_added  \\\n",
              "0    In a future where the elite inhabit an island ...            8   \n",
              "29   Kenya Barris and his family navigate relations...            4   \n",
              "63   After a teenage girl's perplexing suicide, a c...            6   \n",
              "85   In one of history's greatest last stands, a ba...           12   \n",
              "224  The extraordinary Baudelaire orphans face tria...            1   \n",
              "247  At the height of the Cold War in 1960, André M...            7   \n",
              "304  Education can be fun – and funny. Comedian Ada...            9   \n",
              "322  Struggling to come to terms with his wife's de...            4   \n",
              "337  A former footballer tries to make it as a play...           12   \n",
              "355  While traveling across the country in a run-do...            1   \n",
              "403  Culture clashes and brewing rivalries test a t...            3   \n",
              "455  This anthology series unfolds a different stor...            5   \n",
              "456  This anthology series dramatizes historic crim...            3   \n",
              "466  This twisted Emmy-winning drama plays upon the...           11   \n",
              "469  An elite soldier, a corporate lawyer and a pol...            4   \n",
              "\n",
              "     year_added  cluster  \n",
              "0          2020        7  \n",
              "29         2020        7  \n",
              "63         2020        7  \n",
              "85         2018        7  \n",
              "224        2019        7  \n",
              "247        2018        7  \n",
              "304        2018        7  \n",
              "322        2020        7  \n",
              "337        2019        7  \n",
              "355        2020        7  \n",
              "403        2020        7  \n",
              "455        2017        7  \n",
              "456        2019        7  \n",
              "466        2020        7  \n",
              "469        2016        7  "
            ],
            "text/html": [
              "\n",
              "  <div id=\"df-e5cb921c-068f-4511-a6a1-ed1993621927\">\n",
              "    <div class=\"colab-df-container\">\n",
              "      <div>\n",
              "<style scoped>\n",
              "    .dataframe tbody tr th:only-of-type {\n",
              "        vertical-align: middle;\n",
              "    }\n",
              "\n",
              "    .dataframe tbody tr th {\n",
              "        vertical-align: top;\n",
              "    }\n",
              "\n",
              "    .dataframe thead th {\n",
              "        text-align: right;\n",
              "    }\n",
              "</style>\n",
              "<table border=\"1\" class=\"dataframe\">\n",
              "  <thead>\n",
              "    <tr style=\"text-align: right;\">\n",
              "      <th></th>\n",
              "      <th>show_id</th>\n",
              "      <th>type</th>\n",
              "      <th>title</th>\n",
              "      <th>director</th>\n",
              "      <th>cast</th>\n",
              "      <th>country</th>\n",
              "      <th>date_added</th>\n",
              "      <th>release_year</th>\n",
              "      <th>rating</th>\n",
              "      <th>duration</th>\n",
              "      <th>listed_in</th>\n",
              "      <th>description</th>\n",
              "      <th>month_added</th>\n",
              "      <th>year_added</th>\n",
              "      <th>cluster</th>\n",
              "    </tr>\n",
              "  </thead>\n",
              "  <tbody>\n",
              "    <tr>\n",
              "      <th>0</th>\n",
              "      <td>s1</td>\n",
              "      <td>TV Show</td>\n",
              "      <td>3%</td>\n",
              "      <td>No Director</td>\n",
              "      <td>João Miguel, Bianca Comparato, Michel Gomes, R...</td>\n",
              "      <td>Brazil</td>\n",
              "      <td>2020-08-14</td>\n",
              "      <td>2020</td>\n",
              "      <td>TV-MA</td>\n",
              "      <td>4 Seasons</td>\n",
              "      <td>International TV Shows, TV Dramas, TV Sci-Fi &amp;...</td>\n",
              "      <td>In a future where the elite inhabit an island ...</td>\n",
              "      <td>8</td>\n",
              "      <td>2020</td>\n",
              "      <td>7</td>\n",
              "    </tr>\n",
              "    <tr>\n",
              "      <th>29</th>\n",
              "      <td>s30</td>\n",
              "      <td>TV Show</td>\n",
              "      <td>#blackAF</td>\n",
              "      <td>No Director</td>\n",
              "      <td>Kenya Barris, Rashida Jones, Iman Benson, Genn...</td>\n",
              "      <td>United States</td>\n",
              "      <td>2020-04-17</td>\n",
              "      <td>2020</td>\n",
              "      <td>TV-MA</td>\n",
              "      <td>1 Season</td>\n",
              "      <td>TV Comedies</td>\n",
              "      <td>Kenya Barris and his family navigate relations...</td>\n",
              "      <td>4</td>\n",
              "      <td>2020</td>\n",
              "      <td>7</td>\n",
              "    </tr>\n",
              "    <tr>\n",
              "      <th>63</th>\n",
              "      <td>s64</td>\n",
              "      <td>TV Show</td>\n",
              "      <td>13 Reasons Why</td>\n",
              "      <td>No Director</td>\n",
              "      <td>Dylan Minnette, Katherine Langford, Kate Walsh...</td>\n",
              "      <td>United States</td>\n",
              "      <td>2020-06-05</td>\n",
              "      <td>2020</td>\n",
              "      <td>TV-MA</td>\n",
              "      <td>4 Seasons</td>\n",
              "      <td>Crime TV Shows, TV Dramas, TV Mysteries</td>\n",
              "      <td>After a teenage girl's perplexing suicide, a c...</td>\n",
              "      <td>6</td>\n",
              "      <td>2020</td>\n",
              "      <td>7</td>\n",
              "    </tr>\n",
              "    <tr>\n",
              "      <th>85</th>\n",
              "      <td>s87</td>\n",
              "      <td>TV Show</td>\n",
              "      <td>21 Sarfarosh: Saragarhi 1897</td>\n",
              "      <td>No Director</td>\n",
              "      <td>Luke Kenny, Mohit Raina, Mukul Dev</td>\n",
              "      <td>India</td>\n",
              "      <td>2018-12-01</td>\n",
              "      <td>2018</td>\n",
              "      <td>TV-14</td>\n",
              "      <td>1 Season</td>\n",
              "      <td>International TV Shows, TV Dramas</td>\n",
              "      <td>In one of history's greatest last stands, a ba...</td>\n",
              "      <td>12</td>\n",
              "      <td>2018</td>\n",
              "      <td>7</td>\n",
              "    </tr>\n",
              "    <tr>\n",
              "      <th>224</th>\n",
              "      <td>s226</td>\n",
              "      <td>TV Show</td>\n",
              "      <td>A Series of Unfortunate Events</td>\n",
              "      <td>No Director</td>\n",
              "      <td>Neil Patrick Harris, Patrick Warburton, Malina...</td>\n",
              "      <td>United States</td>\n",
              "      <td>2019-01-01</td>\n",
              "      <td>2019</td>\n",
              "      <td>TV-PG</td>\n",
              "      <td>3 Seasons</td>\n",
              "      <td>Kids' TV, TV Action &amp; Adventure, TV Comedies</td>\n",
              "      <td>The extraordinary Baudelaire orphans face tria...</td>\n",
              "      <td>1</td>\n",
              "      <td>2019</td>\n",
              "      <td>7</td>\n",
              "    </tr>\n",
              "    <tr>\n",
              "      <th>247</th>\n",
              "      <td>s249</td>\n",
              "      <td>TV Show</td>\n",
              "      <td>A Very Secret Service</td>\n",
              "      <td>No Director</td>\n",
              "      <td>Hugo Becker, Wilfred Benaïche, Christophe Kour...</td>\n",
              "      <td>France</td>\n",
              "      <td>2018-07-30</td>\n",
              "      <td>2018</td>\n",
              "      <td>TV-MA</td>\n",
              "      <td>2 Seasons</td>\n",
              "      <td>International TV Shows, TV Comedies</td>\n",
              "      <td>At the height of the Cold War in 1960, André M...</td>\n",
              "      <td>7</td>\n",
              "      <td>2018</td>\n",
              "      <td>7</td>\n",
              "    </tr>\n",
              "    <tr>\n",
              "      <th>304</th>\n",
              "      <td>s307</td>\n",
              "      <td>TV Show</td>\n",
              "      <td>Adam Ruins Everything</td>\n",
              "      <td>No Director</td>\n",
              "      <td>Adam Conover, Adam Lustick, Emily Axford</td>\n",
              "      <td>United States</td>\n",
              "      <td>2018-09-30</td>\n",
              "      <td>2018</td>\n",
              "      <td>TV-14</td>\n",
              "      <td>1 Season</td>\n",
              "      <td>TV Comedies</td>\n",
              "      <td>Education can be fun – and funny. Comedian Ada...</td>\n",
              "      <td>9</td>\n",
              "      <td>2018</td>\n",
              "      <td>7</td>\n",
              "    </tr>\n",
              "    <tr>\n",
              "      <th>322</th>\n",
              "      <td>s325</td>\n",
              "      <td>TV Show</td>\n",
              "      <td>After Life</td>\n",
              "      <td>No Director</td>\n",
              "      <td>Ricky Gervais, Tom Basden, Tony Way, Diane Mor...</td>\n",
              "      <td>United Kingdom</td>\n",
              "      <td>2020-04-24</td>\n",
              "      <td>2020</td>\n",
              "      <td>TV-MA</td>\n",
              "      <td>2 Seasons</td>\n",
              "      <td>British TV Shows, International TV Shows, TV C...</td>\n",
              "      <td>Struggling to come to terms with his wife's de...</td>\n",
              "      <td>4</td>\n",
              "      <td>2020</td>\n",
              "      <td>7</td>\n",
              "    </tr>\n",
              "    <tr>\n",
              "      <th>337</th>\n",
              "      <td>s340</td>\n",
              "      <td>TV Show</td>\n",
              "      <td>Agent</td>\n",
              "      <td>No Director</td>\n",
              "      <td>Khumbulani Kay Sibiya, Sisanda Henna, Tarynn W...</td>\n",
              "      <td>Mauritius, South Africa</td>\n",
              "      <td>2019-12-20</td>\n",
              "      <td>2019</td>\n",
              "      <td>TV-MA</td>\n",
              "      <td>1 Season</td>\n",
              "      <td>International TV Shows, TV Dramas</td>\n",
              "      <td>A former footballer tries to make it as a play...</td>\n",
              "      <td>12</td>\n",
              "      <td>2019</td>\n",
              "      <td>7</td>\n",
              "    </tr>\n",
              "    <tr>\n",
              "      <th>355</th>\n",
              "      <td>s358</td>\n",
              "      <td>TV Show</td>\n",
              "      <td>AJ and the Queen</td>\n",
              "      <td>No Director</td>\n",
              "      <td>RuPaul Charles, Izzy G., Michael-Leon Wooley, ...</td>\n",
              "      <td>United States</td>\n",
              "      <td>2020-01-10</td>\n",
              "      <td>2020</td>\n",
              "      <td>TV-14</td>\n",
              "      <td>1 Season</td>\n",
              "      <td>TV Comedies, TV Dramas</td>\n",
              "      <td>While traveling across the country in a run-do...</td>\n",
              "      <td>1</td>\n",
              "      <td>2020</td>\n",
              "      <td>7</td>\n",
              "    </tr>\n",
              "    <tr>\n",
              "      <th>403</th>\n",
              "      <td>s406</td>\n",
              "      <td>TV Show</td>\n",
              "      <td>All American</td>\n",
              "      <td>No Director</td>\n",
              "      <td>Daniel Ezra, Taye Diggs, Samantha Logan, Bre-Z...</td>\n",
              "      <td>United States</td>\n",
              "      <td>2020-03-17</td>\n",
              "      <td>2019</td>\n",
              "      <td>TV-14</td>\n",
              "      <td>2 Seasons</td>\n",
              "      <td>TV Dramas, Teen TV Shows</td>\n",
              "      <td>Culture clashes and brewing rivalries test a t...</td>\n",
              "      <td>3</td>\n",
              "      <td>2020</td>\n",
              "      <td>7</td>\n",
              "    </tr>\n",
              "    <tr>\n",
              "      <th>455</th>\n",
              "      <td>s458</td>\n",
              "      <td>TV Show</td>\n",
              "      <td>American Crime</td>\n",
              "      <td>No Director</td>\n",
              "      <td>Felicity Huffman, Timothy Hutton, Elvis Nolasc...</td>\n",
              "      <td>United States</td>\n",
              "      <td>2017-05-30</td>\n",
              "      <td>2017</td>\n",
              "      <td>TV-MA</td>\n",
              "      <td>3 Seasons</td>\n",
              "      <td>Crime TV Shows, TV Dramas</td>\n",
              "      <td>This anthology series unfolds a different stor...</td>\n",
              "      <td>5</td>\n",
              "      <td>2017</td>\n",
              "      <td>7</td>\n",
              "    </tr>\n",
              "    <tr>\n",
              "      <th>456</th>\n",
              "      <td>s459</td>\n",
              "      <td>TV Show</td>\n",
              "      <td>American Crime Story: The People v. O.J. Simpson</td>\n",
              "      <td>No Director</td>\n",
              "      <td>Cuba Gooding Jr., Sarah Paulson, John Travolta...</td>\n",
              "      <td>United States</td>\n",
              "      <td>2019-03-06</td>\n",
              "      <td>2016</td>\n",
              "      <td>TV-MA</td>\n",
              "      <td>1 Season</td>\n",
              "      <td>Crime TV Shows, TV Dramas</td>\n",
              "      <td>This anthology series dramatizes historic crim...</td>\n",
              "      <td>3</td>\n",
              "      <td>2019</td>\n",
              "      <td>7</td>\n",
              "    </tr>\n",
              "    <tr>\n",
              "      <th>466</th>\n",
              "      <td>s469</td>\n",
              "      <td>TV Show</td>\n",
              "      <td>American Horror Story</td>\n",
              "      <td>No Director</td>\n",
              "      <td>Evan Peters, Sarah Paulson, Jessica Lange, Den...</td>\n",
              "      <td>United States</td>\n",
              "      <td>2020-11-13</td>\n",
              "      <td>2019</td>\n",
              "      <td>TV-MA</td>\n",
              "      <td>9 Seasons</td>\n",
              "      <td>TV Horror, TV Mysteries, TV Thrillers</td>\n",
              "      <td>This twisted Emmy-winning drama plays upon the...</td>\n",
              "      <td>11</td>\n",
              "      <td>2020</td>\n",
              "      <td>7</td>\n",
              "    </tr>\n",
              "    <tr>\n",
              "      <th>469</th>\n",
              "      <td>s472</td>\n",
              "      <td>TV Show</td>\n",
              "      <td>American Odyssey</td>\n",
              "      <td>No Director</td>\n",
              "      <td>Anna Friel, Peter Facinelli, Jake Robinson, Ji...</td>\n",
              "      <td>United States</td>\n",
              "      <td>2016-04-05</td>\n",
              "      <td>2015</td>\n",
              "      <td>TV-14</td>\n",
              "      <td>1 Season</td>\n",
              "      <td>TV Dramas, TV Thrillers</td>\n",
              "      <td>An elite soldier, a corporate lawyer and a pol...</td>\n",
              "      <td>4</td>\n",
              "      <td>2016</td>\n",
              "      <td>7</td>\n",
              "    </tr>\n",
              "  </tbody>\n",
              "</table>\n",
              "</div>\n",
              "      <button class=\"colab-df-convert\" onclick=\"convertToInteractive('df-e5cb921c-068f-4511-a6a1-ed1993621927')\"\n",
              "              title=\"Convert this dataframe to an interactive table.\"\n",
              "              style=\"display:none;\">\n",
              "        \n",
              "  <svg xmlns=\"http://www.w3.org/2000/svg\" height=\"24px\"viewBox=\"0 0 24 24\"\n",
              "       width=\"24px\">\n",
              "    <path d=\"M0 0h24v24H0V0z\" fill=\"none\"/>\n",
              "    <path d=\"M18.56 5.44l.94 2.06.94-2.06 2.06-.94-2.06-.94-.94-2.06-.94 2.06-2.06.94zm-11 1L8.5 8.5l.94-2.06 2.06-.94-2.06-.94L8.5 2.5l-.94 2.06-2.06.94zm10 10l.94 2.06.94-2.06 2.06-.94-2.06-.94-.94-2.06-.94 2.06-2.06.94z\"/><path d=\"M17.41 7.96l-1.37-1.37c-.4-.4-.92-.59-1.43-.59-.52 0-1.04.2-1.43.59L10.3 9.45l-7.72 7.72c-.78.78-.78 2.05 0 2.83L4 21.41c.39.39.9.59 1.41.59.51 0 1.02-.2 1.41-.59l7.78-7.78 2.81-2.81c.8-.78.8-2.07 0-2.86zM5.41 20L4 18.59l7.72-7.72 1.47 1.35L5.41 20z\"/>\n",
              "  </svg>\n",
              "      </button>\n",
              "      \n",
              "  <style>\n",
              "    .colab-df-container {\n",
              "      display:flex;\n",
              "      flex-wrap:wrap;\n",
              "      gap: 12px;\n",
              "    }\n",
              "\n",
              "    .colab-df-convert {\n",
              "      background-color: #E8F0FE;\n",
              "      border: none;\n",
              "      border-radius: 50%;\n",
              "      cursor: pointer;\n",
              "      display: none;\n",
              "      fill: #1967D2;\n",
              "      height: 32px;\n",
              "      padding: 0 0 0 0;\n",
              "      width: 32px;\n",
              "    }\n",
              "\n",
              "    .colab-df-convert:hover {\n",
              "      background-color: #E2EBFA;\n",
              "      box-shadow: 0px 1px 2px rgba(60, 64, 67, 0.3), 0px 1px 3px 1px rgba(60, 64, 67, 0.15);\n",
              "      fill: #174EA6;\n",
              "    }\n",
              "\n",
              "    [theme=dark] .colab-df-convert {\n",
              "      background-color: #3B4455;\n",
              "      fill: #D2E3FC;\n",
              "    }\n",
              "\n",
              "    [theme=dark] .colab-df-convert:hover {\n",
              "      background-color: #434B5C;\n",
              "      box-shadow: 0px 1px 3px 1px rgba(0, 0, 0, 0.15);\n",
              "      filter: drop-shadow(0px 1px 2px rgba(0, 0, 0, 0.3));\n",
              "      fill: #FFFFFF;\n",
              "    }\n",
              "  </style>\n",
              "\n",
              "      <script>\n",
              "        const buttonEl =\n",
              "          document.querySelector('#df-e5cb921c-068f-4511-a6a1-ed1993621927 button.colab-df-convert');\n",
              "        buttonEl.style.display =\n",
              "          google.colab.kernel.accessAllowed ? 'block' : 'none';\n",
              "\n",
              "        async function convertToInteractive(key) {\n",
              "          const element = document.querySelector('#df-e5cb921c-068f-4511-a6a1-ed1993621927');\n",
              "          const dataTable =\n",
              "            await google.colab.kernel.invokeFunction('convertToInteractive',\n",
              "                                                     [key], {});\n",
              "          if (!dataTable) return;\n",
              "\n",
              "          const docLinkHtml = 'Like what you see? Visit the ' +\n",
              "            '<a target=\"_blank\" href=https://colab.research.google.com/notebooks/data_table.ipynb>data table notebook</a>'\n",
              "            + ' to learn more about interactive tables.';\n",
              "          element.innerHTML = '';\n",
              "          dataTable['output_type'] = 'display_data';\n",
              "          await google.colab.output.renderOutput(dataTable, element);\n",
              "          const docLink = document.createElement('div');\n",
              "          docLink.innerHTML = docLinkHtml;\n",
              "          element.appendChild(docLink);\n",
              "        }\n",
              "      </script>\n",
              "    </div>\n",
              "  </div>\n",
              "  "
            ]
          },
          "metadata": {},
          "execution_count": 71
        }
      ]
    },
    {
      "cell_type": "code",
      "source": [
        "!pip install matplotlib-venn\n",
        "import spacy\n",
        "nlp = spacy.load(\"en_core_web_sm\")"
      ],
      "metadata": {
        "colab": {
          "base_uri": "https://localhost:8080/"
        },
        "id": "KCNoDetGS3ok",
        "outputId": "a5ba4777-464b-4f49-affb-b43b85bfa5b0"
      },
      "execution_count": null,
      "outputs": [
        {
          "output_type": "stream",
          "name": "stdout",
          "text": [
            "Looking in indexes: https://pypi.org/simple, https://us-python.pkg.dev/colab-wheels/public/simple/\n",
            "Requirement already satisfied: matplotlib-venn in /usr/local/lib/python3.8/dist-packages (0.11.7)\n",
            "Requirement already satisfied: matplotlib in /usr/local/lib/python3.8/dist-packages (from matplotlib-venn) (3.2.2)\n",
            "Requirement already satisfied: scipy in /usr/local/lib/python3.8/dist-packages (from matplotlib-venn) (1.7.3)\n",
            "Requirement already satisfied: numpy in /usr/local/lib/python3.8/dist-packages (from matplotlib-venn) (1.21.6)\n",
            "Requirement already satisfied: pyparsing!=2.0.4,!=2.1.2,!=2.1.6,>=2.0.1 in /usr/local/lib/python3.8/dist-packages (from matplotlib->matplotlib-venn) (3.0.9)\n",
            "Requirement already satisfied: kiwisolver>=1.0.1 in /usr/local/lib/python3.8/dist-packages (from matplotlib->matplotlib-venn) (1.4.4)\n",
            "Requirement already satisfied: python-dateutil>=2.1 in /usr/local/lib/python3.8/dist-packages (from matplotlib->matplotlib-venn) (2.8.2)\n",
            "Requirement already satisfied: cycler>=0.10 in /usr/local/lib/python3.8/dist-packages (from matplotlib->matplotlib-venn) (0.11.0)\n",
            "Requirement already satisfied: six>=1.5 in /usr/local/lib/python3.8/dist-packages (from python-dateutil>=2.1->matplotlib->matplotlib-venn) (1.15.0)\n"
          ]
        },
        {
          "output_type": "stream",
          "name": "stderr",
          "text": [
            "/usr/local/lib/python3.8/dist-packages/torch/cuda/__init__.py:497: UserWarning: Can't initialize NVML\n",
            "  warnings.warn(\"Can't initialize NVML\")\n"
          ]
        }
      ]
    },
    {
      "cell_type": "code",
      "source": [
        "# Load the large model to get the vectors\n",
        "!nlp = spacy.load('en_core_web_lg')"
      ],
      "metadata": {
        "colab": {
          "base_uri": "https://localhost:8080/"
        },
        "id": "pRAIkk9VS8HX",
        "outputId": "f742860a-d17f-4946-f79f-01afecfb77e1"
      },
      "execution_count": null,
      "outputs": [
        {
          "output_type": "stream",
          "name": "stdout",
          "text": [
            "/bin/bash: -c: line 0: syntax error near unexpected token `('\n",
            "/bin/bash: -c: line 0: `nlp = spacy.load('en_core_web_lg')'\n"
          ]
        }
      ]
    },
    {
      "cell_type": "code",
      "source": [
        "# Create word vectors for all movie and TV show descriptions\n",
        "with nlp.disable_pipes():\n",
        "    vectors = np.array([nlp(film.description).vector for idx, film in netflix_df.iterrows()])"
      ],
      "metadata": {
        "id": "JX2hY6BUT21X"
      },
      "execution_count": null,
      "outputs": []
    },
    {
      "cell_type": "code",
      "source": [
        "# Function to analyze how similar two word vectors are\n",
        "def cosine_similarity(a, b):\n",
        "    return np.dot(a, b)/np.sqrt(a.dot(a)*b.dot(b))"
      ],
      "metadata": {
        "id": "qfb4Zk4vUKiE"
      },
      "execution_count": null,
      "outputs": []
    },
    {
      "cell_type": "code",
      "source": [
        "# Calculate the mean for all word vectors\n",
        "vec_mean = vectors.mean(axis=0)\n",
        "\n",
        "# Subtract the mean from the vectors\n",
        "centered = vectors - vec_mean "
      ],
      "metadata": {
        "id": "-w6W4nCWURqe"
      },
      "execution_count": null,
      "outputs": []
    },
    {
      "cell_type": "code",
      "source": [
        "# Function to get the indices of the five most similar descriptions\n",
        "def get_similar_description_indices(description_vec):\n",
        "    \n",
        "    # Calculate similarities between given description and other descriptions in the dataset\n",
        "    sims = np.array([cosine_similarity(description_vec - vec_mean, vec) for vec in centered])\n",
        "    \n",
        "    # Get the indices of the five most similar descriptions\n",
        "    most_similar_index = np.argsort(sims)[-6:-1]\n",
        "    \n",
        "    return most_similar_index"
      ],
      "metadata": {
        "id": "yHt8gIuhUV0L"
      },
      "execution_count": null,
      "outputs": []
    },
    {
      "cell_type": "code",
      "source": [
        "# Create array of lists containing indices of five most similar descriptions\n",
        "similar_indices = np.array([get_similar_description_indices(vec) for vec in vectors])"
      ],
      "metadata": {
        "id": "0ZiwqpnsUWkr"
      },
      "execution_count": null,
      "outputs": []
    },
    {
      "cell_type": "code",
      "source": [
        "test_index = netflix_df.index[netflix_df.title == \"Catch Me If You Can\"][0]\n",
        "\n",
        "print(\"Chosen Movie/TV Show\")\n",
        "print(netflix_df.title[test_index] + ': ' + netflix_df.description[test_index] + '\\n')\n",
        "print(\"Top Recommendations\")\n",
        "print(netflix_df.title[similar_indices[test_index][4]] + ': ' + netflix_df.description[similar_indices[test_index][4]] + '\\n')\n",
        "print(netflix_df.title[similar_indices[test_index][3]] + ': ' + netflix_df.description[similar_indices[test_index][3]] + '\\n')\n",
        "print(netflix_df.title[similar_indices[test_index][2]] + ': ' + netflix_df.description[similar_indices[test_index][2]] + '\\n')\n",
        "print(netflix_df.title[similar_indices[test_index][1]] + ': ' + netflix_df.description[similar_indices[test_index][1]] + '\\n')\n",
        "print(netflix_df.title[similar_indices[test_index][0]] + ': ' + netflix_df.description[similar_indices[test_index][0]] + '\\n')"
      ],
      "metadata": {
        "colab": {
          "base_uri": "https://localhost:8080/"
        },
        "id": "SCzv1Pg1Udlz",
        "outputId": "dfaa6f1b-6f7d-4d4f-9e04-bee27eeb17cd"
      },
      "execution_count": null,
      "outputs": [
        {
          "output_type": "stream",
          "name": "stdout",
          "text": [
            "Chosen Movie/TV Show\n",
            "Catch Me If You Can: An FBI agent makes it his mission to put cunning con man Frank Abagnale Jr. behind bars. But Frank not only eludes capture, he revels in the pursuit.\n",
            "\n",
            "Top Recommendations\n",
            "Stargate SG-1: Stargate Command roars into action when Jack O'Neill and his crew find a Stargates map that lets them combat alien maneuvers all across the galaxy.\n",
            "\n",
            "Qin Empire: Alliance: During the Warring States period, Qin state ruler Duke Xiao recruits statesman Shang Yang to help enact bold reforms that transform western China.\n",
            "\n",
            "Sword Art Online Alternative: Gun Gale Online: College student Karen takes up Gun Gale Online and gets a reputation as the Pink Demon. Then her gaming buddy Pitohui asks her to join the Squad Jam.\n",
            "\n",
            "Bill Hicks: Reflections: This documentary about comedian Bill Hicks offers insight into his irreverent takes on, well, everything. Brother Steve Hicks is the star witness.\n",
            "\n",
            "The Aerial: In the City Without a Voice, only faceless singer the Voice can still vocalize. Everyone else has lost the power of speech as they let Mr. TV's broadcasts speak for them. But when Mr. TV kidnaps the Voice, things change.\n",
            "\n"
          ]
        }
      ]
    },
    {
      "cell_type": "markdown",
      "metadata": {
        "id": "IQgtrWSA79se"
      },
      "source": [
        "### **Conclusion:**\n",
        "\n",
        "1. We started by replacing Nan values with No Director, No Cast, and Country Not Available for director, cast, and country respectively. Nan values were dropped from date_added and rating features.\n",
        "2. 'date_added' feature is used to obtain the 'month_added' and 'year_added' features.\n",
        "3. As a first step, we compare the top 20 countries by type - Movies vs TV Shows. From the dataset, we select country-specific data and compute LDA and Document Term Matrix(DTM). Several plots were taken to evaluate the available content for specific countries. There were several conclusions made regarding the United States, as an example.\n",
        "4. In the feature engineering - the rating values were reassigned, ordinal encoding was used on the type, the string value was dropped from the duration, etc.\n",
        "5. K-Means Clustering was performed on type, director, cast, country, year_added, month_added, release_year, rating, duration, listed_in features. The silhouette_score was used to calculate the number of clusters.\n",
        "A test on '13 Reasons Why' was then conducted to determine the recommendations.\n",
        "6. In NLP, we used only the description to determine recommendations.\n",
        "7. A K-means clustering dataset with TF-IDF vectoriser from NLP is then combined for clustering with a little tweaking in the features."
      ]
    },
    {
      "cell_type": "markdown",
      "metadata": {
        "id": "2wyjfhRQOXr4"
      },
      "source": [
        "1. A recommendation system with the description column works well.\n",
        "2. In the case of K-means, the optimal number of clusters are 12.\n",
        "3. When K-means is applied to the description sum column, the optimal number of clusters was also 12. \n",
        "4. Clustering with the description column did make a few changes in the earlier recommendations.\n",
        "5. The optimal number of clusters was calculated using silhouette_score.\n",
        "\n"
      ]
    },
    {
      "cell_type": "markdown",
      "metadata": {
        "id": "3hJ4T4nqPygp"
      },
      "source": [
        "1. The most content type on Netflix is movies.\n",
        "2. The largest count of Netflix content is made with a 'TV-MA' rating.\n",
        "3. After 2014 the amount of content added has been increasing significantly.\n",
        "4. The number of movies in 2020 have reduced compared to the previous year. However, the number of TV shows has increased.\n",
        "5. While most TV seasons have only 1 season, movie lengths follow a normal distribution with a mean of 100 minutes.\n",
        "6. According to the amount of content produced, the United States is the top country.\n",
        "7. International Movies are a genre mostly found on Netflix.\n",
        "8. In terms of titles, Jan Suter is the most popular director on Netflix.\n",
        "9. Anupam Kher is the most popular Netflix cast member, according to number of movies made.\n",
        "10. In 2018, 2019, and 2020, the majority of films were released.\n",
        "11. A large number of movies and TV Shows were released in October, November, December, and January."
      ]
    }
  ],
  "metadata": {
    "colab": {
      "collapsed_sections": [
        "4t6Fa29qoVdY",
        "5UMv6BRhpw5F",
        "-9v2dL3C7tI3",
        "r2IPphfhSiOu",
        "2HZh9PvJ2Ys-",
        "orp_m3JlCwNS"
      ],
      "provenance": [],
      "include_colab_link": true
    },
    "kernelspec": {
      "display_name": "Python 3",
      "name": "python3"
    },
    "language_info": {
      "name": "python"
    }
  },
  "nbformat": 4,
  "nbformat_minor": 0
}